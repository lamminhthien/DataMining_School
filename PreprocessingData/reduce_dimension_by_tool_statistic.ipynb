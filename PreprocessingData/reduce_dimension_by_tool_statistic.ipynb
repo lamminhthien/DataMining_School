{
 "cells": [
  {
   "cell_type": "code",
   "execution_count": 1,
   "metadata": {},
   "outputs": [],
   "source": [
    "import numpy as np"
   ]
  },
  {
   "cell_type": "code",
   "execution_count": 22,
   "metadata": {},
   "outputs": [],
   "source": [
    "dataSet = [\n",
    "    [0.3,0.7,'A'],\n",
    "    [0.2,0.9,'B'],\n",
    "    [0.6,0.6,'A'],\n",
    "    [0.5,0.5,'A'],\n",
    "    [0.7,0.7,'B'],\n",
    "    [0.4,0.9,'B']\n",
    "]"
   ]
  },
  {
   "cell_type": "code",
   "execution_count": 23,
   "metadata": {},
   "outputs": [
    {
     "data": {
      "text/plain": [
       "[[0.3, 0.7, 'A'],\n",
       " [0.2, 0.9, 'B'],\n",
       " [0.6, 0.6, 'A'],\n",
       " [0.5, 0.5, 'A'],\n",
       " [0.7, 0.7, 'B'],\n",
       " [0.4, 0.9, 'B']]"
      ]
     },
     "execution_count": 23,
     "metadata": {},
     "output_type": "execute_result"
    }
   ],
   "source": [
    "dataSet"
   ]
  },
  {
   "cell_type": "code",
   "execution_count": 29,
   "metadata": {},
   "outputs": [],
   "source": [
    "dataSetMatrix = np.array(dataSet)"
   ]
  },
  {
   "cell_type": "code",
   "execution_count": 31,
   "metadata": {},
   "outputs": [
    {
     "name": "stdout",
     "output_type": "stream",
     "text": [
      "Ya = ['0.3' '0.7' 'A'] \n",
      "Ya = ['0.6' '0.6' 'A'] \n",
      "Ya = ['0.5' '0.5' 'A'] \n"
     ]
    }
   ],
   "source": [
    "# Phân lớp các feauture X  của dataset theo lớp 'A' ở cột C\n",
    "X_A_column = []\n",
    "X_B_column = []\n",
    "Y_A_column = []\n",
    "Y_B_column = []\n",
    "for i in dataSetMatrix:\n",
    "    if (i[2] == 'A'):\n",
    "        print(f'Ya = {i} ')\n",
    "        X_A_column.append(float(i[0]))\n",
    "        Y_A_column.append(float(i[1]))\n",
    "    if (i[2] == 'B'):\n",
    "        X_B_column.append(float(i[0]))\n",
    "        Y_B_column.append(float(i[1]))\n",
    "\n"
   ]
  },
  {
   "cell_type": "code",
   "execution_count": 27,
   "metadata": {},
   "outputs": [],
   "source": [
    "import statistics\n"
   ]
  },
  {
   "cell_type": "code",
   "execution_count": 32,
   "metadata": {},
   "outputs": [],
   "source": [
    "var_Xa = statistics.variance(X_A_column)\n",
    "var_Xb = statistics.variance(X_B_column)\n",
    "var_Ya = statistics.variance(Y_A_column)\n",
    "var_Yb = statistics.variance(Y_B_column)"
   ]
  },
  {
   "cell_type": "code",
   "execution_count": 33,
   "metadata": {},
   "outputs": [],
   "source": [
    "import math"
   ]
  },
  {
   "cell_type": "code",
   "execution_count": null,
   "metadata": {},
   "outputs": [],
   "source": [
    "\n",
    "SE_Xa_Xb = math.sqrt( (var_Xa/len(X_A_column)) + ())"
   ]
  }
 ],
 "metadata": {
  "interpreter": {
   "hash": "0f93bf75dccce2e11e3e0fe88cb893e67da4cec469989fda437a3a2f92a39a17"
  },
  "kernelspec": {
   "display_name": "Python 3.6.13 ('DataMining')",
   "language": "python",
   "name": "python3"
  },
  "language_info": {
   "codemirror_mode": {
    "name": "ipython",
    "version": 3
   },
   "file_extension": ".py",
   "mimetype": "text/x-python",
   "name": "python",
   "nbconvert_exporter": "python",
   "pygments_lexer": "ipython3",
   "version": "3.6.13"
  },
  "orig_nbformat": 4
 },
 "nbformat": 4,
 "nbformat_minor": 2
}
