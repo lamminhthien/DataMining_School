{
 "cells": [
  {
   "cell_type": "code",
   "execution_count": 60,
   "metadata": {},
   "outputs": [],
   "source": [
    "# import requests_html\n",
    "# session = requests_html.HTMLSession()\n",
    "# fetch = session.get('https://www.androidauthority.com/')\n",
    "f = open('android_authority.html','r')\n",
    "f = f.readline()"
   ]
  },
  {
   "cell_type": "code",
   "execution_count": 70,
   "metadata": {},
   "outputs": [],
   "source": [
    "# print(f.split(' '))\n",
    "data = f.split(' ') \n"
   ]
  },
  {
   "cell_type": "code",
   "execution_count": 71,
   "metadata": {},
   "outputs": [],
   "source": [
    "import html2text\n"
   ]
  },
  {
   "cell_type": "code",
   "execution_count": 83,
   "metadata": {},
   "outputs": [
    {
     "name": "stdout",
     "output_type": "stream",
     "text": [
      "!['this is picture'](https://www.androidauthority.com/wp-content/uploads/2022/04/samsung-galaxy-a53-standing-1200w-675h.jpg.webp)\n",
      "0\n",
      "-1\n",
      "!['this is picture'](https://www.androidauthority.com/wp-content/uploads/2022/03/google-pixel-6-pro-front-cherry-trees-1-1200w-675h.jpg.webp)\n",
      "0\n",
      "-1\n",
      "!['this is picture'](https://www.androidauthority.com/wp-content/uploads/2022/02/Blink-Video-Doorbell-Close-Up-1200w-675h.jpg.webp)\n",
      "0\n",
      "-1\n",
      "!['this is picture'](https://www.androidauthority.com/wp-content/uploads/2022/03/OnePlus-10-Pro-top-view-showing-battery-stats-1200w-675h.jpg.webp)\n",
      "0\n",
      "-1\n",
      "!['this is picture'](https://www.androidauthority.com/wp-content/uploads/2022/04/Just-Watch-popular-tv-shows-1200w-675h.jpg.webp)\n",
      "0\n",
      "-1\n",
      "!['this is picture'](https://www.androidauthority.com/wp-content/uploads/2021/10/google-pixel-6-review-sorta-seafoam-camera-app-in-alley-1200w-675h.jpg.webp)\n",
      "0\n",
      "-1\n",
      "!['this is picture'](https://www.androidauthority.com/wp-content/uploads/2022/03/google-pixel-6-pro-back-camera-bump-close-up-1200w-675h.jpg.webp)\n",
      "0\n",
      "-1\n",
      "!['this is picture'](https://www.androidauthority.com/wp-content/uploads/2021/08/Samsung-Galaxy-Z-Fold-3-open-front-bricks-left-1200w-675h.jpg.webp)\n",
      "0\n",
      "-1\n",
      "!['this is picture'](https://www.androidauthority.com/wp-content/uploads/2022/02/Blink-Video-Doorbell-Close-Up-1200w-675h.jpg.webp)\n",
      "0\n",
      "-1\n",
      "!['this is picture'](https://www.androidauthority.com/wp-content/uploads/2021/11/Google-Android-12-Easter-Egg-on-Pixel-6-Pro-1200w-675h.jpg.webp)\n",
      "0\n",
      "-1\n"
     ]
    }
   ],
   "source": [
    "h = html2text.HTML2Text()\n",
    "h.images_as_html = True\n",
    "h.ignore_links = True\n",
    "# print(len(fetch.content))\n",
    "# print(h.handle(fetch.text))\n",
    "# for line in f:\n",
    "#     print(h.handle(line))\n",
    "for d in data:\n",
    "    if (d.endswith('1200w-675h.jpg.webp')):\n",
    "        if (d.find('\"><')==-1):\n",
    "            print(f\"!['this is picture']({d[d.find('http'):]})\")\n",
    "        else:\n",
    "            print(f\"!['this is picture']({d[d.find('http'):d.find('><')]})\")\n",
    "        print(d.find('http'))\n",
    "        print(d.find('\"><'))"
   ]
  },
  {
   "cell_type": "code",
   "execution_count": 10,
   "metadata": {},
   "outputs": [],
   "source": [
    "# Mở file html\n",
    "# Đọc thành 1 dòng\n",
    "# Chuyển qua beautiful soup 4 để truy vấn toàn bộ href \n",
    "f = open('genk._sourcePage.html','r')\n",
    "f = f.read()\n"
   ]
  },
  {
   "cell_type": "code",
   "execution_count": null,
   "metadata": {},
   "outputs": [],
   "source": [
    "f"
   ]
  },
  {
   "cell_type": "code",
   "execution_count": 14,
   "metadata": {},
   "outputs": [],
   "source": [
    "from bs4 import BeautifulSoup\n",
    "soup = BeautifulSoup(f,'lxml')"
   ]
  },
  {
   "cell_type": "code",
   "execution_count": null,
   "metadata": {},
   "outputs": [],
   "source": [
    "soup"
   ]
  },
  {
   "cell_type": "code",
   "execution_count": null,
   "metadata": {},
   "outputs": [],
   "source": [
    "# Tìm hình ảnh\n",
    "for a in soup.find_all('img'):\n",
    "    print(a)"
   ]
  },
  {
   "cell_type": "code",
   "execution_count": null,
   "metadata": {},
   "outputs": [],
   "source": [
    "import html2text\n",
    "h = html2text.HTML2Text()\n",
    "for a in soup:\n",
    "    print(h.handle(str(a)))"
   ]
  },
  {
   "cell_type": "code",
   "execution_count": null,
   "metadata": {},
   "outputs": [],
   "source": []
  },
  {
   "cell_type": "code",
   "execution_count": 33,
   "metadata": {},
   "outputs": [
    {
     "name": "stdout",
     "output_type": "stream",
     "text": [
      "[youtube:tab] Downloading playlist PLdM751AKK4aNHS24VakVoziSsPS6cCOZb; add --no-playlist to just download video 4hY-St_pSIY\n",
      "[youtube:tab] PLdM751AKK4aNHS24VakVoziSsPS6cCOZb: Downloading webpage\n",
      "[youtube:tab] PLdM751AKK4aNHS24VakVoziSsPS6cCOZb: Downloading webpage\n",
      "[youtube:tab] PLdM751AKK4aNHS24VakVoziSsPS6cCOZb: Downloading API JSON with unavailable videos\n",
      "[download] Downloading playlist: Hiệp sĩ xương trên đường du hành đến thế giới khác [Việt sub]\n",
      "[youtube:tab] playlist Hiệp sĩ xương trên đường du hành đến thế giới khác [Việt sub]: Downloading 2 videos\n",
      "[download] Downloading video 1 of 2\n",
      "[youtube] 4hY-St_pSIY: Downloading webpage\n",
      "[youtube] 4hY-St_pSIY: Downloading android player API JSON\n",
      "[info] 4hY-St_pSIY: Downloading 1 format(s): sb0\n",
      "[mhtml] Total fragments: 6\n",
      "[download] Destination: Hiệp sĩ xương trên đường du hành đến thế giới khác - Tập 01 [Việt sub] [4hY-St_pSIY].mhtml\n",
      "[download] 100% of 302.79KiB in 00:01                              \n",
      "[download] Downloading video 2 of 2\n",
      "[youtube] P7y4DFIhZUM: Downloading webpage\n",
      "[youtube] P7y4DFIhZUM: Downloading android player API JSON\n",
      "[info] P7y4DFIhZUM: Downloading 1 format(s): sb0\n",
      "[mhtml] Total fragments: 6\n",
      "[download] Destination: Hiệp sĩ xương trên đường du hành đến thế giới khác - Tập 02 [Việt sub] [P7y4DFIhZUM].mhtml\n",
      "[download] 100% of 274.58KiB in 00:01                              \n",
      "[download] Finished downloading playlist: Hiệp sĩ xương trên đường du hành đến thế giới khác [Việt sub]\n"
     ]
    },
    {
     "data": {
      "text/plain": [
       "0"
      ]
     },
     "execution_count": 33,
     "metadata": {},
     "output_type": "execute_result"
    }
   ],
   "source": [
    "#os.system('yt-dlp -f sb0 https://youtu.be/4hY-St_pSIY?list=PLdM751AKK4aNHS24VakVoziSsPS6cCOZb')"
   ]
  },
  {
   "cell_type": "code",
   "execution_count": null,
   "metadata": {},
   "outputs": [],
   "source": []
  }
 ],
 "metadata": {
  "interpreter": {
   "hash": "c156cbd56f2befb501b04e4bcafbb3ceb498087e79117ebbae5589b514d9d978"
  },
  "kernelspec": {
   "display_name": "Python 3.9.7 64-bit ('miniconda3')",
   "language": "python",
   "name": "python3"
  },
  "language_info": {
   "codemirror_mode": {
    "name": "ipython",
    "version": 3
   },
   "file_extension": ".py",
   "mimetype": "text/x-python",
   "name": "python",
   "nbconvert_exporter": "python",
   "pygments_lexer": "ipython3",
   "version": "3.9.7"
  },
  "orig_nbformat": 4
 },
 "nbformat": 4,
 "nbformat_minor": 2
}
