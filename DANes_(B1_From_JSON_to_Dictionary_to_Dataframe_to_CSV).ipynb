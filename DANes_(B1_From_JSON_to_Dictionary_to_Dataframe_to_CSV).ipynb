{
  "nbformat": 4,
  "nbformat_minor": 0,
  "metadata": {
    "colab": {
      "name": "DANes (B1: From JSON to Dictionary to Dataframe to CSV)",
      "provenance": [],
      "collapsed_sections": [],
      "authorship_tag": "ABX9TyO8ABiY8j6UrBhdTWZN8dAg",
      "include_colab_link": true
    },
    "kernelspec": {
      "name": "python3",
      "display_name": "Python 3"
    },
    "language_info": {
      "name": "python"
    }
  },
  "cells": [
    {
      "cell_type": "markdown",
      "metadata": {
        "id": "view-in-github",
        "colab_type": "text"
      },
      "source": [
        "<a href=\"https://colab.research.google.com/github/lamminhthien/DataMining_School/blob/master/DANes_(B1_From_JSON_to_Dictionary_to_Dataframe_to_CSV).ipynb\" target=\"_parent\"><img src=\"https://colab.research.google.com/assets/colab-badge.svg\" alt=\"Open In Colab\"/></a>"
      ]
    },
    {
      "cell_type": "markdown",
      "source": [
        "\n",
        "\n",
        "**Download JSON File**\n",
        "\n"
      ],
      "metadata": {
        "id": "eYaFk8BsQTqJ"
      }
    },
    {
      "cell_type": "code",
      "source": [
        "!curl https://raw.githubusercontent.com/dataset-vn/DANeS/main/raw_data/DANeS_batch_%238.json --output DANes_8.json"
      ],
      "metadata": {
        "colab": {
          "base_uri": "https://localhost:8080/"
        },
        "id": "f9OrNgkRIm7j",
        "outputId": "08b8e2ce-a4ff-47cb-ae41-3e089a35bccd"
      },
      "execution_count": 61,
      "outputs": [
        {
          "output_type": "stream",
          "name": "stdout",
          "text": [
            "  % Total    % Received % Xferd  Average Speed   Time    Time     Time  Current\n",
            "                                 Dload  Upload   Total   Spent    Left  Speed\n",
            "100 2371k  100 2371k    0     0   9.7M      0 --:--:-- --:--:-- --:--:--  9.8M\n"
          ]
        }
      ]
    },
    {
      "cell_type": "markdown",
      "source": [
        "**Check current directory**"
      ],
      "metadata": {
        "id": "CxqgHO1VLlnr"
      }
    },
    {
      "cell_type": "code",
      "execution_count": 1,
      "metadata": {
        "colab": {
          "base_uri": "https://localhost:8080/"
        },
        "id": "eVjpcmEBGQDa",
        "outputId": "1387e9b8-93da-43c9-ab32-4cc2b6eea026"
      },
      "outputs": [
        {
          "output_type": "stream",
          "name": "stdout",
          "text": [
            "/content\n"
          ]
        }
      ],
      "source": [
        "!pwd"
      ]
    },
    {
      "cell_type": "markdown",
      "source": [
        "**Import Library**"
      ],
      "metadata": {
        "id": "GVrfgsLTLpzQ"
      }
    },
    {
      "cell_type": "code",
      "source": [
        "import pandas as pd\n"
      ],
      "metadata": {
        "id": "tRY-OuGgGjaB"
      },
      "execution_count": 102,
      "outputs": []
    },
    {
      "cell_type": "markdown",
      "source": [
        "**Load Json File**"
      ],
      "metadata": {
        "id": "PUdim-g_QviC"
      }
    },
    {
      "cell_type": "code",
      "source": [
        "import json"
      ],
      "metadata": {
        "id": "dwnhHPOSLduW"
      },
      "execution_count": 52,
      "outputs": []
    },
    {
      "cell_type": "code",
      "source": [
        "f = open('DANes_8.json')"
      ],
      "metadata": {
        "id": "yKtFs0vWObtw"
      },
      "execution_count": 62,
      "outputs": []
    },
    {
      "cell_type": "code",
      "source": [
        "data = json.load(f)\n",
        "f.close()"
      ],
      "metadata": {
        "id": "rVfpR5z7Pbs8"
      },
      "execution_count": 64,
      "outputs": []
    },
    {
      "cell_type": "markdown",
      "source": [
        "**Create Data Text Array**"
      ],
      "metadata": {
        "id": "UjH9rRmuVZ2P"
      }
    },
    {
      "cell_type": "code",
      "source": [
        "data_text = []\n",
        "for data_detail in data:\n",
        "  data_text.append(data_detail['text'])"
      ],
      "metadata": {
        "id": "mHpvYg2eUVtG"
      },
      "execution_count": 97,
      "outputs": []
    },
    {
      "cell_type": "markdown",
      "source": [
        "**Create Data Description Array**"
      ],
      "metadata": {
        "id": "3mER9gzgVdcB"
      }
    },
    {
      "cell_type": "code",
      "source": [
        "data_description = []\n",
        "for data_detail in data:\n",
        "  data_description.append(data_detail['meta']['description'])"
      ],
      "metadata": {
        "id": "rWPQ31bzVHpA"
      },
      "execution_count": 99,
      "outputs": []
    },
    {
      "cell_type": "markdown",
      "source": [
        "**Create Data URI**"
      ],
      "metadata": {
        "id": "rcRIJ3NfWGYX"
      }
    },
    {
      "cell_type": "code",
      "source": [
        "data_uri = []\n",
        "for data_detail in data:\n",
        "  data_uri.append(data_detail['meta']['uri'])"
      ],
      "metadata": {
        "id": "CXoqu5BKV_ft"
      },
      "execution_count": 101,
      "outputs": []
    },
    {
      "cell_type": "markdown",
      "source": [
        "**Join all type of data to one with dictionary**"
      ],
      "metadata": {
        "id": "F950ZnJ-Wqf6"
      }
    },
    {
      "cell_type": "code",
      "source": [
        "data_join = {\n",
        "    'Title' : data_text,\n",
        "    'Description' : data_description,\n",
        "    'URI' : data_uri\n",
        "}"
      ],
      "metadata": {
        "id": "EURO9pWlWOtZ"
      },
      "execution_count": 110,
      "outputs": []
    },
    {
      "cell_type": "markdown",
      "source": [
        "**Create Dataframe**"
      ],
      "metadata": {
        "id": "-srBlMqoWOah"
      }
    },
    {
      "cell_type": "code",
      "source": [
        "df = pd.DataFrame(data_join)"
      ],
      "metadata": {
        "id": "bcDHLoKnX-3F"
      },
      "execution_count": 111,
      "outputs": []
    },
    {
      "cell_type": "code",
      "source": [
        "df.head()"
      ],
      "metadata": {
        "colab": {
          "base_uri": "https://localhost:8080/",
          "height": 479
        },
        "id": "K9zGbX-UYDEq",
        "outputId": "6f7a1ad4-4ee6-4d01-ca96-3c63ec6cdcc5"
      },
      "execution_count": 112,
      "outputs": [
        {
          "output_type": "execute_result",
          "data": {
            "text/html": [
              "\n",
              "  <div id=\"df-473314e4-156b-4fd3-83ab-f09c63d0532d\">\n",
              "    <div class=\"colab-df-container\">\n",
              "      <div>\n",
              "<style scoped>\n",
              "    .dataframe tbody tr th:only-of-type {\n",
              "        vertical-align: middle;\n",
              "    }\n",
              "\n",
              "    .dataframe tbody tr th {\n",
              "        vertical-align: top;\n",
              "    }\n",
              "\n",
              "    .dataframe thead th {\n",
              "        text-align: right;\n",
              "    }\n",
              "</style>\n",
              "<table border=\"1\" class=\"dataframe\">\n",
              "  <thead>\n",
              "    <tr style=\"text-align: right;\">\n",
              "      <th></th>\n",
              "      <th>Title</th>\n",
              "      <th>Description</th>\n",
              "      <th>URI</th>\n",
              "    </tr>\n",
              "  </thead>\n",
              "  <tbody>\n",
              "    <tr>\n",
              "      <th>0</th>\n",
              "      <td>1,28 tỷ USD vốn FDI đầu tư vào Hà Nội trong 9 ...</td>\n",
              "      <td></td>\n",
              "      <td>https://hoanhap.vn/chi-tiet/128-ty-usd-von-fdi...</td>\n",
              "    </tr>\n",
              "    <tr>\n",
              "      <th>1</th>\n",
              "      <td>Từ đêm 12/9- 15/9: Thanh Hóa có khả năng xảy r...</td>\n",
              "      <td>(TTV)- Hiện nay, dải hội tụ nhiệt đới có trục ...</td>\n",
              "      <td>http://truyenhinhthanhhoa.vn/thoi-tiet/202109/...</td>\n",
              "    </tr>\n",
              "    <tr>\n",
              "      <th>2</th>\n",
              "      <td>Đề xuất lập quỹ bảo lãnh cho vay 100.000 tỷ đồ...</td>\n",
              "      <td>Liên minh Doanh nghiệp vừa và nhỏ vừa kiến ngh...</td>\n",
              "      <td>https://ndh.vn/vi-mo/de-xuat-lap-quy-bao-lanh-...</td>\n",
              "    </tr>\n",
              "    <tr>\n",
              "      <th>3</th>\n",
              "      <td>[Funland] - Nga có đám cưới hoàng gia đầu tiên...</td>\n",
              "      <td>Link : https://tuoitre.vn/nga-co-dam-cuoi-hoan...</td>\n",
              "      <td>https://www.otofun.net/threads/nga-co-dam-cuoi...</td>\n",
              "    </tr>\n",
              "    <tr>\n",
              "      <th>4</th>\n",
              "      <td>Xu hướng căn hộ sức khoẻ \"lên ngôi\" trong bối ...</td>\n",
              "      <td>Trong bối cảnh đại dịch COVID-19 vẫn diễn biến...</td>\n",
              "      <td>https://bnews.vn/xu-huong-can-ho-suc-khoe-len-...</td>\n",
              "    </tr>\n",
              "  </tbody>\n",
              "</table>\n",
              "</div>\n",
              "      <button class=\"colab-df-convert\" onclick=\"convertToInteractive('df-473314e4-156b-4fd3-83ab-f09c63d0532d')\"\n",
              "              title=\"Convert this dataframe to an interactive table.\"\n",
              "              style=\"display:none;\">\n",
              "        \n",
              "  <svg xmlns=\"http://www.w3.org/2000/svg\" height=\"24px\"viewBox=\"0 0 24 24\"\n",
              "       width=\"24px\">\n",
              "    <path d=\"M0 0h24v24H0V0z\" fill=\"none\"/>\n",
              "    <path d=\"M18.56 5.44l.94 2.06.94-2.06 2.06-.94-2.06-.94-.94-2.06-.94 2.06-2.06.94zm-11 1L8.5 8.5l.94-2.06 2.06-.94-2.06-.94L8.5 2.5l-.94 2.06-2.06.94zm10 10l.94 2.06.94-2.06 2.06-.94-2.06-.94-.94-2.06-.94 2.06-2.06.94z\"/><path d=\"M17.41 7.96l-1.37-1.37c-.4-.4-.92-.59-1.43-.59-.52 0-1.04.2-1.43.59L10.3 9.45l-7.72 7.72c-.78.78-.78 2.05 0 2.83L4 21.41c.39.39.9.59 1.41.59.51 0 1.02-.2 1.41-.59l7.78-7.78 2.81-2.81c.8-.78.8-2.07 0-2.86zM5.41 20L4 18.59l7.72-7.72 1.47 1.35L5.41 20z\"/>\n",
              "  </svg>\n",
              "      </button>\n",
              "      \n",
              "  <style>\n",
              "    .colab-df-container {\n",
              "      display:flex;\n",
              "      flex-wrap:wrap;\n",
              "      gap: 12px;\n",
              "    }\n",
              "\n",
              "    .colab-df-convert {\n",
              "      background-color: #E8F0FE;\n",
              "      border: none;\n",
              "      border-radius: 50%;\n",
              "      cursor: pointer;\n",
              "      display: none;\n",
              "      fill: #1967D2;\n",
              "      height: 32px;\n",
              "      padding: 0 0 0 0;\n",
              "      width: 32px;\n",
              "    }\n",
              "\n",
              "    .colab-df-convert:hover {\n",
              "      background-color: #E2EBFA;\n",
              "      box-shadow: 0px 1px 2px rgba(60, 64, 67, 0.3), 0px 1px 3px 1px rgba(60, 64, 67, 0.15);\n",
              "      fill: #174EA6;\n",
              "    }\n",
              "\n",
              "    [theme=dark] .colab-df-convert {\n",
              "      background-color: #3B4455;\n",
              "      fill: #D2E3FC;\n",
              "    }\n",
              "\n",
              "    [theme=dark] .colab-df-convert:hover {\n",
              "      background-color: #434B5C;\n",
              "      box-shadow: 0px 1px 3px 1px rgba(0, 0, 0, 0.15);\n",
              "      filter: drop-shadow(0px 1px 2px rgba(0, 0, 0, 0.3));\n",
              "      fill: #FFFFFF;\n",
              "    }\n",
              "  </style>\n",
              "\n",
              "      <script>\n",
              "        const buttonEl =\n",
              "          document.querySelector('#df-473314e4-156b-4fd3-83ab-f09c63d0532d button.colab-df-convert');\n",
              "        buttonEl.style.display =\n",
              "          google.colab.kernel.accessAllowed ? 'block' : 'none';\n",
              "\n",
              "        async function convertToInteractive(key) {\n",
              "          const element = document.querySelector('#df-473314e4-156b-4fd3-83ab-f09c63d0532d');\n",
              "          const dataTable =\n",
              "            await google.colab.kernel.invokeFunction('convertToInteractive',\n",
              "                                                     [key], {});\n",
              "          if (!dataTable) return;\n",
              "\n",
              "          const docLinkHtml = 'Like what you see? Visit the ' +\n",
              "            '<a target=\"_blank\" href=https://colab.research.google.com/notebooks/data_table.ipynb>data table notebook</a>'\n",
              "            + ' to learn more about interactive tables.';\n",
              "          element.innerHTML = '';\n",
              "          dataTable['output_type'] = 'display_data';\n",
              "          await google.colab.output.renderOutput(dataTable, element);\n",
              "          const docLink = document.createElement('div');\n",
              "          docLink.innerHTML = docLinkHtml;\n",
              "          element.appendChild(docLink);\n",
              "        }\n",
              "      </script>\n",
              "    </div>\n",
              "  </div>\n",
              "  "
            ],
            "text/plain": [
              "                                               Title  \\\n",
              "0  1,28 tỷ USD vốn FDI đầu tư vào Hà Nội trong 9 ...   \n",
              "1  Từ đêm 12/9- 15/9: Thanh Hóa có khả năng xảy r...   \n",
              "2  Đề xuất lập quỹ bảo lãnh cho vay 100.000 tỷ đồ...   \n",
              "3  [Funland] - Nga có đám cưới hoàng gia đầu tiên...   \n",
              "4  Xu hướng căn hộ sức khoẻ \"lên ngôi\" trong bối ...   \n",
              "\n",
              "                                         Description  \\\n",
              "0                                                      \n",
              "1  (TTV)- Hiện nay, dải hội tụ nhiệt đới có trục ...   \n",
              "2  Liên minh Doanh nghiệp vừa và nhỏ vừa kiến ngh...   \n",
              "3  Link : https://tuoitre.vn/nga-co-dam-cuoi-hoan...   \n",
              "4  Trong bối cảnh đại dịch COVID-19 vẫn diễn biến...   \n",
              "\n",
              "                                                 URI  \n",
              "0  https://hoanhap.vn/chi-tiet/128-ty-usd-von-fdi...  \n",
              "1  http://truyenhinhthanhhoa.vn/thoi-tiet/202109/...  \n",
              "2  https://ndh.vn/vi-mo/de-xuat-lap-quy-bao-lanh-...  \n",
              "3  https://www.otofun.net/threads/nga-co-dam-cuoi...  \n",
              "4  https://bnews.vn/xu-huong-can-ho-suc-khoe-len-...  "
            ]
          },
          "metadata": {},
          "execution_count": 112
        }
      ]
    },
    {
      "cell_type": "code",
      "source": [
        ""
      ],
      "metadata": {
        "id": "_1WJ5E7wYEjd"
      },
      "execution_count": null,
      "outputs": []
    }
  ]
}