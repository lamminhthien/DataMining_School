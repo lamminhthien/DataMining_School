{
 "cells": [
  {
   "cell_type": "code",
   "execution_count": 24,
   "metadata": {},
   "outputs": [],
   "source": [
    "# Mở file html\n",
    "# Đọc thành 1 dòng\n",
    "# Chuyển qua beautiful soup 4 để truy vấn toàn bộ href \n",
    "f = open('test2.html','r')\n",
    "f = f.readlines()\n"
   ]
  },
  {
   "cell_type": "code",
   "execution_count": 28,
   "metadata": {},
   "outputs": [],
   "source": [
    "from bs4 import BeautifulSoup\n",
    "soups = []\n",
    "for line in f:\n",
    "    soups.append(BeautifulSoup(line))"
   ]
  },
  {
   "cell_type": "code",
   "execution_count": null,
   "metadata": {},
   "outputs": [],
   "source": [
    "# In thẻ href ra:\n",
    "import os\n",
    "for soup in soups:\n",
    "    for a  in soup.find_all('a',href=True):\n",
    "        link = ('https://www.youtube.com/' + a['href'])\n",
    "        os.system(f'yt-dlp {link}')"
   ]
  },
  {
   "cell_type": "code",
   "execution_count": 33,
   "metadata": {},
   "outputs": [
    {
     "name": "stdout",
     "output_type": "stream",
     "text": [
      "[youtube:tab] Downloading playlist PLdM751AKK4aNHS24VakVoziSsPS6cCOZb; add --no-playlist to just download video 4hY-St_pSIY\n",
      "[youtube:tab] PLdM751AKK4aNHS24VakVoziSsPS6cCOZb: Downloading webpage\n",
      "[youtube:tab] PLdM751AKK4aNHS24VakVoziSsPS6cCOZb: Downloading webpage\n",
      "[youtube:tab] PLdM751AKK4aNHS24VakVoziSsPS6cCOZb: Downloading API JSON with unavailable videos\n",
      "[download] Downloading playlist: Hiệp sĩ xương trên đường du hành đến thế giới khác [Việt sub]\n",
      "[youtube:tab] playlist Hiệp sĩ xương trên đường du hành đến thế giới khác [Việt sub]: Downloading 2 videos\n",
      "[download] Downloading video 1 of 2\n",
      "[youtube] 4hY-St_pSIY: Downloading webpage\n",
      "[youtube] 4hY-St_pSIY: Downloading android player API JSON\n",
      "[info] 4hY-St_pSIY: Downloading 1 format(s): sb0\n",
      "[mhtml] Total fragments: 6\n",
      "[download] Destination: Hiệp sĩ xương trên đường du hành đến thế giới khác - Tập 01 [Việt sub] [4hY-St_pSIY].mhtml\n",
      "[download] 100% of 302.79KiB in 00:01                              \n",
      "[download] Downloading video 2 of 2\n",
      "[youtube] P7y4DFIhZUM: Downloading webpage\n",
      "[youtube] P7y4DFIhZUM: Downloading android player API JSON\n",
      "[info] P7y4DFIhZUM: Downloading 1 format(s): sb0\n",
      "[mhtml] Total fragments: 6\n",
      "[download] Destination: Hiệp sĩ xương trên đường du hành đến thế giới khác - Tập 02 [Việt sub] [P7y4DFIhZUM].mhtml\n",
      "[download] 100% of 274.58KiB in 00:01                              \n",
      "[download] Finished downloading playlist: Hiệp sĩ xương trên đường du hành đến thế giới khác [Việt sub]\n"
     ]
    },
    {
     "data": {
      "text/plain": [
       "0"
      ]
     },
     "execution_count": 33,
     "metadata": {},
     "output_type": "execute_result"
    }
   ],
   "source": [
    "os.system('yt-dlp -f sb0 https://youtu.be/4hY-St_pSIY?list=PLdM751AKK4aNHS24VakVoziSsPS6cCOZb')"
   ]
  },
  {
   "cell_type": "code",
   "execution_count": null,
   "metadata": {},
   "outputs": [],
   "source": []
  }
 ],
 "metadata": {
  "interpreter": {
   "hash": "c156cbd56f2befb501b04e4bcafbb3ceb498087e79117ebbae5589b514d9d978"
  },
  "kernelspec": {
   "display_name": "Python 3.9.7 64-bit ('miniconda3')",
   "language": "python",
   "name": "python3"
  },
  "language_info": {
   "codemirror_mode": {
    "name": "ipython",
    "version": 3
   },
   "file_extension": ".py",
   "mimetype": "text/x-python",
   "name": "python",
   "nbconvert_exporter": "python",
   "pygments_lexer": "ipython3",
   "version": "3.9.7"
  },
  "orig_nbformat": 4
 },
 "nbformat": 4,
 "nbformat_minor": 2
}
