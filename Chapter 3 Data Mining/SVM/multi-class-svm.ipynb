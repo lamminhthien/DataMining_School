{
 "cells": [
  {
   "cell_type": "code",
   "execution_count": 1,
   "metadata": {},
   "outputs": [],
   "source": [
    "import numpy as np\n",
    "import matplotlib.pyplot as plt\n",
    "from scipy import stats"
   ]
  },
  {
   "cell_type": "code",
   "execution_count": 2,
   "metadata": {},
   "outputs": [
    {
     "name": "stdout",
     "output_type": "stream",
     "text": [
      "Collecting seaborn\n",
      "  Downloading seaborn-0.11.2-py3-none-any.whl (292 kB)\n",
      "\u001b[K     |████████████████████████████████| 292 kB 971 kB/s eta 0:00:01\n",
      "\u001b[?25hRequirement already satisfied: matplotlib>=2.2 in /home/hdoop/miniconda3/lib/python3.9/site-packages (from seaborn) (3.5.1)\n",
      "Requirement already satisfied: numpy>=1.15 in /home/hdoop/miniconda3/lib/python3.9/site-packages (from seaborn) (1.22.3)\n",
      "Requirement already satisfied: scipy>=1.0 in /home/hdoop/miniconda3/lib/python3.9/site-packages (from seaborn) (1.8.0)\n",
      "Requirement already satisfied: pandas>=0.23 in /home/hdoop/miniconda3/lib/python3.9/site-packages (from seaborn) (1.4.1)\n",
      "Requirement already satisfied: pillow>=6.2.0 in /home/hdoop/miniconda3/lib/python3.9/site-packages (from matplotlib>=2.2->seaborn) (9.1.0)\n",
      "Requirement already satisfied: kiwisolver>=1.0.1 in /home/hdoop/miniconda3/lib/python3.9/site-packages (from matplotlib>=2.2->seaborn) (1.4.2)\n",
      "Requirement already satisfied: fonttools>=4.22.0 in /home/hdoop/miniconda3/lib/python3.9/site-packages (from matplotlib>=2.2->seaborn) (4.31.2)\n",
      "Requirement already satisfied: cycler>=0.10 in /home/hdoop/miniconda3/lib/python3.9/site-packages (from matplotlib>=2.2->seaborn) (0.11.0)\n",
      "Requirement already satisfied: packaging>=20.0 in /home/hdoop/miniconda3/lib/python3.9/site-packages (from matplotlib>=2.2->seaborn) (21.3)\n",
      "Requirement already satisfied: pyparsing>=2.2.1 in /home/hdoop/miniconda3/lib/python3.9/site-packages (from matplotlib>=2.2->seaborn) (3.0.7)\n",
      "Requirement already satisfied: python-dateutil>=2.7 in /home/hdoop/miniconda3/lib/python3.9/site-packages (from matplotlib>=2.2->seaborn) (2.8.2)\n",
      "Requirement already satisfied: pytz>=2020.1 in /home/hdoop/miniconda3/lib/python3.9/site-packages (from pandas>=0.23->seaborn) (2022.1)\n",
      "Requirement already satisfied: six>=1.5 in /home/hdoop/miniconda3/lib/python3.9/site-packages (from python-dateutil>=2.7->matplotlib>=2.2->seaborn) (1.16.0)\n",
      "Installing collected packages: seaborn\n",
      "Successfully installed seaborn-0.11.2\n",
      "\u001b[33mWARNING: Running pip as the 'root' user can result in broken permissions and conflicting behaviour with the system package manager. It is recommended to use a virtual environment instead: https://pip.pypa.io/warnings/venv\u001b[0m\n"
     ]
    }
   ],
   "source": [
    "!pip install seaborn"
   ]
  },
  {
   "cell_type": "code",
   "execution_count": 3,
   "metadata": {},
   "outputs": [],
   "source": [
    "# use seaborn plotting defaults\n",
    "import seaborn as sns\n",
    "sns.set()"
   ]
  },
  {
   "cell_type": "code",
   "execution_count": 44,
   "metadata": {},
   "outputs": [
    {
     "data": {
      "text/plain": [
       "<matplotlib.collections.PathCollection at 0x7f5623c47580>"
      ]
     },
     "execution_count": 44,
     "metadata": {},
     "output_type": "execute_result"
    },
    {
     "data": {
      "image/png": "[encoded data removed]",
      "text/plain": [
       "<Figure size 432x288 with 1 Axes>"
      ]
     },
     "metadata": {},
     "output_type": "display_data"
    }
   ],
   "source": [
    "## Tham khảo từ https://insights.magestore.com/posts/xay-dung-clustering-model-bang-giai-thuat-k-means-voi-thu-vien-scikit-learn-skills-ai\n",
    "# make_blobs: Tạo bộ dữ liệu gồm các điểm (sample) ngẫu nhiên trong không gian)\n",
    "# n_sample: số lượng sample \n",
    "# center=2: Dữ liệu sẽ được phân bố ngẫu nhiên \"có chủ đích\" để mà các điểm sẽ chia thành 2 nhóm (2 cụm) mà ta có thể tìm hyperlance giữa 2 nhóm đó\n",
    "# Random_state: Xác định con số ngẫu nhiên được tạo ra cho quá trình tái tạo dataset. Gắn 1 số nguyên để tái tạo lại kết quả thông qua việc gọi nhiều hàm\n",
    "# Cluster_std: độ lệch chuẩn của những cụm dữ liệu\n",
    "# X[:,0] là tọa độ x (Xét cột thứ nhất)\n",
    "# X[:,1] là tọa độ y (xét cột thứ hai)\n",
    "# s là độ đậm của màu sắc\n",
    "# c=y lấy màu sắc theo nhãn (theo cụm)\n",
    "\n",
    "from sklearn.datasets import make_blobs\n",
    "X,y = make_blobs(n_samples=50, centers=3,random_state=0,cluster_std=0.8)\n",
    "plt.scatter(X[:,0], X[:,1], c=y, s=50, cmap='autumn')\n",
    "# Theo dõi sự thay đổi của đồ thị khi random_state  tăng dần\n",
    "\n",
    "# for i in np.arange(0,9):\n",
    "#     X,y = make_blobs(n_samples=50, centers=2,random_state=i,cluster_std=0.8)\n",
    "#     plt.scatter(X[:,0], X[:,1], c=y, s=50, cmap='autumn')\n",
    "#     plt.savefig(f'watch_random_state={i}.png')"
   ]
  },
  {
   "cell_type": "code",
   "execution_count": 34,
   "metadata": {},
   "outputs": [
    {
     "name": "stdout",
     "output_type": "stream",
     "text": [
      "[[ 1.19866542  1.74122504]\n",
      " [ 1.73272596  1.87561972]\n",
      " [ 1.58510026  4.40112734]\n",
      " [ 2.17153334  4.13966072]\n",
      " [ 2.1084813   1.13964118]\n",
      " [ 2.96678807 -0.090197  ]\n",
      " [ 3.56178808 -0.18054359]\n",
      " [ 2.06366754  2.32636006]\n",
      " [ 2.03272174  1.24032916]\n",
      " [-0.38874607  5.86440764]\n",
      " [ 1.96050262  5.26569121]\n",
      " [-0.02596621  4.92577961]\n",
      " [ 1.10022802  4.60631734]\n",
      " [ 1.3586298   0.43458393]\n",
      " [ 1.66781904  3.71005531]\n",
      " [ 1.22672424  3.62051074]\n",
      " [ 0.66640862  4.06194513]\n",
      " [ 2.37714083  0.34981559]\n",
      " [ 0.26604148  2.71915015]\n",
      " [ 0.893695    4.63226613]\n",
      " [ 1.54780985  0.60747073]\n",
      " [ 2.34036064  1.46292219]\n",
      " [ 1.32942883  0.93921998]\n",
      " [ 1.51729916  0.61002113]\n",
      " [ 2.63853997  1.00084999]\n",
      " [ 2.79207378  3.14029479]\n",
      " [ 0.56854833  3.95332789]\n",
      " [-1.06612177  4.8266822 ]\n",
      " [ 2.19720844  0.57623891]\n",
      " [ 2.47031647  3.52196502]\n",
      " [ 2.2218875   1.67897489]\n",
      " [ 0.25989683  4.61330933]\n",
      " [ 1.33136066  4.57072679]\n",
      " [-0.3148482   4.1335951 ]\n",
      " [ 2.20249345  5.47927434]\n",
      " [ 1.8060255   0.94259593]\n",
      " [ 2.1567972   1.21925515]\n",
      " [ 1.09150494  5.46720613]\n",
      " [ 2.42779747 -0.33133129]\n",
      " [ 0.56762597  3.35928158]\n",
      " [ 0.75110884  1.26788946]\n",
      " [ 1.73634081  4.18270156]\n",
      " [ 1.4047505  -0.48336242]\n",
      " [ 1.12314765  1.61832485]\n",
      " [ 1.01287689  4.15404025]\n",
      " [ 1.03887952  1.67318103]\n",
      " [ 3.24586928  2.414375  ]\n",
      " [ 0.13742771  3.16777298]\n",
      " [ 2.99829118  0.75372379]\n",
      " [ 0.69794036  4.4288665 ]]\n"
     ]
    }
   ],
   "source": [
    "print(X)"
   ]
  },
  {
   "cell_type": "code",
   "execution_count": 36,
   "metadata": {},
   "outputs": [
    {
     "name": "stdout",
     "output_type": "stream",
     "text": [
      "[ 1.74122504  1.87561972  4.40112734  4.13966072  1.13964118 -0.090197\n",
      " -0.18054359  2.32636006  1.24032916  5.86440764  5.26569121  4.92577961\n",
      "  4.60631734  0.43458393  3.71005531  3.62051074  4.06194513  0.34981559\n",
      "  2.71915015  4.63226613  0.60747073  1.46292219  0.93921998  0.61002113\n",
      "  1.00084999  3.14029479  3.95332789  4.8266822   0.57623891  3.52196502\n",
      "  1.67897489  4.61330933  4.57072679  4.1335951   5.47927434  0.94259593\n",
      "  1.21925515  5.46720613 -0.33133129  3.35928158  1.26788946  4.18270156\n",
      " -0.48336242  1.61832485  4.15404025  1.67318103  2.414375    3.16777298\n",
      "  0.75372379  4.4288665 ]\n"
     ]
    }
   ],
   "source": [
    "print(X[:,1])"
   ]
  },
  {
   "cell_type": "code",
   "execution_count": 45,
   "metadata": {},
   "outputs": [
    {
     "name": "stdout",
     "output_type": "stream",
     "text": [
      "[0 1 0 0 2 0 2 2 1 2 2 1 0 1 1 0 0 2 2 0 1 1 1 0 2 2 2 1 2 0 1 0 2 1 1 0 1\n",
      " 2 0 2 1 0 2 1 1 0 1 2 0 0]\n"
     ]
    }
   ],
   "source": [
    "print(y)"
   ]
  },
  {
   "cell_type": "code",
   "execution_count": null,
   "metadata": {},
   "outputs": [],
   "source": []
  }
 ],
 "metadata": {
  "interpreter": {
   "hash": "c156cbd56f2befb501b04e4bcafbb3ceb498087e79117ebbae5589b514d9d978"
  },
  "kernelspec": {
   "display_name": "Python 3.9.7 64-bit ('miniconda3')",
   "language": "python",
   "name": "python3"
  },
  "language_info": {
   "codemirror_mode": {
    "name": "ipython",
    "version": 3
   },
   "file_extension": ".py",
   "mimetype": "text/x-python",
   "name": "python",
   "nbconvert_exporter": "python",
   "pygments_lexer": "ipython3",
   "version": "3.9.7"
  },
  "orig_nbformat": 4
 },
 "nbformat": 4,
 "nbformat_minor": 2
}
