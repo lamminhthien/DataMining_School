{
 "cells": [
  {
   "cell_type": "code",
   "execution_count": 1,
   "metadata": {},
   "outputs": [],
   "source": [
    "import numpy as np\n",
    "import matplotlib.pyplot as plt\n",
    "from scipy import stats"
   ]
  },
  {
   "cell_type": "code",
   "execution_count": 2,
   "metadata": {},
   "outputs": [
    {
     "name": "stdout",
     "output_type": "stream",
     "text": [
      "Collecting seaborn\n",
      "  Downloading seaborn-0.11.2-py3-none-any.whl (292 kB)\n",
      "\u001b[K     |████████████████████████████████| 292 kB 971 kB/s eta 0:00:01\n",
      "\u001b[?25hRequirement already satisfied: matplotlib>=2.2 in /home/hdoop/miniconda3/lib/python3.9/site-packages (from seaborn) (3.5.1)\n",
      "Requirement already satisfied: numpy>=1.15 in /home/hdoop/miniconda3/lib/python3.9/site-packages (from seaborn) (1.22.3)\n",
      "Requirement already satisfied: scipy>=1.0 in /home/hdoop/miniconda3/lib/python3.9/site-packages (from seaborn) (1.8.0)\n",
      "Requirement already satisfied: pandas>=0.23 in /home/hdoop/miniconda3/lib/python3.9/site-packages (from seaborn) (1.4.1)\n",
      "Requirement already satisfied: pillow>=6.2.0 in /home/hdoop/miniconda3/lib/python3.9/site-packages (from matplotlib>=2.2->seaborn) (9.1.0)\n",
      "Requirement already satisfied: kiwisolver>=1.0.1 in /home/hdoop/miniconda3/lib/python3.9/site-packages (from matplotlib>=2.2->seaborn) (1.4.2)\n",
      "Requirement already satisfied: fonttools>=4.22.0 in /home/hdoop/miniconda3/lib/python3.9/site-packages (from matplotlib>=2.2->seaborn) (4.31.2)\n",
      "Requirement already satisfied: cycler>=0.10 in /home/hdoop/miniconda3/lib/python3.9/site-packages (from matplotlib>=2.2->seaborn) (0.11.0)\n",
      "Requirement already satisfied: packaging>=20.0 in /home/hdoop/miniconda3/lib/python3.9/site-packages (from matplotlib>=2.2->seaborn) (21.3)\n",
      "Requirement already satisfied: pyparsing>=2.2.1 in /home/hdoop/miniconda3/lib/python3.9/site-packages (from matplotlib>=2.2->seaborn) (3.0.7)\n",
      "Requirement already satisfied: python-dateutil>=2.7 in /home/hdoop/miniconda3/lib/python3.9/site-packages (from matplotlib>=2.2->seaborn) (2.8.2)\n",
      "Requirement already satisfied: pytz>=2020.1 in /home/hdoop/miniconda3/lib/python3.9/site-packages (from pandas>=0.23->seaborn) (2022.1)\n",
      "Requirement already satisfied: six>=1.5 in /home/hdoop/miniconda3/lib/python3.9/site-packages (from python-dateutil>=2.7->matplotlib>=2.2->seaborn) (1.16.0)\n",
      "Installing collected packages: seaborn\n",
      "Successfully installed seaborn-0.11.2\n",
      "\u001b[33mWARNING: Running pip as the 'root' user can result in broken permissions and conflicting behaviour with the system package manager. It is recommended to use a virtual environment instead: https://pip.pypa.io/warnings/venv\u001b[0m\n"
     ]
    }
   ],
   "source": [
    "!pip install seaborn"
   ]
  },
  {
   "cell_type": "code",
   "execution_count": 3,
   "metadata": {},
   "outputs": [],
   "source": [
    "# use seaborn plotting defaults\n",
    "import seaborn as sns\n",
    "sns.set()"
   ]
  },
  {
   "cell_type": "markdown",
   "metadata": {},
   "source": []
  },
  {
   "cell_type": "code",
   "execution_count": 29,
   "metadata": {},
   "outputs": [
    {
     "ename": "ValueError",
     "evalue": "Format '0' is not supported (supported formats: eps, jpeg, jpg, pdf, pgf, png, ps, raw, rgba, svg, svgz, tif, tiff)",
     "output_type": "error",
     "traceback": [
      "\u001b[0;31m---------------------------------------------------------------------------\u001b[0m",
      "\u001b[0;31mValueError\u001b[0m                                Traceback (most recent call last)",
      "\u001b[1;32m/mnt/d/Code/DataMining_School/Chapter 3 Data Mining/SVM/multi-class-svm.ipynb Cell 5'\u001b[0m in \u001b[0;36m<cell line: 12>\u001b[0;34m()\u001b[0m\n\u001b[1;32m     <a href='vscode-notebook-cell://wsl%2Bwsl_ubuntu18/mnt/d/Code/DataMining_School/Chapter%203%20Data%20Mining/SVM/multi-class-svm.ipynb#ch0000003vscode-remote?line=12'>13</a>\u001b[0m X,y \u001b[39m=\u001b[39m make_blobs(n_samples\u001b[39m=\u001b[39m\u001b[39m50\u001b[39m, centers\u001b[39m=\u001b[39m\u001b[39m2\u001b[39m,random_state\u001b[39m=\u001b[39m\u001b[39m0\u001b[39m,cluster_std\u001b[39m=\u001b[39mi)\n\u001b[1;32m     <a href='vscode-notebook-cell://wsl%2Bwsl_ubuntu18/mnt/d/Code/DataMining_School/Chapter%203%20Data%20Mining/SVM/multi-class-svm.ipynb#ch0000003vscode-remote?line=13'>14</a>\u001b[0m plt\u001b[39m.\u001b[39mscatter(X[:,\u001b[39m0\u001b[39m], X[:,\u001b[39m1\u001b[39m], c\u001b[39m=\u001b[39my, s\u001b[39m=\u001b[39m\u001b[39m50\u001b[39m, cmap\u001b[39m=\u001b[39m\u001b[39m'\u001b[39m\u001b[39mautumn\u001b[39m\u001b[39m'\u001b[39m)\n\u001b[0;32m---> <a href='vscode-notebook-cell://wsl%2Bwsl_ubuntu18/mnt/d/Code/DataMining_School/Chapter%203%20Data%20Mining/SVM/multi-class-svm.ipynb#ch0000003vscode-remote?line=14'>15</a>\u001b[0m plt\u001b[39m.\u001b[39;49msavefig(\u001b[39mf\u001b[39;49m\u001b[39m'\u001b[39;49m\u001b[39mwatch_cluster_std=\u001b[39;49m\u001b[39m{\u001b[39;49;00mi\u001b[39m}\u001b[39;49;00m\u001b[39m'\u001b[39;49m)\n",
      "File \u001b[0;32m/home/hdoop/miniconda3/lib/python3.9/site-packages/matplotlib/pyplot.py:958\u001b[0m, in \u001b[0;36msavefig\u001b[0;34m(*args, **kwargs)\u001b[0m\n\u001b[1;32m    <a href='file:///home/hdoop/miniconda3/lib/python3.9/site-packages/matplotlib/pyplot.py?line=954'>955</a>\u001b[0m \u001b[39m@_copy_docstring_and_deprecators\u001b[39m(Figure\u001b[39m.\u001b[39msavefig)\n\u001b[1;32m    <a href='file:///home/hdoop/miniconda3/lib/python3.9/site-packages/matplotlib/pyplot.py?line=955'>956</a>\u001b[0m \u001b[39mdef\u001b[39;00m \u001b[39msavefig\u001b[39m(\u001b[39m*\u001b[39margs, \u001b[39m*\u001b[39m\u001b[39m*\u001b[39mkwargs):\n\u001b[1;32m    <a href='file:///home/hdoop/miniconda3/lib/python3.9/site-packages/matplotlib/pyplot.py?line=956'>957</a>\u001b[0m     fig \u001b[39m=\u001b[39m gcf()\n\u001b[0;32m--> <a href='file:///home/hdoop/miniconda3/lib/python3.9/site-packages/matplotlib/pyplot.py?line=957'>958</a>\u001b[0m     res \u001b[39m=\u001b[39m fig\u001b[39m.\u001b[39;49msavefig(\u001b[39m*\u001b[39;49margs, \u001b[39m*\u001b[39;49m\u001b[39m*\u001b[39;49mkwargs)\n\u001b[1;32m    <a href='file:///home/hdoop/miniconda3/lib/python3.9/site-packages/matplotlib/pyplot.py?line=958'>959</a>\u001b[0m     fig\u001b[39m.\u001b[39mcanvas\u001b[39m.\u001b[39mdraw_idle()   \u001b[39m# need this if 'transparent=True' to reset colors\u001b[39;00m\n\u001b[1;32m    <a href='file:///home/hdoop/miniconda3/lib/python3.9/site-packages/matplotlib/pyplot.py?line=959'>960</a>\u001b[0m     \u001b[39mreturn\u001b[39;00m res\n",
      "File \u001b[0;32m/home/hdoop/miniconda3/lib/python3.9/site-packages/matplotlib/figure.py:3019\u001b[0m, in \u001b[0;36mFigure.savefig\u001b[0;34m(self, fname, transparent, **kwargs)\u001b[0m\n\u001b[1;32m   <a href='file:///home/hdoop/miniconda3/lib/python3.9/site-packages/matplotlib/figure.py?line=3014'>3015</a>\u001b[0m     \u001b[39mfor\u001b[39;00m ax \u001b[39min\u001b[39;00m \u001b[39mself\u001b[39m\u001b[39m.\u001b[39maxes:\n\u001b[1;32m   <a href='file:///home/hdoop/miniconda3/lib/python3.9/site-packages/matplotlib/figure.py?line=3015'>3016</a>\u001b[0m         stack\u001b[39m.\u001b[39menter_context(\n\u001b[1;32m   <a href='file:///home/hdoop/miniconda3/lib/python3.9/site-packages/matplotlib/figure.py?line=3016'>3017</a>\u001b[0m             ax\u001b[39m.\u001b[39mpatch\u001b[39m.\u001b[39m_cm_set(facecolor\u001b[39m=\u001b[39m\u001b[39m'\u001b[39m\u001b[39mnone\u001b[39m\u001b[39m'\u001b[39m, edgecolor\u001b[39m=\u001b[39m\u001b[39m'\u001b[39m\u001b[39mnone\u001b[39m\u001b[39m'\u001b[39m))\n\u001b[0;32m-> <a href='file:///home/hdoop/miniconda3/lib/python3.9/site-packages/matplotlib/figure.py?line=3018'>3019</a>\u001b[0m \u001b[39mself\u001b[39;49m\u001b[39m.\u001b[39;49mcanvas\u001b[39m.\u001b[39;49mprint_figure(fname, \u001b[39m*\u001b[39;49m\u001b[39m*\u001b[39;49mkwargs)\n",
      "File \u001b[0;32m/home/hdoop/miniconda3/lib/python3.9/site-packages/matplotlib/backend_bases.py:2259\u001b[0m, in \u001b[0;36mFigureCanvasBase.print_figure\u001b[0;34m(self, filename, dpi, facecolor, edgecolor, orientation, format, bbox_inches, pad_inches, bbox_extra_artists, backend, **kwargs)\u001b[0m\n\u001b[1;32m   <a href='file:///home/hdoop/miniconda3/lib/python3.9/site-packages/matplotlib/backend_bases.py?line=2255'>2256</a>\u001b[0m \u001b[39mformat\u001b[39m \u001b[39m=\u001b[39m \u001b[39mformat\u001b[39m\u001b[39m.\u001b[39mlower()\n\u001b[1;32m   <a href='file:///home/hdoop/miniconda3/lib/python3.9/site-packages/matplotlib/backend_bases.py?line=2257'>2258</a>\u001b[0m \u001b[39m# get canvas object and print method for format\u001b[39;00m\n\u001b[0;32m-> <a href='file:///home/hdoop/miniconda3/lib/python3.9/site-packages/matplotlib/backend_bases.py?line=2258'>2259</a>\u001b[0m canvas \u001b[39m=\u001b[39m \u001b[39mself\u001b[39;49m\u001b[39m.\u001b[39;49m_get_output_canvas(backend, \u001b[39mformat\u001b[39;49m)\n\u001b[1;32m   <a href='file:///home/hdoop/miniconda3/lib/python3.9/site-packages/matplotlib/backend_bases.py?line=2259'>2260</a>\u001b[0m print_method \u001b[39m=\u001b[39m \u001b[39mgetattr\u001b[39m(canvas, \u001b[39m'\u001b[39m\u001b[39mprint_\u001b[39m\u001b[39m%s\u001b[39;00m\u001b[39m'\u001b[39m \u001b[39m%\u001b[39m \u001b[39mformat\u001b[39m)\n\u001b[1;32m   <a href='file:///home/hdoop/miniconda3/lib/python3.9/site-packages/matplotlib/backend_bases.py?line=2261'>2262</a>\u001b[0m \u001b[39mif\u001b[39;00m dpi \u001b[39mis\u001b[39;00m \u001b[39mNone\u001b[39;00m:\n",
      "File \u001b[0;32m/home/hdoop/miniconda3/lib/python3.9/site-packages/matplotlib/backend_bases.py:2188\u001b[0m, in \u001b[0;36mFigureCanvasBase._get_output_canvas\u001b[0;34m(self, backend, fmt)\u001b[0m\n\u001b[1;32m   <a href='file:///home/hdoop/miniconda3/lib/python3.9/site-packages/matplotlib/backend_bases.py?line=2185'>2186</a>\u001b[0m     \u001b[39mreturn\u001b[39;00m \u001b[39mself\u001b[39m\u001b[39m.\u001b[39mswitch_backends(canvas_class)\n\u001b[1;32m   <a href='file:///home/hdoop/miniconda3/lib/python3.9/site-packages/matplotlib/backend_bases.py?line=2186'>2187</a>\u001b[0m \u001b[39m# Else report error for unsupported format.\u001b[39;00m\n\u001b[0;32m-> <a href='file:///home/hdoop/miniconda3/lib/python3.9/site-packages/matplotlib/backend_bases.py?line=2187'>2188</a>\u001b[0m \u001b[39mraise\u001b[39;00m \u001b[39mValueError\u001b[39;00m(\n\u001b[1;32m   <a href='file:///home/hdoop/miniconda3/lib/python3.9/site-packages/matplotlib/backend_bases.py?line=2188'>2189</a>\u001b[0m     \u001b[39m\"\u001b[39m\u001b[39mFormat \u001b[39m\u001b[39m{!r}\u001b[39;00m\u001b[39m is not supported (supported formats: \u001b[39m\u001b[39m{}\u001b[39;00m\u001b[39m)\u001b[39m\u001b[39m\"\u001b[39m\n\u001b[1;32m   <a href='file:///home/hdoop/miniconda3/lib/python3.9/site-packages/matplotlib/backend_bases.py?line=2189'>2190</a>\u001b[0m     \u001b[39m.\u001b[39mformat(fmt, \u001b[39m\"\u001b[39m\u001b[39m, \u001b[39m\u001b[39m\"\u001b[39m\u001b[39m.\u001b[39mjoin(\u001b[39msorted\u001b[39m(\u001b[39mself\u001b[39m\u001b[39m.\u001b[39mget_supported_filetypes()))))\n",
      "\u001b[0;31mValueError\u001b[0m: Format '0' is not supported (supported formats: eps, jpeg, jpg, pdf, pgf, png, ps, raw, rgba, svg, svgz, tif, tiff)"
     ]
    },
    {
     "data": {
      "image/png": "[encoded data removed]",
      "text/plain": [
       "<Figure size 432x288 with 1 Axes>"
      ]
     },
     "metadata": {},
     "output_type": "display_data"
    }
   ],
   "source": [
    "## Tham khảo từ https://insights.magestore.com/posts/xay-dung-clustering-model-bang-giai-thuat-k-means-voi-thu-vien-scikit-learn-skills-ai\n",
    "# make_blobs: Tạo bộ dữ liệu gồm các điểm (sample) ngẫu nhiên trong không gian)\n",
    "# n_sample: số lượng sample \n",
    "# center=2: Dữ liệu sẽ được phân bố ngẫu nhiên \"có chủ đích\" để mà các điểm sẽ chia thành 2 nhóm (2 cụm) mà ta có thể tìm hyperlance giữa 2 nhóm đó\n",
    "# Random_state: Xác định con số ngẫu nhiên được tạo ra cho quá trình tái tạo dataset. Gắn 1 số nguyên để tái tạo lại kết quả thông qua việc gọi nhiều hàm\n",
    "# Cluster_std: độ lệch chuẩn của những cụm dữ liệu\n",
    "from sklearn.datasets import make_blobs\n",
    "# X,y = make_blobs(n_samples=50, centers=2,random_state=0,cluster_std=0.8)\n",
    "# plt.scatter(X[:,0], X[:,1], c=y, s=50, cmap='autumn')\n",
    "# Theo dõi sự thay đổi của đồ thị khi center (số lượng cụm) tăng dần\n",
    "\n",
    "for i in np.arange(0.0,1.0,0.1):\n",
    "    X,y = make_blobs(n_samples=50, centers=2,random_state=0,cluster_std=i)\n",
    "    plt.scatter(X[:,0], X[:,1], c=y, s=50, cmap='autumn')\n",
    "    plt.savefig(f'watch_cluster_std={i}.png')"
   ]
  },
  {
   "cell_type": "code",
   "execution_count": 26,
   "metadata": {},
   "outputs": [
    {
     "ename": "TypeError",
     "evalue": "'float' object cannot be interpreted as an integer",
     "output_type": "error",
     "traceback": [
      "\u001b[0;31m---------------------------------------------------------------------------\u001b[0m",
      "\u001b[0;31mTypeError\u001b[0m                                 Traceback (most recent call last)",
      "\u001b[1;32m/mnt/d/Code/DataMining_School/Chapter 3 Data Mining/SVM/multi-class-svm.ipynb Cell 6'\u001b[0m in \u001b[0;36m<cell line: 1>\u001b[0;34m()\u001b[0m\n\u001b[0;32m----> <a href='vscode-notebook-cell://wsl%2Bwsl_ubuntu18/mnt/d/Code/DataMining_School/Chapter%203%20Data%20Mining/SVM/multi-class-svm.ipynb#ch0000004vscode-remote?line=0'>1</a>\u001b[0m \u001b[39mfor\u001b[39;00m i \u001b[39min\u001b[39;00m \u001b[39mrange\u001b[39;49m(\u001b[39m0\u001b[39;49m,\u001b[39m1\u001b[39;49m,\u001b[39m0.1\u001b[39;49m):\n\u001b[1;32m      <a href='vscode-notebook-cell://wsl%2Bwsl_ubuntu18/mnt/d/Code/DataMining_School/Chapter%203%20Data%20Mining/SVM/multi-class-svm.ipynb#ch0000004vscode-remote?line=1'>2</a>\u001b[0m     \u001b[39mprint\u001b[39m(i)\n",
      "\u001b[0;31mTypeError\u001b[0m: 'float' object cannot be interpreted as an integer"
     ]
    }
   ],
   "source": [
    "for i in sequence\n",
    "    print(i)"
   ]
  },
  {
   "cell_type": "code",
   "execution_count": null,
   "metadata": {},
   "outputs": [],
   "source": []
  }
 ],
 "metadata": {
  "interpreter": {
   "hash": "c156cbd56f2befb501b04e4bcafbb3ceb498087e79117ebbae5589b514d9d978"
  },
  "kernelspec": {
   "display_name": "Python 3.9.7 64-bit ('miniconda3')",
   "language": "python",
   "name": "python3"
  },
  "language_info": {
   "codemirror_mode": {
    "name": "ipython",
    "version": 3
   },
   "file_extension": ".py",
   "mimetype": "text/x-python",
   "name": "python",
   "nbconvert_exporter": "python",
   "pygments_lexer": "ipython3",
   "version": "3.9.7"
  },
  "orig_nbformat": 4
 },
 "nbformat": 4,
 "nbformat_minor": 2
}
