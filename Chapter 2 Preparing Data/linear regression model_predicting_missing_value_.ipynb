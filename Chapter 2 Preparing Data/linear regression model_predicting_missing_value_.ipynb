{
 "cells": [
  {
   "cell_type": "code",
   "execution_count": 5,
   "metadata": {},
   "outputs": [],
   "source": [
    "#!/usr/bin/env python3\n",
    "# -*- coding: utf-8 -*-\n",
    "\"\"\"\n",
    "Created on Tue Aug 18 15:40:39 2020\n",
    "\n",
    "@author: sadrachpierre\n",
    "\"\"\"\n",
    "import pandas as pd \n",
    "import numpy as np \n",
    "from sklearn.model_selection import KFold\n",
    "from sklearn.metrics import mean_squared_error\n",
    "df = pd.read_csv(\"winemag-data-130k-v2.csv\").sample(n=5000, random_state = 42)\n",
    "\n",
    "\n",
    "\n"
   ]
  },
  {
   "cell_type": "code",
   "execution_count": 2,
   "metadata": {},
   "outputs": [
    {
     "name": "stdout",
     "output_type": "stream",
     "text": [
      "         country                                        description  \\\n",
      "77718  Australia  Possibly a little sweet, this is a soft, easyg...   \n",
      "67681     France  A soft, almost off dry wine that is full in th...   \n",
      "69877      Spain  Generic white-fruit aromas of peach and apple ...   \n",
      "46544         US  This is the winery's best Nebula in years. Whi...   \n",
      "186           US  This is a very rich Pinot whose primary virtue...   \n",
      "\n",
      "                  designation  points  price         province  \\\n",
      "77718                     NaN      83    5.0  Australia Other   \n",
      "67681                 Réserve      85   12.0     Rhône Valley   \n",
      "69877  Estate Grown & Bottled      86    9.0   Northern Spain   \n",
      "46544                  Nebula      87   29.0       California   \n",
      "186            Wiley Vineyard      88   40.0       California   \n",
      "\n",
      "                      region_1       region_2        taster_name  \\\n",
      "77718  South Eastern Australia            NaN     Joe Czerwinski   \n",
      "67681           Côtes du Rhône            NaN         Roger Voss   \n",
      "69877                    Rueda            NaN  Michael Schachner   \n",
      "46544              Paso Robles  Central Coast                NaN   \n",
      "186            Anderson Valley            NaN                NaN   \n",
      "\n",
      "      taster_twitter_handle  \\\n",
      "77718                @JoeCz   \n",
      "67681            @vossroger   \n",
      "69877           @wineschach   \n",
      "46544                   NaN   \n",
      "186                     NaN   \n",
      "\n",
      "                                                   title             variety  \\\n",
      "77718  Banrock Station 2006 Chardonnay (South Eastern...          Chardonnay   \n",
      "67681  Cellier des Dauphins 2015 Réserve Rosé (Côtes ...                Rosé   \n",
      "69877  Esperanza 2013 Estate Grown & Bottled Verdejo-...       Verdejo-Viura   \n",
      "46544  Midnight 2010 Nebula Cabernet Sauvignon (Paso ...  Cabernet Sauvignon   \n",
      "186    Harrington 2006 Wiley Vineyard Pinot Noir (And...          Pinot Noir   \n",
      "\n",
      "                     winery  \n",
      "77718       Banrock Station  \n",
      "67681  Cellier des Dauphins  \n",
      "69877             Esperanza  \n",
      "46544              Midnight  \n",
      "186              Harrington  \n",
      "<class 'pandas.core.frame.DataFrame'>\n",
      "Int64Index: 5000 entries, 77718 to 18762\n",
      "Data columns (total 13 columns):\n",
      " #   Column                 Non-Null Count  Dtype  \n",
      "---  ------                 --------------  -----  \n",
      " 0   country                4997 non-null   object \n",
      " 1   description            5000 non-null   object \n",
      " 2   designation            3600 non-null   object \n",
      " 3   points                 5000 non-null   int64  \n",
      " 4   price                  4660 non-null   float64\n",
      " 5   province               4997 non-null   object \n",
      " 6   region_1               4179 non-null   object \n",
      " 7   region_2               1926 non-null   object \n",
      " 8   taster_name            3964 non-null   object \n",
      " 9   taster_twitter_handle  3765 non-null   object \n",
      " 10  title                  5000 non-null   object \n",
      " 11  variety                5000 non-null   object \n",
      " 12  winery                 5000 non-null   object \n",
      "dtypes: float64(1), int64(1), object(11)\n",
      "memory usage: 546.9+ KB\n",
      "None\n"
     ]
    }
   ],
   "source": [
    "\n",
    "del df['Unnamed: 0']\n",
    "print(df.head())\n",
    "print(df.info())"
   ]
  },
  {
   "cell_type": "code",
   "execution_count": 3,
   "metadata": {},
   "outputs": [],
   "source": [
    "df['country_cat'] = df['country'].astype('category')\n",
    "df['country_cat'] = df['country_cat'].cat.codes\n",
    "\n",
    "df['province_cat'] = df['province'].astype('category')\n",
    "df['province_cat'] = df['province_cat'].cat.codes\n",
    "\n",
    "df['winery_cat'] = df['winery'].astype('category')\n",
    "df['winery_cat'] = df['winery_cat'].cat.codes\n",
    "\n",
    "df['variety_cat'] = df['variety'].astype('category')\n",
    "df['variety_cat'] = df['variety_cat'].cat.codes"
   ]
  },
  {
   "cell_type": "code",
   "execution_count": 10,
   "metadata": {},
   "outputs": [],
   "source": [
    "df_filter = df[df['price'] > 0].copy()\n",
    "df_filter = df_filter[df_filter['price'] <= df_filter['price'].mean() + df_filter['price'].std() ].copy()"
   ]
  },
  {
   "cell_type": "code",
   "execution_count": 11,
   "metadata": {},
   "outputs": [],
   "source": [
    "from sklearn.linear_model import LinearRegression\n"
   ]
  },
  {
   "cell_type": "code",
   "execution_count": 12,
   "metadata": {},
   "outputs": [
    {
     "name": "stdout",
     "output_type": "stream",
     "text": [
      "Correlation:  0.4626124788483178\n"
     ]
    }
   ],
   "source": [
    "print(\"Correlation: \", df['points'].corr(df['price']))"
   ]
  },
  {
   "cell_type": "code",
   "execution_count": 13,
   "metadata": {},
   "outputs": [],
   "source": [
    "kf = KFold(n_splits=10, random_state = 42,shuffle=True)\n",
    "\n",
    "y_pred = []\n",
    "y_true = []"
   ]
  },
  {
   "cell_type": "code",
   "execution_count": 29,
   "metadata": {},
   "outputs": [],
   "source": [
    "for train_index, test_index in kf.split(df_filter):\n",
    "    df_test = df_filter.iloc[test_index]\n",
    "    df_train = df_filter.iloc[train_index]\n",
    "    \n",
    "    X_train = np.array(df_train['points']).reshape(-1, 1)     \n",
    "    y_train = np.array(df_train['price']).reshape(-1, 1)\n",
    "    X_test = np.array(df_test['points']).reshape(-1, 1)  \n",
    "    y_test = np.array(df_test['price']).reshape(-1, 1)\n",
    "    model = LinearRegression()\n",
    "    model.fit(X_train, y_train)\n",
    "\n",
    "    y_pred.append(model.predict(X_test)[0])\n",
    "    y_true.append(y_test[0])  "
   ]
  },
  {
   "cell_type": "code",
   "execution_count": 31,
   "metadata": {},
   "outputs": [
    {
     "name": "stdout",
     "output_type": "stream",
     "text": [
      "Mean Square Error (Random Forest):  120.2616258642222\n",
      "Mean Square Error (Linear Regression):  113.98967982781444\n"
     ]
    }
   ],
   "source": [
    "from sklearn.ensemble import RandomForestRegressor\n",
    "\n",
    "kf = KFold(n_splits=10, random_state = 42,shuffle=True)\n",
    "\n",
    "y_pred_rf = []\n",
    "y_true_rf = []\n",
    "\n",
    "features = ['points', 'country_cat', 'province_cat', 'winery_cat', 'variety_cat']\n",
    "\n",
    "for train_index, test_index in kf.split(df_filter):\n",
    "    df_test = df_filter.iloc[test_index]\n",
    "    df_train = df_filter.iloc[train_index]\n",
    "    \n",
    "    X_train = np.array(df_train[features])\n",
    "    y_train = np.array(df_train['price'])\n",
    "    X_test = np.array(df_test[features])\n",
    "    y_test = np.array(df_test['price'])\n",
    "    model = RandomForestRegressor(n_estimators = 1000, max_depth = 1000, random_state = 42)\n",
    "    model.fit(X_train, y_train)\n",
    "\n",
    "    y_pred_rf.append(model.predict(X_test)[0])\n",
    "    y_true_rf.append(y_test[0])    \n",
    "\n",
    "print(\"Mean Square Error (Random Forest): \", mean_squared_error(y_pred_rf, y_true_rf))\n",
    "print(\"Mean Square Error (Linear Regression): \", mean_squared_error(y_true, y_pred))"
   ]
  }
 ],
 "metadata": {
  "interpreter": {
   "hash": "0f93bf75dccce2e11e3e0fe88cb893e67da4cec469989fda437a3a2f92a39a17"
  },
  "kernelspec": {
   "display_name": "Python 3.6.13 ('DataMining')",
   "language": "python",
   "name": "python3"
  },
  "language_info": {
   "codemirror_mode": {
    "name": "ipython",
    "version": 3
   },
   "file_extension": ".py",
   "mimetype": "text/x-python",
   "name": "python",
   "nbconvert_exporter": "python",
   "pygments_lexer": "ipython3",
   "version": "3.6.13"
  },
  "orig_nbformat": 4
 },
 "nbformat": 4,
 "nbformat_minor": 2
}
