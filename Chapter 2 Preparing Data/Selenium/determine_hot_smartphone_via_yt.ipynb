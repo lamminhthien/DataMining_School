{
 "cells": [
  {
   "cell_type": "code",
   "execution_count": 1,
   "metadata": {},
   "outputs": [
    {
     "name": "stdout",
     "output_type": "stream",
     "text": [
      "Collecting selenium\n",
      "  Downloading selenium-3.141.0-py2.py3-none-any.whl (904 kB)\n",
      "Requirement already satisfied: urllib3 in c:\\users\\lammi\\.conda\\envs\\data-mining\\lib\\site-packages (from selenium) (1.26.8)\n",
      "Installing collected packages: selenium\n",
      "Successfully installed selenium-3.141.0\n"
     ]
    }
   ],
   "source": [
    "!pip install selenium"
   ]
  },
  {
   "cell_type": "markdown",
   "metadata": {},
   "source": [
    "# This is for test Webdriver"
   ]
  },
  {
   "cell_type": "code",
   "execution_count": 2,
   "metadata": {},
   "outputs": [],
   "source": [
    "from selenium import webdriver\n",
    "from selenium.webdriver.common.keys import Keys\n",
    "\n",
    "driver = webdriver.Chrome()\n",
    "driver.get(\"http://www.python.org\")\n",
    "assert \"Python\" in driver.title\n",
    "elem = driver.find_element_by_name(\"q\")\n",
    "elem.clear()\n",
    "elem.send_keys(\"pycon\")\n",
    "elem.send_keys(Keys.RETURN)\n",
    "assert \"No results found.\" not in driver.page_source\n",
    "driver.close()"
   ]
  },
  {
   "cell_type": "code",
   "execution_count": 22,
   "metadata": {},
   "outputs": [],
   "source": [
    "from selenium import webdriver\n",
    "from selenium.webdriver.common.keys import Keys\n",
    "from selenium.webdriver.chrome.options import Options\n",
    "options = Options()\n",
    "  \n",
    "# this parameter tells Chrome that\n",
    "# it should be run without UI (Headless)\n",
    "options.headless = True\n",
    "driver = webdriver.Chrome(options=options)\n",
    "# This is for get list name of all smartphone samsung available\n",
    "driver.get('https://www.thegioididong.com/dtdd-realme')\n",
    "# Find list of all samsung phone thegioididong\n",
    "raw_list_elem = driver.find_element_by_xpath('//*[@id=\"categoryPage\"]/div[3]/ul').text\n",
    "driver.close()\n"
   ]
  },
  {
   "cell_type": "code",
   "execution_count": 23,
   "metadata": {},
   "outputs": [
    {
     "name": "stdout",
     "output_type": "stream",
     "text": [
      "Realme C35\n",
      "Realme 9 series\n",
      "Realme 9 Pro 5G\n",
      "Realme 9 Pro+ 5G\n",
      "Realme 8 series\n",
      "Realme 8\n",
      "Realme 8 5G\n",
      "Realme 8 Pro\n",
      "Realme 9i\n",
      "Realme C25Y\n",
      "Realme C21Y\n",
      "Realme C21-Y\n",
      "Realme C11 series\n"
     ]
    }
   ],
   "source": [
    "# Filter only smartphone name\n",
    "list_name = []\n",
    "for line in raw_list_elem.splitlines():\n",
    "    if line.startswith(\"Realme\"):\n",
    "        print(line)\n",
    "        list_name.append(line)"
   ]
  },
  {
   "cell_type": "markdown",
   "metadata": {},
   "source": [
    "# This is for get View count in every smartphone "
   ]
  },
  {
   "cell_type": "code",
   "execution_count": 24,
   "metadata": {},
   "outputs": [
    {
     "name": "stdout",
     "output_type": "stream",
     "text": [
      "Realme C35\n",
      "Baru kali ini saya bisa ngerekomenin flagship dari realme!\n",
      "2M views\n",
      "--------------------------------------------------\n",
      "2.0\n",
      "Realme 9 series\n",
      "realme 9 Pro 5G | #CaptureTheLight | realme 9 Pro Series 5G\n",
      "25M views\n",
      "--------------------------------------------------\n",
      "25.0\n",
      "Realme 9 Pro 5G\n",
      "realme 9 Pro 5G | #CaptureTheLight | realme 9 Pro Series 5G\n",
      "25M views\n",
      "--------------------------------------------------\n",
      "25.0\n",
      "Realme 9 Pro+ 5G\n",
      "realme 9 Pro 5G | #CaptureTheLight | realme 9 Pro Series 5G\n",
      "25M views\n",
      "--------------------------------------------------\n",
      "25.0\n",
      "Realme 8 series\n",
      "realme 8 series | Capture Infinity\n",
      "23M views\n",
      "--------------------------------------------------\n",
      "23.0\n",
      "Realme 8\n",
      "realme 8 series | Capture Infinity\n",
      "23M views\n",
      "--------------------------------------------------\n",
      "23.0\n",
      "Realme 8 5G\n",
      "realme 8 5G | Speed To Infinity\n",
      "15M views\n",
      "--------------------------------------------------\n",
      "15.0\n",
      "Realme 8 Pro\n",
      "realme 8 series | Capture Infinity\n",
      "23M views\n",
      "--------------------------------------------------\n",
      "23.0\n",
      "Realme 9i\n",
      "realme 9i | Next Level Power\n",
      "8M views\n",
      "--------------------------------------------------\n",
      "8.0\n",
      "Realme C25Y\n",
      "Rp2.099 Juta! Review realme C25 Indonesia.\n",
      "1.1M views\n",
      "--------------------------------------------------\n",
      "1.1\n",
      "Realme C21Y\n",
      "Telefon Kontrollü Bulldozer Yaptım! w/ realme C21Y\n",
      "969K views\n",
      "--------------------------------------------------\n",
      "969.0\n",
      "Realme C21-Y\n",
      "Rp2.099 Juta! Review realme C25 Indonesia.\n",
      "1.1M views\n",
      "--------------------------------------------------\n",
      "1.1\n",
      "Realme C11 series\n",
      "Rp1.599 JUTA! Unboxing dan tes PUBGM di realme C11!\n",
      "3.9M views\n",
      "--------------------------------------------------\n",
      "3.9\n"
     ]
    }
   ],
   "source": [
    "# List of count views\n",
    "\n",
    "count_view_smartphone = {}\n",
    "for smartphone in list_name:\n",
    "    driver = webdriver.Chrome(options=options)\n",
    "    keyword = smartphone\n",
    "    filter_by_view_count=\"&sp=CAM%253D\"\n",
    "    url= \"https://www.youtube.com/results?search_query=\"\n",
    "    driver.get(url+keyword+filter_by_view_count)\n",
    "    # Find count view\n",
    "    count_view_element = driver.find_element_by_xpath('//*[@id=\"metadata-line\"]/span[1]')\n",
    "    # Find title video\n",
    "    title_element = driver.find_element_by_xpath('//*[@id=\"video-title\"]/yt-formatted-string')\n",
    "    # print(''+title_element.text + '--' + count_view_element.text)\n",
    "    print(smartphone)\n",
    "    print(title_element.text)\n",
    "    print(count_view_element.text)\n",
    "    print(\"--------------------------------------------------\")\n",
    "    # Get only number:\n",
    "    raw_views_count = count_view_element.text\n",
    "    # print(text.replace(\"M views\",\"\"))\n",
    "    get_only_number = float(raw_views_count.translate({ord(raw_views_count):None for raw_views_count in 'KMviews '}))\n",
    "    print(get_only_number)\n",
    "    count_view_smartphone[smartphone]=get_only_number\n",
    "    driver.close()\n"
   ]
  },
  {
   "cell_type": "code",
   "execution_count": 25,
   "metadata": {},
   "outputs": [
    {
     "name": "stdout",
     "output_type": "stream",
     "text": [
      "[('Realme C25Y', 1.1),\n",
      " ('Realme C21-Y', 1.1),\n",
      " ('Realme C35', 2.0),\n",
      " ('Realme C11 series', 3.9),\n",
      " ('Realme 9i', 8.0),\n",
      " ('Realme 8 5G', 15.0),\n",
      " ('Realme 8 series', 23.0),\n",
      " ('Realme 8', 23.0),\n",
      " ('Realme 8 Pro', 23.0),\n",
      " ('Realme 9 series', 25.0),\n",
      " ('Realme 9 Pro 5G', 25.0),\n",
      " ('Realme 9 Pro+ 5G', 25.0),\n",
      " ('Realme C21Y', 969.0)]\n"
     ]
    }
   ],
   "source": [
    "import pprint\n",
    "sort_dict = sorted(count_view_smartphone.items(),key=lambda x: x[1],reverse=False)\n",
    "pprint.pprint(sort_dict)"
   ]
  },
  {
   "cell_type": "code",
   "execution_count": 6,
   "metadata": {},
   "outputs": [
    {
     "name": "stdout",
     "output_type": "stream",
     "text": [
      "756.0\n"
     ]
    }
   ],
   "source": [
    "text = \"756K views\"\n",
    "# print(text.replace(\"M views\",\"\"))\n",
    "int_text = float(text.translate({ord(text):None for text in 'KMviews '}))\n",
    "print(int_text)"
   ]
  },
  {
   "cell_type": "code",
   "execution_count": null,
   "metadata": {},
   "outputs": [],
   "source": []
  }
 ],
 "metadata": {
  "interpreter": {
   "hash": "1fb2bb42368dbf54f654e95e33784926e3a8504f965f1a919b1f50cd128a280b"
  },
  "kernelspec": {
   "display_name": "Python 3.6.13 ('data-mining')",
   "language": "python",
   "name": "python3"
  },
  "language_info": {
   "codemirror_mode": {
    "name": "ipython",
    "version": 3
   },
   "file_extension": ".py",
   "mimetype": "text/x-python",
   "name": "python",
   "nbconvert_exporter": "python",
   "pygments_lexer": "ipython3",
   "version": "3.6.13"
  },
  "orig_nbformat": 4
 },
 "nbformat": 4,
 "nbformat_minor": 2
}
