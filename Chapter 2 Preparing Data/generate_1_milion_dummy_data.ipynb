{
 "cells": [
  {
   "cell_type": "code",
   "execution_count": 1,
   "metadata": {},
   "outputs": [
    {
     "name": "stdout",
     "output_type": "stream",
     "text": [
      "Collecting FakerNote: you may need to restart the kernel to use updated packages.\n",
      "  Downloading Faker-13.3.1-py3-none-any.whl (1.5 MB)\n",
      "Requirement already satisfied: python-dateutil>=2.4 in c:\\users\\lammi\\anaconda3\\envs\\datamining\\lib\\site-packages (from Faker) (2.8.2)\n",
      "Requirement already satisfied: typing-extensions>=3.10.0.2 in c:\\users\\lammi\\anaconda3\\envs\\datamining\\lib\\site-packages (from Faker) (3.10.0.2)\n",
      "Requirement already satisfied: six>=1.5 in c:\\users\\lammi\\anaconda3\\envs\\datamining\\lib\\site-packages (from python-dateutil>=2.4->Faker) (1.16.0)\n",
      "Installing collected packages: Faker\n",
      "Successfully installed Faker-13.3.1\n",
      "\n"
     ]
    }
   ],
   "source": [
    "%pip install faker\n",
    "%pip install pandas"
   ]
  },
  {
   "cell_type": "markdown",
   "metadata": {},
   "source": [
    "# Python snippets for each column"
   ]
  },
  {
   "cell_type": "code",
   "execution_count": 7,
   "metadata": {},
   "outputs": [
    {
     "name": "stdout",
     "output_type": "stream",
     "text": [
      "            0                 1  2                      3                 4  \\\n",
      "0  2021-04-19      David Rivera  M  freemanluke@stark.com       West Daniel   \n",
      "1  2021-03-25  Richard Santiago  M       mellis@smith.com         North Don   \n",
      "2  2021-03-27       Sheila Cook  F     reedjohn@yahoo.com  West Jonathanton   \n",
      "3  2021-03-15    Oscar Williams  F       qwalls@yahoo.com  Lake Michaelland   \n",
      "4  2021-03-22     Craig Hubbard  F   patrick57@nguyen.net       Heatherberg   \n",
      "\n",
      "          5      6  \n",
      "0  71552521  26.65  \n",
      "1  43009602  39.48  \n",
      "2  44014575  54.13  \n",
      "3  13412142  31.55  \n",
      "4  21300349  50.52  \n"
     ]
    }
   ],
   "source": [
    "import pandas as pd\n",
    "import random\n",
    "from faker import Faker\n",
    "from random import randrange\n",
    "from datetime import datetime\n",
    "\n",
    "nr_of_customers = 1000000\n",
    "# Localization https://www.science.co.il/language/Locale-codes.php\n",
    "fake = Faker()\n",
    "\n",
    "customers = []\n",
    "\n",
    "for customers_id in range(nr_of_customers):\n",
    "\n",
    "    # Create transaction date\n",
    "    d1 = datetime.strptime(f'1/1/2021','%m/%d/%Y')\n",
    "    d2 = datetime.strptime(f'8/10/2021','%m/%d/%Y')\n",
    "\n",
    "    transaction_date = fake.date_between(d1,d2)\n",
    "\n",
    "    # create customer's name\n",
    "    name = fake.name()\n",
    "    \n",
    "    # create gender\n",
    "    gender = random.choice([\"M\",\"F\"])\n",
    "\n",
    "    # Create Email\n",
    "    email = fake.ascii_email()\n",
    "\n",
    "    # create city\n",
    "    city = fake.city()\n",
    "\n",
    "    # create product ID in 8-digit barcode\n",
    "    product_ID = fake.ean(length=8)\n",
    "\n",
    "    #create amount spent \n",
    "    amount_spent = fake.pyfloat(right_digits=2,positive=True,min_value=1,max_value=100)\n",
    "\n",
    "    customers.append([transaction_date,name,gender,email,city,product_ID,amount_spent])\n",
    "\n",
    "customers_df = pd.DataFrame(customers,columns=['Transaction_date','Name','Gender','Email','City','Product_id','Amount_spent'])\n",
    "\n",
    "print(customers_df.head())\n",
    "\n"
   ]
  },
  {
   "cell_type": "markdown",
   "metadata": {},
   "source": [
    "# Save to CSV"
   ]
  },
  {
   "cell_type": "code",
   "execution_count": 10,
   "metadata": {},
   "outputs": [],
   "source": [
    "customers_df.to_csv('fakedata.csv')"
   ]
  },
  {
   "cell_type": "code",
   "execution_count": null,
   "metadata": {},
   "outputs": [],
   "source": []
  }
 ],
 "metadata": {
  "interpreter": {
   "hash": "0f93bf75dccce2e11e3e0fe88cb893e67da4cec469989fda437a3a2f92a39a17"
  },
  "kernelspec": {
   "display_name": "Python 3.6.13 ('DataMining')",
   "language": "python",
   "name": "python3"
  },
  "language_info": {
   "codemirror_mode": {
    "name": "ipython",
    "version": 3
   },
   "file_extension": ".py",
   "mimetype": "text/x-python",
   "name": "python",
   "nbconvert_exporter": "python",
   "pygments_lexer": "ipython3",
   "version": "3.6.13"
  },
  "orig_nbformat": 4
 },
 "nbformat": 4,
 "nbformat_minor": 2
}
