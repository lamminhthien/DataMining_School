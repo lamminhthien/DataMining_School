{
 "cells": [
  {
   "cell_type": "code",
   "execution_count": 1,
   "metadata": {},
   "outputs": [
    {
     "name": "stdout",
     "output_type": "stream",
     "text": [
      "Collecting FakerNote: you may need to restart the kernel to use updated packages.\n",
      "  Downloading Faker-13.3.1-py3-none-any.whl (1.5 MB)\n",
      "Requirement already satisfied: python-dateutil>=2.4 in c:\\users\\lammi\\anaconda3\\envs\\datamining\\lib\\site-packages (from Faker) (2.8.2)\n",
      "Requirement already satisfied: typing-extensions>=3.10.0.2 in c:\\users\\lammi\\anaconda3\\envs\\datamining\\lib\\site-packages (from Faker) (3.10.0.2)\n",
      "Requirement already satisfied: six>=1.5 in c:\\users\\lammi\\anaconda3\\envs\\datamining\\lib\\site-packages (from python-dateutil>=2.4->Faker) (1.16.0)\n",
      "Installing collected packages: Faker\n",
      "Successfully installed Faker-13.3.1\n",
      "\n"
     ]
    }
   ],
   "source": [
    "%pip install Faker\n",
    "%pip install pandas"
   ]
  },
  {
   "cell_type": "markdown",
   "metadata": {},
   "source": [
    "# Python snippets for each column"
   ]
  },
  {
   "cell_type": "code",
   "execution_count": 2,
   "metadata": {},
   "outputs": [
    {
     "name": "stdout",
     "output_type": "stream",
     "text": [
      "    Transaction_date                             Name Gender  \\\n",
      "0         2021-02-07           Adriane Lindau-Roskoth      F   \n",
      "1         2021-02-19   Prof. Klaus-Michael Krein B.A.      M   \n",
      "2         2021-03-25                       Ilias Mies      M   \n",
      "3         2021-03-26              Malte Kallert-Rädel      M   \n",
      "4         2021-05-27             Ernst-August Peukert      M   \n",
      "..               ...                              ...    ...   \n",
      "995       2021-03-02             Steve Schinke-Kobelt      F   \n",
      "996       2021-02-11                       Paola Drub      F   \n",
      "997       2021-02-21                 Wendelin Roskoth      M   \n",
      "998       2021-02-03         Univ.Prof. Agathe Johann      M   \n",
      "999       2021-01-21  Univ.Prof. Klaus-D. Dowerg B.A.      M   \n",
      "\n",
      "                         Email          City Product_id  Amount_spent  \n",
      "0            arosenow@trupp.de     Gadebusch   83428326         99.86  \n",
      "1        annettewinkler@web.de     Stuttgart   56805505         68.86  \n",
      "2     wulffsigismund@gmail.com    Miltenberg   69070730         27.81  \n",
      "3            alexawilms@aol.de    Ingolstadt   33820392         42.78  \n",
      "4    eckbauererika@paffrath.de    Deggendorf   91678027         11.95  \n",
      "..                         ...           ...        ...           ...  \n",
      "995  pkraushaar@googlemail.com     Pirmasens   91134387         63.12  \n",
      "996           fernst@jacobi.de  Sangerhausen   59495604         35.51  \n",
      "997          guelay72@wilms.de    Greifswald   29663873         87.29  \n",
      "998   wohlgemutartur@naser.net     Eichstätt   45260889         15.55  \n",
      "999            susann92@gmx.de    Regensburg   55449489         24.10  \n",
      "\n",
      "[1000 rows x 7 columns]\n"
     ]
    }
   ],
   "source": [
    "import pandas as pd\n",
    "import random\n",
    "from faker import Faker\n",
    "from random import randrange\n",
    "from datetime import datetime\n",
    "\n",
    "nr_of_customers = 1000\n",
    "\n",
    "fake = Faker('de_DE')\n",
    "\n",
    "customers = []\n",
    "\n",
    "for customers_id in range(nr_of_customers):\n",
    "\n",
    "    # Create transaction date \n",
    "    d1 = datetime.strptime(f'1/1/2021', '%m/%d/%Y')\n",
    "    d2 = datetime.strptime(f'8/10/2021', '%m/%d/%Y')\n",
    "    transaction_date = fake.date_between(d1, d2)\n",
    "\n",
    "    #create customer's name\n",
    "    name = fake.name()\n",
    "\n",
    "    # Create gender\n",
    "    gender = random.choice([\"M\", \"F\"])\n",
    "\n",
    "    # Create email \n",
    "    email = fake.ascii_email()\n",
    "\n",
    "    #Create city\n",
    "    city = fake.city()\n",
    "\n",
    "    #create product ID in 8-digit barcode\n",
    "    product_ID = fake.ean(length=8)\n",
    "    \n",
    "    #create amount spent\n",
    "    amount_spent = fake.pyfloat(right_digits=2, positive=True, min_value=1, max_value=100)\n",
    "\n",
    "    customers.append([transaction_date, name, gender, email, city, product_ID, amount_spent])\n",
    "\n",
    "customers_df = pd.DataFrame(customers, columns=['Transaction_date','Name', 'Gender','Email', 'City','Product_id', 'Amount_spent']) \n",
    "                \n",
    "pd.pandas.set_option('display.max_columns', None)\n",
    "print(customers_df)"
   ]
  },
  {
   "cell_type": "markdown",
   "metadata": {},
   "source": [
    "# Save to CSV"
   ]
  },
  {
   "cell_type": "code",
   "execution_count": 4,
   "metadata": {},
   "outputs": [],
   "source": [
    "customers_df.to_csv('fakedata.csv',header=True,index=False)"
   ]
  },
  {
   "cell_type": "code",
   "execution_count": null,
   "metadata": {},
   "outputs": [],
   "source": []
  }
 ],
 "metadata": {
  "interpreter": {
   "hash": "0f93bf75dccce2e11e3e0fe88cb893e67da4cec469989fda437a3a2f92a39a17"
  },
  "kernelspec": {
   "display_name": "Python 3.6.13 ('DataMining')",
   "language": "python",
   "name": "python3"
  },
  "language_info": {
   "codemirror_mode": {
    "name": "ipython",
    "version": 3
   },
   "file_extension": ".py",
   "mimetype": "text/x-python",
   "name": "python",
   "nbconvert_exporter": "python",
   "pygments_lexer": "ipython3",
   "version": "3.6.13"
  },
  "orig_nbformat": 4
 },
 "nbformat": 4,
 "nbformat_minor": 2
}
