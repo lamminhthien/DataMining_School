{
 "cells": [
  {
   "cell_type": "markdown",
   "metadata": {},
   "source": [
    "<h3>Ordinal Encoding for Categorical Variables</h3>"
   ]
  },
  {
   "cell_type": "code",
   "execution_count": 1,
   "metadata": {},
   "outputs": [],
   "source": [
    "import pandas as pd\n",
    "import numpy as np"
   ]
  },
  {
   "cell_type": "markdown",
   "metadata": {},
   "source": [
    "<p>However in the case of ordinal variables, the user must be cautious in using <a href=\"http://pandas-docs.github.io/pandas-docs-travis/generated/pandas.factorize.html\" rel=\"nofollow noreferrer\"><code>pandas.factorize</code></a>. The reason is that the engineer wants to preserve the relationship in the mapping such that <code> a &gt; b &gt; c</code>.</p>"
   ]
  },
  {
   "cell_type": "markdown",
   "metadata": {},
   "source": [
    "<p>So if I want to take a set of categorical variables where <code>large &gt; medium &gt; small</code>, and preserve that, I need to make sure that <code>pandas.factorize</code> preserves that relationship.</p>"
   ]
  },
  {
   "cell_type": "code",
   "execution_count": 2,
   "metadata": {},
   "outputs": [
    {
     "name": "stdout",
     "output_type": "stream",
     "text": [
      "0     1\n",
      "1     0\n",
      "2     0\n",
      "3     1\n",
      "4     1\n",
      "     ..\n",
      "95    2\n",
      "96    2\n",
      "97    1\n",
      "98    0\n",
      "99    0\n",
      "Length: 100, dtype: int32\n"
     ]
    }
   ],
   "source": [
    "# create a sample of OPs unique values\n",
    "series = pd.Series(np.random.randint(0,3,100))\n",
    "print(series)"
   ]
  },
  {
   "cell_type": "code",
   "execution_count": 3,
   "metadata": {},
   "outputs": [
    {
     "name": "stdout",
     "output_type": "stream",
     "text": [
      "(array([0, 1, 1, 0, 0, 1, 2, 1, 0, 1, 1, 0, 1, 2, 2, 1, 2, 2, 1, 1, 1, 2,\n",
      "       2, 0, 2, 2, 1, 2, 0, 0, 1, 1, 0, 0, 1, 1, 2, 2, 2, 2, 1, 1, 0, 0,\n",
      "       1, 1, 1, 1, 0, 0, 2, 1, 0, 1, 2, 0, 2, 2, 0, 1, 1, 0, 1, 1, 0, 1,\n",
      "       0, 2, 1, 1, 1, 0, 2, 1, 2, 0, 0, 1, 0, 0, 0, 0, 2, 0, 0, 2, 2, 2,\n",
      "       1, 1, 1, 2, 2, 1, 0, 2, 2, 0, 1, 1], dtype=int64), Index(['medium', 'small', 'large'], dtype='object'))\n"
     ]
    }
   ],
   "source": [
    "mapper = {0:'small',1:'medium',2:'large'}\n",
    "ordinal_variable = series.replace(mapper)\n",
    "\n",
    "print(pd.factorize(ordinal_variable))"
   ]
  },
  {
   "cell_type": "code",
   "execution_count": null,
   "metadata": {},
   "outputs": [],
   "source": []
  }
 ],
 "metadata": {
  "interpreter": {
   "hash": "0f93bf75dccce2e11e3e0fe88cb893e67da4cec469989fda437a3a2f92a39a17"
  },
  "kernelspec": {
   "display_name": "Python 3.6.13 ('DataMining')",
   "language": "python",
   "name": "python3"
  },
  "language_info": {
   "codemirror_mode": {
    "name": "ipython",
    "version": 3
   },
   "file_extension": ".py",
   "mimetype": "text/x-python",
   "name": "python",
   "nbconvert_exporter": "python",
   "pygments_lexer": "ipython3",
   "version": "3.6.13"
  },
  "orig_nbformat": 4
 },
 "nbformat": 4,
 "nbformat_minor": 2
}
