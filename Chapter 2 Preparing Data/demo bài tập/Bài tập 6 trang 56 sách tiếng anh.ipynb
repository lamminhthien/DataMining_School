{
 "cells": [
  {
   "cell_type": "markdown",
   "metadata": {},
   "source": [
    "Cho dataset X = {-5.0,23,17.6,7.23,1.11}"
   ]
  },
  {
   "cell_type": "code",
   "execution_count": 2,
   "metadata": {},
   "outputs": [
    {
     "data": {
      "text/plain": [
       "[-5.0, 23, 17.6, 7.23, 1.11]"
      ]
     },
     "execution_count": 2,
     "metadata": {},
     "output_type": "execute_result"
    }
   ],
   "source": [
    "X = [-5.0,23,17.6,7.23,1.11]\n",
    "X"
   ]
  },
  {
   "cell_type": "markdown",
   "metadata": {},
   "source": [
    "a) Co nhỏ  dữ liệu về phạm vi [-1,1]\n",
    "- Tìm giá trị lớn nhất trong dataset X"
   ]
  },
  {
   "cell_type": "code",
   "execution_count": 3,
   "metadata": {},
   "outputs": [
    {
     "data": {
      "text/plain": [
       "23"
      ]
     },
     "execution_count": 3,
     "metadata": {},
     "output_type": "execute_result"
    }
   ],
   "source": [
    "maxSample = max(X)\n",
    "maxSample"
   ]
  },
  {
   "cell_type": "markdown",
   "metadata": {},
   "source": [
    "- Tính k bằng số lượng chữ số của maxSample"
   ]
  },
  {
   "cell_type": "code",
   "execution_count": 5,
   "metadata": {},
   "outputs": [
    {
     "data": {
      "text/plain": [
       "2"
      ]
     },
     "execution_count": 5,
     "metadata": {},
     "output_type": "execute_result"
    }
   ],
   "source": [
    "k = len(str(maxSample))\n",
    "k"
   ]
  },
  {
   "cell_type": "markdown",
   "metadata": {},
   "source": [
    "- Scale down dữ liệu"
   ]
  },
  {
   "cell_type": "code",
   "execution_count": 7,
   "metadata": {},
   "outputs": [
    {
     "data": {
      "text/plain": [
       "[-0.05, 0.23, 0.17600000000000002, 0.0723, 0.0111]"
      ]
     },
     "execution_count": 7,
     "metadata": {},
     "output_type": "execute_result"
    }
   ],
   "source": [
    "X_scaleDown = []\n",
    "for i in range(0,len(X)):\n",
    "    X_scaleDown.append(X[i]/pow(10,k))\n",
    "X_scaleDown\n"
   ]
  },
  {
   "cell_type": "markdown",
   "metadata": {},
   "source": [
    "b) Min-max normalization on interval [0,1]"
   ]
  },
  {
   "cell_type": "markdown",
   "metadata": {},
   "source": [
    "Cho dataset X = {-5.0,23,17.6,7.23,1.11}"
   ]
  },
  {
   "cell_type": "code",
   "execution_count": 9,
   "metadata": {},
   "outputs": [
    {
     "data": {
      "text/plain": [
       "[0.0, 1.0, 0.8071428571428572, 0.4367857142857143, 0.21821428571428572]"
      ]
     },
     "execution_count": 9,
     "metadata": {},
     "output_type": "execute_result"
    }
   ],
   "source": [
    "X_scale_minMaxNormalization = []\n",
    "for i in range(0,len(X)):\n",
    "    X_scale_minMaxNormalization.append( (X[i] - min(X)) / (max(X) - min(X)) )\n",
    "\n",
    "X_scale_minMaxNormalization    "
   ]
  },
  {
   "cell_type": "markdown",
   "metadata": {},
   "source": [
    "c) Min-max normalization on interval [-1,1]\n",
    "\n",
    "<img src=\"Min-max normalization on interval [a,b].png\">"
   ]
  },
  {
   "cell_type": "code",
   "execution_count": 13,
   "metadata": {},
   "outputs": [
    {
     "name": "stdout",
     "output_type": "stream",
     "text": [
      "-1.0\n",
      "1.0\n",
      "0.6142857142857143\n",
      "-0.12642857142857145\n",
      "-0.5635714285714286\n"
     ]
    },
    {
     "data": {
      "text/plain": [
       "[-1.0, 1.0, 0.6142857142857143, -0.12642857142857145, -0.5635714285714286]"
      ]
     },
     "execution_count": 13,
     "metadata": {},
     "output_type": "execute_result"
    }
   ],
   "source": [
    "X_scale_minMaxNormalizationBetween_a_and_b = []\n",
    "a = -1\n",
    "b = 1\n",
    "for i in range(0,len(X)):\n",
    "    X_scale_minMaxNormalizationBetween_a_and_b.append( (b-a)*( (X[i] - min(X)) / (max(X) - min(X)) ) + a )\n",
    "X_scale_minMaxNormalizationBetween_a_and_b"
   ]
  },
  {
   "cell_type": "markdown",
   "metadata": {},
   "source": [
    "d) Standard deviation normalization"
   ]
  },
  {
   "cell_type": "code",
   "execution_count": 16,
   "metadata": {},
   "outputs": [
    {
     "name": "stdout",
     "output_type": "stream",
     "text": [
      "Mean = 8.788\n",
      "Standard Deviration = 11.52302347476564\n",
      "Variance of X = 132.78007000000002\n"
     ]
    }
   ],
   "source": [
    "import math\n",
    "import numpy as np\n",
    "sd = 0\n",
    "numerator = 0 # Tử số\n",
    "denominator = len(X) - 1 # Mẫu số\n",
    "meanX = sum(X) / len(X)\n",
    "for i in range(0,len(X)):\n",
    "    numerator = numerator + pow(X[i]-meanX,2)\n",
    "\n",
    "sd = math.sqrt(numerator/denominator)\n",
    "print(f'Mean = {meanX}')\n",
    "print(f'Standard Deviration = {sd}')\n",
    "print(f'Variance of X = {pow(sd,2)}')"
   ]
  },
  {
   "cell_type": "markdown",
   "metadata": {},
   "source": [
    "Cho dataset X = {-5.0,23,17.6,7.23,1.11}"
   ]
  },
  {
   "cell_type": "code",
   "execution_count": 17,
   "metadata": {},
   "outputs": [
    {
     "data": {
      "text/plain": [
       "[-1.1965609573038232,\n",
       " 1.233356855613717,\n",
       " 0.7647298488367631,\n",
       " -0.13520756973305453,\n",
       " -0.6663181774136027]"
      ]
     },
     "execution_count": 17,
     "metadata": {},
     "output_type": "execute_result"
    }
   ],
   "source": [
    "standardDeviationNormalization = []\n",
    "for i in range(0,len(X)):\n",
    "    standardDeviationNormalization.append( (X[i]-meanX) / sd )\n",
    "standardDeviationNormalization\n"
   ]
  },
  {
   "cell_type": "code",
   "execution_count": 1,
   "metadata": {},
   "outputs": [],
   "source": [
    "remaining = 100 -44"
   ]
  },
  {
   "cell_type": "code",
   "execution_count": 2,
   "metadata": {},
   "outputs": [
    {
     "data": {
      "text/plain": [
       "56"
      ]
     },
     "execution_count": 2,
     "metadata": {},
     "output_type": "execute_result"
    }
   ],
   "source": [
    "remaining"
   ]
  },
  {
   "cell_type": "code",
   "execution_count": 3,
   "metadata": {},
   "outputs": [],
   "source": [
    "time = 5*60 + 38"
   ]
  },
  {
   "cell_type": "code",
   "execution_count": 4,
   "metadata": {},
   "outputs": [
    {
     "data": {
      "text/plain": [
       "338"
      ]
     },
     "execution_count": 4,
     "metadata": {},
     "output_type": "execute_result"
    }
   ],
   "source": [
    "time"
   ]
  },
  {
   "cell_type": "code",
   "execution_count": 5,
   "metadata": {},
   "outputs": [],
   "source": [
    "minute_per_percentageBattery = remaining / time"
   ]
  },
  {
   "cell_type": "code",
   "execution_count": 6,
   "metadata": {},
   "outputs": [
    {
     "data": {
      "text/plain": [
       "0.16568047337278108"
      ]
     },
     "execution_count": 6,
     "metadata": {},
     "output_type": "execute_result"
    }
   ],
   "source": [
    "minute_per_percentageBattery"
   ]
  },
  {
   "cell_type": "code",
   "execution_count": null,
   "metadata": {},
   "outputs": [],
   "source": []
  }
 ],
 "metadata": {
  "interpreter": {
   "hash": "0f93bf75dccce2e11e3e0fe88cb893e67da4cec469989fda437a3a2f92a39a17"
  },
  "kernelspec": {
   "display_name": "Python 3.6.13 ('DataMining')",
   "language": "python",
   "name": "python3"
  },
  "language_info": {
   "codemirror_mode": {
    "name": "ipython",
    "version": 3
   },
   "file_extension": ".py",
   "mimetype": "text/x-python",
   "name": "python",
   "nbconvert_exporter": "python",
   "pygments_lexer": "ipython3",
   "version": "3.6.13"
  },
  "orig_nbformat": 4
 },
 "nbformat": 4,
 "nbformat_minor": 2
}
