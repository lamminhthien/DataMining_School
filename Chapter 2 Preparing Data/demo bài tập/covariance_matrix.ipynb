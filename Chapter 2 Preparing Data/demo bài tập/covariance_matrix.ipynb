{
 "cells": [
  {
   "cell_type": "code",
   "execution_count": 46,
   "metadata": {},
   "outputs": [],
   "source": [
    "import numpy\n",
    "import statistics"
   ]
  },
  {
   "cell_type": "markdown",
   "metadata": {},
   "source": [
    "Với 3 mẫu dữ liệu trên, ta tìm cách sắp chúng lại thành ma trận có kích thước m x N (2 dòng, 3 cột). Để làm điều đó dễ dàng, ta sắp chúng thành ma trận có kích thước N x m trước, sau đó chuyển vị để được ma trận m x N."
   ]
  },
  {
   "cell_type": "code",
   "execution_count": 88,
   "metadata": {},
   "outputs": [],
   "source": [
    "# Cho 3 mẫu dữ liệu\n",
    "A = numpy.array([-2,-2])\n",
    "B = numpy.array([-1,4])\n",
    "C = numpy.array([2,3])"
   ]
  },
  {
   "cell_type": "markdown",
   "metadata": {},
   "source": [
    "Ma trận N x m:"
   ]
  },
  {
   "cell_type": "code",
   "execution_count": 89,
   "metadata": {},
   "outputs": [
    {
     "name": "stdout",
     "output_type": "stream",
     "text": [
      "[[-2 -2]\n",
      " [-1  4]\n",
      " [ 2  3]]\n"
     ]
    }
   ],
   "source": [
    "# Hình thành ma trận\n",
    "Matrix = numpy.array([A,B,C])\n",
    "print(Matrix)"
   ]
  },
  {
   "cell_type": "markdown",
   "metadata": {},
   "source": [
    "Chuyển vị ma trận N x m thành ma trận m x N, đặt tên là K:"
   ]
  },
  {
   "cell_type": "code",
   "execution_count": 90,
   "metadata": {},
   "outputs": [
    {
     "name": "stdout",
     "output_type": "stream",
     "text": [
      "[[-2 -1  2]\n",
      " [-2  4  3]]\n"
     ]
    }
   ],
   "source": [
    "K = numpy.transpose(Matrix)\n",
    "print(K)"
   ]
  },
  {
   "cell_type": "markdown",
   "metadata": {},
   "source": [
    "Ma trận K có kích thước m x N (2x3) với m là số chiều của mẫu dữ liệu, N là số mẫu dữ liệu.\n",
    "\n",
    "**II. Tính mẫu trung bình**"
   ]
  },
  {
   "cell_type": "markdown",
   "metadata": {},
   "source": [
    "Do mỗi điểm của chúng ta nằm trên không gian 2 chiều (m=2), do đó khi ta tìm trọng tâm M (giá trị trung bình của N mẫu trên không gian m chiều, tạm gọi nó là mẫu trung bình) thì trọng tâm này cũng là 2 chiều"
   ]
  },
  {
   "cell_type": "code",
   "execution_count": 144,
   "metadata": {},
   "outputs": [
    {
     "name": "stdout",
     "output_type": "stream",
     "text": [
      "[-0.33333333  1.66666667]\n"
     ]
    }
   ],
   "source": [
    "M = []\n",
    "for i in range(0,len(K)):\n",
    "    M.append(numpy.mean(K[i]))\n",
    "\n",
    "M = numpy.array(M)\n",
    "print(M)\n",
    "\n"
   ]
  },
  {
   "cell_type": "markdown",
   "metadata": {},
   "source": [
    "**III. Trừ mỗi mẫu với giá trị trung bình để tìm độ lệch**\n",
    "\n",
    "Ta nhân bản ma trận M thành tương ứng N mẫu được ma trận M2:"
   ]
  },
  {
   "cell_type": "code",
   "execution_count": 177,
   "metadata": {},
   "outputs": [],
   "source": [
    "M2 = numpy.tile(M,(len(Matrix),1))\n",
    "M2 = M2.T"
   ]
  },
  {
   "cell_type": "markdown",
   "metadata": {},
   "source": [
    "Sau đó trừ từng phân tử của ma trận M với từng phân tử tương ứng của ma trận M"
   ]
  },
  {
   "cell_type": "code",
   "execution_count": 180,
   "metadata": {},
   "outputs": [
    {
     "data": {
      "text/plain": [
       "array([[-1.66666667, -0.66666667,  2.33333333],\n",
       "       [-3.66666667,  2.33333333,  1.33333333]])"
      ]
     },
     "execution_count": 180,
     "metadata": {},
     "output_type": "execute_result"
    }
   ],
   "source": [
    "D = K - M2\n",
    "D"
   ]
  },
  {
   "cell_type": "markdown",
   "metadata": {},
   "source": [
    "**IV. Tính ma trận hiệp phương sai m x m**\n",
    "\n",
    "Ma trận hiệp phương sai C:"
   ]
  },
  {
   "cell_type": "code",
   "execution_count": 184,
   "metadata": {},
   "outputs": [
    {
     "data": {
      "text/plain": [
       "3"
      ]
     },
     "execution_count": 184,
     "metadata": {},
     "output_type": "execute_result"
    }
   ],
   "source": [
    "N = len(Matrix)\n",
    "N"
   ]
  },
  {
   "cell_type": "code",
   "execution_count": 193,
   "metadata": {},
   "outputs": [
    {
     "data": {
      "text/plain": [
       "array([[ 4.33333333,  3.83333333],\n",
       "       [ 3.83333333, 10.33333333]])"
      ]
     },
     "execution_count": 193,
     "metadata": {},
     "output_type": "execute_result"
    }
   ],
   "source": [
    "C = (1/(N-1))*D\n",
    "numpy.dot(C,numpy.transpose(D))"
   ]
  },
  {
   "cell_type": "markdown",
   "metadata": {},
   "source": [
    "**V. Nhận xét ma trận hiệp phương sai (covariance matrix)**\n",
    "\n",
    "c11 và c22 lần lượt là phương sai (variance) của trục X và trục Y. Nói cách khác, các phần tử trên đường chéo chính của ma trận hiệp phương sai là các phương sai của các mẫu dữ liệu.\n",
    "\n",
    "Ma trận hiệp phương sai có tính chất đối xứng qua đường chéo chính\n",
    "- c11 = 4.33 \n",
    "- c22 = 10.33"
   ]
  },
  {
   "cell_type": "markdown",
   "metadata": {},
   "source": [
    "**Kiểm chứng kết quả tính toán ma trận hiệp phương sai bằng thư viện có sẵn của python (covariance matrix)**\n"
   ]
  },
  {
   "cell_type": "code",
   "execution_count": 194,
   "metadata": {},
   "outputs": [
    {
     "name": "stdout",
     "output_type": "stream",
     "text": [
      "cov: [[ 4.33333333  3.83333333]\n",
      " [ 3.83333333 10.33333333]]\n"
     ]
    }
   ],
   "source": [
    "print(f'cov: {numpy.cov(Matrix.T)}')"
   ]
  },
  {
   "cell_type": "markdown",
   "metadata": {},
   "source": [
    "# Nguồn tài liệu tham khảo:\n",
    "\n",
    "https://minhng.info/toan-hoc/ma-tran-hiep-phuong-sai-covariance-matrix.html"
   ]
  }
 ],
 "metadata": {
  "interpreter": {
   "hash": "0f93bf75dccce2e11e3e0fe88cb893e67da4cec469989fda437a3a2f92a39a17"
  },
  "kernelspec": {
   "display_name": "Python 3.6.13 ('DataMining')",
   "language": "python",
   "name": "python3"
  },
  "language_info": {
   "codemirror_mode": {
    "name": "ipython",
    "version": 3
   },
   "file_extension": ".py",
   "mimetype": "text/x-python",
   "name": "python",
   "nbconvert_exporter": "python",
   "pygments_lexer": "ipython3",
   "version": "3.6.13"
  },
  "orig_nbformat": 4
 },
 "nbformat": 4,
 "nbformat_minor": 2
}
