{
 "cells": [
  {
   "cell_type": "code",
   "execution_count": 1,
   "metadata": {},
   "outputs": [],
   "source": [
    "import pandas as pd"
   ]
  },
  {
   "cell_type": "code",
   "execution_count": 2,
   "metadata": {},
   "outputs": [],
   "source": [
    "data = pd.read_csv('Mobile_phone_scores.csv')"
   ]
  },
  {
   "cell_type": "markdown",
   "metadata": {},
   "source": [
    "# Ranking Phone with best battery score"
   ]
  },
  {
   "cell_type": "code",
   "execution_count": 3,
   "metadata": {},
   "outputs": [],
   "source": [
    "data[['Battery_Score','Phone_Name']].sort_values('Battery_Score',axis=0,ascending=False).to_csv('Battery_Score_Ranking.csv')"
   ]
  },
  {
   "cell_type": "markdown",
   "metadata": {},
   "source": [
    "Count how many phone have the same battery score and order by descending"
   ]
  },
  {
   "cell_type": "code",
   "execution_count": 14,
   "metadata": {},
   "outputs": [],
   "source": [
    "battery_score = data['Battery_Score'].value_counts()"
   ]
  },
  {
   "cell_type": "code",
   "execution_count": 22,
   "metadata": {},
   "outputs": [
    {
     "data": {
      "text/plain": [
       "76               58\n",
       "81               56\n",
       "78               46\n",
       "77               46\n",
       "85               40\n",
       "79               38\n",
       "74               26\n",
       "82               24\n",
       "83               24\n",
       "75               22\n",
       "88               18\n",
       "84               18\n",
       "71               18\n",
       "73               16\n",
       "72               16\n",
       "62               14\n",
       "68               14\n",
       "69               12\n",
       "80               12\n",
       "91                8\n",
       "87                8\n",
       "61                8\n",
       "86                6\n",
       "65                6\n",
       "64                6\n",
       "67                6\n",
       "70                6\n",
       "60                4\n",
       "89                4\n",
       "92                4\n",
       "90                4\n",
       "94                4\n",
       "93                2\n",
       "58                2\n",
       "57                2\n",
       "63                2\n",
       "Battery_Score     1\n",
       "Name: Battery_Score, dtype: int64"
      ]
     },
     "execution_count": 22,
     "metadata": {},
     "output_type": "execute_result"
    }
   ],
   "source": [
    "battery_score.sort_values(ascending=False)"
   ]
  },
  {
   "cell_type": "code",
   "execution_count": null,
   "metadata": {},
   "outputs": [],
   "source": []
  }
 ],
 "metadata": {
  "interpreter": {
   "hash": "0f93bf75dccce2e11e3e0fe88cb893e67da4cec469989fda437a3a2f92a39a17"
  },
  "kernelspec": {
   "display_name": "Python 3.6.13 ('DataMining')",
   "language": "python",
   "name": "python3"
  },
  "language_info": {
   "codemirror_mode": {
    "name": "ipython",
    "version": 3
   },
   "file_extension": ".py",
   "mimetype": "text/x-python",
   "name": "python",
   "nbconvert_exporter": "python",
   "pygments_lexer": "ipython3",
   "version": "3.6.13"
  },
  "orig_nbformat": 4
 },
 "nbformat": 4,
 "nbformat_minor": 2
}
