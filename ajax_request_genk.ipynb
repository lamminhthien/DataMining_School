{
 "cells": [
  {
   "cell_type": "code",
   "execution_count": 26,
   "metadata": {},
   "outputs": [],
   "source": [
    "import requests_html\n",
    "from bs4 import BeautifulSoup\n",
    "import json\n",
    "from collections import Counter\n",
    "ajax_link = 'https://tinhte.vn/thread/rat-nhieu-tv-dang-bi-hien-thi-menu-youtube-sang-tieng-trung-quoc.3503388/'\n",
    "req = requests_html.HTMLSession()\n",
    "res = req.get(ajax_link)\n",
    "res_body = res.content\n",
    "soup = BeautifulSoup(res_body)\n",
    "import html2text\n",
    "markDown = html2text.html2text(str(soup))\n",
    "with open('tinhte2.md','w') as f:\n",
    "    f.write(markDown)\n"
   ]
  },
  {
   "cell_type": "code",
   "execution_count": null,
   "metadata": {},
   "outputs": [],
   "source": []
  }
 ],
 "metadata": {
  "interpreter": {
   "hash": "c156cbd56f2befb501b04e4bcafbb3ceb498087e79117ebbae5589b514d9d978"
  },
  "kernelspec": {
   "display_name": "Python 3.9.7 64-bit ('miniconda3')",
   "language": "python",
   "name": "python3"
  },
  "language_info": {
   "codemirror_mode": {
    "name": "ipython",
    "version": 3
   },
   "file_extension": ".py",
   "mimetype": "text/x-python",
   "name": "python",
   "nbconvert_exporter": "python",
   "pygments_lexer": "ipython3",
   "version": "3.9.7"
  },
  "orig_nbformat": 4
 },
 "nbformat": 4,
 "nbformat_minor": 2
}
