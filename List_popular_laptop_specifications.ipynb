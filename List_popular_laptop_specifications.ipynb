{
 "cells": [
  {
   "cell_type": "code",
   "execution_count": 2,
   "metadata": {},
   "outputs": [
    {
     "name": "stdout",
     "output_type": "stream",
     "text": [
      "Collecting requests_html\n",
      "  Using cached requests_html-0.10.0-py3-none-any.whl (13 kB)\n",
      "Requirement already satisfied: bs4 in c:\\users\\lammi\\.conda\\envs\\data-mining\\lib\\site-packages (from requests_html) (0.0.1)\n",
      "Collecting fake-useragent\n",
      "  Using cached fake-useragent-0.1.11.tar.gz (13 kB)\n",
      "Collecting parse\n",
      "  Using cached parse-1.19.0.tar.gz (30 kB)\n",
      "Collecting w3lib\n",
      "  Using cached w3lib-1.22.0-py2.py3-none-any.whl (20 kB)\n",
      "Collecting pyppeteer>=0.0.14\n",
      "  Downloading pyppeteer-0.2.6-py3-none-any.whl (83 kB)\n",
      "Requirement already satisfied: requests in c:\\users\\lammi\\.conda\\envs\\data-mining\\lib\\site-packages (from requests_html) (2.27.1)\n",
      "Collecting pyquery\n",
      "  Using cached pyquery-1.4.3-py3-none-any.whl (22 kB)\n",
      "Requirement already satisfied: urllib3<2.0.0,>=1.25.8 in c:\\users\\lammi\\.conda\\envs\\data-mining\\lib\\site-packages (from pyppeteer>=0.0.14->requests_html) (1.26.8)\n",
      "Collecting tqdm<5.0.0,>=4.42.1\n",
      "  Downloading tqdm-4.64.0-py2.py3-none-any.whl (78 kB)\n",
      "Requirement already satisfied: appdirs<2.0.0,>=1.4.3 in c:\\users\\lammi\\.conda\\envs\\data-mining\\lib\\site-packages (from pyppeteer>=0.0.14->requests_html) (1.4.4)\n",
      "Requirement already satisfied: importlib-metadata>=1.4 in c:\\users\\lammi\\.conda\\envs\\data-mining\\lib\\site-packages (from pyppeteer>=0.0.14->requests_html) (4.8.1)\n",
      "Collecting websockets<10.0,>=9.1\n",
      "  Downloading websockets-9.1-cp36-cp36m-win_amd64.whl (90 kB)\n",
      "Collecting pyee<9.0.0,>=8.1.0\n",
      "  Using cached pyee-8.2.2-py2.py3-none-any.whl (12 kB)\n",
      "Requirement already satisfied: typing-extensions>=3.6.4 in c:\\users\\lammi\\.conda\\envs\\data-mining\\lib\\site-packages (from importlib-metadata>=1.4->pyppeteer>=0.0.14->requests_html) (4.1.1)\n",
      "Requirement already satisfied: zipp>=0.5 in c:\\users\\lammi\\.conda\\envs\\data-mining\\lib\\site-packages (from importlib-metadata>=1.4->pyppeteer>=0.0.14->requests_html) (3.6.0)\n",
      "Requirement already satisfied: colorama in c:\\users\\lammi\\.conda\\envs\\data-mining\\lib\\site-packages (from tqdm<5.0.0,>=4.42.1->pyppeteer>=0.0.14->requests_html) (0.4.4)\n",
      "Collecting importlib-resources\n",
      "  Downloading importlib_resources-5.4.0-py3-none-any.whl (28 kB)\n",
      "Requirement already satisfied: beautifulsoup4 in c:\\users\\lammi\\.conda\\envs\\data-mining\\lib\\site-packages (from bs4->requests_html) (4.11.1)\n",
      "Requirement already satisfied: soupsieve>1.2 in c:\\users\\lammi\\.conda\\envs\\data-mining\\lib\\site-packages (from beautifulsoup4->bs4->requests_html) (2.3.2.post1)\n",
      "Collecting cssselect>0.7.9\n",
      "  Using cached cssselect-1.1.0-py2.py3-none-any.whl (16 kB)\n",
      "Collecting lxml>=2.1\n",
      "  Downloading lxml-4.8.0-cp36-cp36m-win_amd64.whl (3.7 MB)\n",
      "Requirement already satisfied: certifi>=2017.4.17 in c:\\users\\lammi\\.conda\\envs\\data-mining\\lib\\site-packages (from requests->requests_html) (2021.5.30)\n",
      "Requirement already satisfied: idna<4,>=2.5 in c:\\users\\lammi\\.conda\\envs\\data-mining\\lib\\site-packages (from requests->requests_html) (3.3)\n",
      "Requirement already satisfied: charset-normalizer~=2.0.0 in c:\\users\\lammi\\.conda\\envs\\data-mining\\lib\\site-packages (from requests->requests_html) (2.0.4)\n",
      "Requirement already satisfied: six>=1.4.1 in c:\\users\\lammi\\.conda\\envs\\data-mining\\lib\\site-packages (from w3lib->requests_html) (1.16.0)\n",
      "Building wheels for collected packages: fake-useragent, parse\n",
      "  Building wheel for fake-useragent (setup.py): started\n",
      "  Building wheel for fake-useragent (setup.py): finished with status 'done'\n",
      "  Created wheel for fake-useragent: filename=fake_useragent-0.1.11-py3-none-any.whl size=13502 sha256=4368abfb5403262c44472f33fc4c66ecb647ba6244aedd573cbbe9c39938c067\n",
      "  Stored in directory: c:\\users\\lammi\\appdata\\local\\pip\\cache\\wheels\\12\\8a\\a1\\0ab79c1c2c58aa7647d0dea17f2af2358b65e1eecac8094b5e\n",
      "  Building wheel for parse (setup.py): started\n",
      "  Building wheel for parse (setup.py): finished with status 'done'\n",
      "  Created wheel for parse: filename=parse-1.19.0-py3-none-any.whl size=24591 sha256=912378ab6bb16c076749d718c250221cb65ca5b65b975b20a4fa1fd1da9da6c5\n",
      "  Stored in directory: c:\\users\\lammi\\appdata\\local\\pip\\cache\\wheels\\f3\\51\\0f\\3f8d940cdb647f9c84197352c2c66b9b910911e112f0bfd340\n",
      "Successfully built fake-useragent parse\n",
      "Installing collected packages: importlib-resources, websockets, tqdm, pyee, lxml, cssselect, w3lib, pyquery, pyppeteer, parse, fake-useragent, requests-html\n",
      "Successfully installed cssselect-1.1.0 fake-useragent-0.1.11 importlib-resources-5.4.0 lxml-4.8.0 parse-1.19.0 pyee-8.2.2 pyppeteer-0.2.6 pyquery-1.4.3 requests-html-0.10.0 tqdm-4.64.0 w3lib-1.22.0 websockets-9.1\n",
      "Requirement already satisfied: bs4 in c:\\users\\lammi\\.conda\\envs\\data-mining\\lib\\site-packages (0.0.1)\n",
      "Requirement already satisfied: beautifulsoup4 in c:\\users\\lammi\\.conda\\envs\\data-mining\\lib\\site-packages (from bs4) (4.11.1)\n",
      "Requirement already satisfied: soupsieve>1.2 in c:\\users\\lammi\\.conda\\envs\\data-mining\\lib\\site-packages (from beautifulsoup4->bs4) (2.3.2.post1)\n"
     ]
    }
   ],
   "source": [
    "!pip install requests_html\n",
    "!pip install bs4"
   ]
  },
  {
   "cell_type": "code",
   "execution_count": 5,
   "metadata": {},
   "outputs": [],
   "source": [
    "import requests_html\n",
    "from bs4 import BeautifulSoup\n",
    "f = open('all_link_laptop_raw.html','r',encoding='utf-8')\n",
    "f = f.read()"
   ]
  },
  {
   "cell_type": "code",
   "execution_count": 6,
   "metadata": {},
   "outputs": [],
   "source": [
    "soup = BeautifulSoup(f)"
   ]
  },
  {
   "cell_type": "code",
   "execution_count": null,
   "metadata": {},
   "outputs": [],
   "source": [
    "print(soup)"
   ]
  },
  {
   "cell_type": "code",
   "execution_count": null,
   "metadata": {},
   "outputs": [],
   "source": [
    "link_list = []\n",
    "# Xét từng dòng trong soup, tìm thẻ a có class:\"main-contain\"\n",
    "for item in soup.find_all('a',{\"class\":\"main-contain\"}):\n",
    "    # Tìm thuộc tính href và lấy giá trị của nó\n",
    "    print(item['href'])\n",
    "    # Đưa vào danh sách link list\n",
    "    link_list.append('https://www.thegioididong.com'+str(item['href']))\n",
    "    print('----------------')"
   ]
  },
  {
   "cell_type": "code",
   "execution_count": 9,
   "metadata": {},
   "outputs": [
    {
     "name": "stdout",
     "output_type": "stream",
     "text": [
      "https://www.thegioididong.com/laptop/acer-nitro-5-gaming-an515-57-5831-i5-nhqdgsv003?src=osp\n"
     ]
    }
   ],
   "source": [
    "print(link_list[3])"
   ]
  },
  {
   "cell_type": "code",
   "execution_count": 10,
   "metadata": {},
   "outputs": [],
   "source": [
    "# Themem thư việc load json, và thư viện pretty print để in dict tạo từ json có cấu trúc dễ nhìn\n",
    "import json\n",
    "import pprint"
   ]
  },
  {
   "cell_type": "code",
   "execution_count": null,
   "metadata": {},
   "outputs": [],
   "source": [
    "pprint.pprint(link_list)"
   ]
  },
  {
   "cell_type": "code",
   "execution_count": 61,
   "metadata": {},
   "outputs": [
    {
     "name": "stdout",
     "output_type": "stream",
     "text": [
      "{'@context': 'https://schema.org',\n",
      " '@type': 'Product',\n",
      " 'additionalProperty': [{'@type': 'PropertyValue',\n",
      "                         'name': 'Công nghệ CPU',\n",
      "                         'value': '<a '\n",
      "                                  \"href='https://www.thegioididong.com/hoi-dap/tim-hieu-ve-bo-xu-ly-intel-core-the-he-thu-11-1304404' \"\n",
      "                                  \"target='_blank'>Intel Core i5 Tiger \"\n",
      "                                  'Lake</a> - <a '\n",
      "                                  \"href='https://www.thegioididong.com/hoi-dap/danh-gia-hieu-nang-on-dinh-tren-intel-core-i5-11400h-1389833' \"\n",
      "                                  \"target='_blank'>11400H</a>\"},\n",
      "                        {'@type': 'PropertyValue',\n",
      "                         'name': 'Số nhân',\n",
      "                         'value': '6'},\n",
      "                        {'@type': 'PropertyValue',\n",
      "                         'name': 'Số luồng',\n",
      "                         'value': '12'},\n",
      "                        {'@type': 'PropertyValue',\n",
      "                         'name': 'Tốc độ CPU',\n",
      "                         'value': '2.7GHz'},\n",
      "                        {'@type': 'PropertyValue',\n",
      "                         'name': 'Tốc độ tối đa',\n",
      "                         'value': 'Turbo Boost 4.5 GHz'},\n",
      "                        {'@type': 'PropertyValue',\n",
      "                         'name': 'Bộ nhớ đệm',\n",
      "                         'value': '12 MB'},\n",
      "                        {'@type': 'PropertyValue',\n",
      "                         'name': 'RAM',\n",
      "                         'value': '8 GB'},\n",
      "                        {'@type': 'PropertyValue',\n",
      "                         'name': 'Loại RAM',\n",
      "                         'value': 'DDR4 2 khe (1 khe 8GB + 1 khe rời)'},\n",
      "                        {'@type': 'PropertyValue',\n",
      "                         'name': 'Tốc độ Bus RAM',\n",
      "                         'value': '3200 MHz'},\n",
      "                        {'@type': 'PropertyValue',\n",
      "                         'name': 'Hỗ trợ RAM tối đa',\n",
      "                         'value': '32 GB'},\n",
      "                        {'@type': 'PropertyValue',\n",
      "                         'name': 'Ổ cứng',\n",
      "                         'value': '512 GB SSD NVMe PCIe (Có thể tháo ra, lắp '\n",
      "                                  'thanh khác tối đa 1TB)'},\n",
      "                        {'@type': 'PropertyValue',\n",
      "                         'name': 'Màn hình',\n",
      "                         'value': '15.6\"'},\n",
      "                        {'@type': 'PropertyValue',\n",
      "                         'name': 'Độ phân giải',\n",
      "                         'value': 'Full HD (1920 x 1080)'},\n",
      "                        {'@type': 'PropertyValue',\n",
      "                         'name': 'Tần số quét',\n",
      "                         'value': '144Hz'},\n",
      "                        {'@type': 'PropertyValue',\n",
      "                         'name': 'Công nghệ màn hình',\n",
      "                         'value': 'Acer ComfyView'},\n",
      "                        {'@type': 'PropertyValue',\n",
      "                         'name': 'Card màn hình',\n",
      "                         'value': '<a '\n",
      "                                  \"href='https://www.thegioididong.com/hoi-dap/nen-mua-laptop-co-card-do-hoa-roi-nao-1181568' \"\n",
      "                                  \"target='_blank'>Card rời</a> - <a \"\n",
      "                                  \"href='https://www.thegioididong.com/hoi-dap/card-do-hoa-nvidia-geforce-rtx-3060-co-tot-khong-1345833' \"\n",
      "                                  \"target='_blank'>NVIDIA\\xa0GeForce\\xa0RTX\\xa0\"\n",
      "                                  '3060, 6 GB</a>'},\n",
      "                        {'@type': 'PropertyValue',\n",
      "                         'name': 'Công nghệ âm thanh',\n",
      "                         'value': 'Acer TrueHarmony'},\n",
      "                        {'@type': 'PropertyValue',\n",
      "                         'name': 'Cổng giao tiếp',\n",
      "                         'value': '3 x USB 3.2'},\n",
      "                        {'@type': 'PropertyValue',\n",
      "                         'name': 'Kết nối không dây',\n",
      "                         'value': 'Bluetooth 5.1'},\n",
      "                        {'@type': 'PropertyValue',\n",
      "                         'name': 'Webcam',\n",
      "                         'value': 'HD webcam'},\n",
      "                        {'@type': 'PropertyValue',\n",
      "                         'name': 'Tính năng khác',\n",
      "                         'value': 'Đèn bàn phím chuyển màu RGB'},\n",
      "                        {'@type': 'PropertyValue',\n",
      "                         'name': 'Đèn bàn phím',\n",
      "                         'value': 'Có'},\n",
      "                        {'@type': 'PropertyValue',\n",
      "                         'name': 'Kích thước, trọng lượng',\n",
      "                         'value': 'Dài 363.4 mm - Rộng 255 mm - Dày 23.9 mm - '\n",
      "                                  'Nặng 2.2 kg'},\n",
      "                        {'@type': 'PropertyValue',\n",
      "                         'name': 'Chất liệu',\n",
      "                         'value': 'Vỏ nhựa'},\n",
      "                        {'@type': 'PropertyValue',\n",
      "                         'name': 'Thông tin Pin',\n",
      "                         'value': '4-cell, 57.5Wh'},\n",
      "                        {'@type': 'PropertyValue',\n",
      "                         'name': 'Hệ điều hành',\n",
      "                         'value': 'Windows 10 Home SL'},\n",
      "                        {'@type': 'PropertyValue',\n",
      "                         'name': 'Thời điểm ra mắt',\n",
      "                         'value': '2021'}],\n",
      " 'aggregateRating': None,\n",
      " 'brand': {'@type': 'Brand', 'name': ['Acer']},\n",
      " 'description': 'Laptop Acer Nitro 5 Eagle Gaming AN515 57 5831 i5 11400H '\n",
      "                '(NH.QDGSV.003) chính hãng, giá rẻ - Mua online có trả góp, '\n",
      "                'giao nhanh 1 giờ. Cà thẻ thanh toán tại nhà. Click ngay!',\n",
      " 'image': ['https://cdn.tgdd.vn/Products/Images/44/247312/acer-nitro-5-gaming-an515-57-5831-i5-nhqdgsv003-600x600.jpg'],\n",
      " 'mpn': '247312',\n",
      " 'name': 'Laptop Acer Nitro 5 Gaming AN515 57 5831 i5 11400H/8GB/512GB/6GB '\n",
      "         'RTX3060/144Hz/Win10 (NH.QDGSV.003)',\n",
      " 'offers': {'@type': 'Offer',\n",
      "            'availability': 'https://schema.org/InStock',\n",
      "            'itemCondition': 'https://schema.org/NewCondition',\n",
      "            'price': 26390000.0,\n",
      "            'priceCurrency': 'VND',\n",
      "            'priceValidUntil': '07/23/2022',\n",
      "            'seller': {'@id': 'https://www.thegioididong.com/#Organization'},\n",
      "            'url': 'https://www.thegioididong.com/laptop/acer-nitro-5-gaming-an515-57-5831-i5-nhqdgsv003'},\n",
      " 'review': None,\n",
      " 'sku': '247312'}\n"
     ]
    }
   ],
   "source": [
    "# Tạo session HTML có header \n",
    "req = requests_html.HTMLSession()\n",
    "# Test thử link thứ 3\n",
    "res = req.get(link_list[3])\n",
    "# Chuyển từ byte sang soup\n",
    "soup_laptop = BeautifulSoup(res.content)\n",
    "# Từ soup tìm kiếm thẻ script có chứa thuộc tính id=\"productId\"\n",
    "data_tag = soup_laptop.find('script',{\"id\":\"productld\"})\n",
    "# Lấy nội dung thẻ script vừa tìm được\n",
    "data_specs = data_tag.text\n",
    "# Chuyển nôi dung json trong thẻ sang dict\n",
    "data_specs_json = json.loads(data_specs)\n",
    "pprint.pprint(data_specs_json)\n",
    "# In ra số nhân cpu\n",
    "# pprint.pprint(data_specs_json)\n",
    "# pprint.pprint(data_specs_json['additionalProperty'][3])\n",
    "# pprint.pprint(data_specs_json['additionalProperty'][1]['value'])\n",
    "# # In ra tên cpu\n",
    "# cpu_raw_info = data_specs_json['additionalProperty'][0]['value']\n",
    "# # In ra bộ nhớ ram\n",
    "# pprint.pprint(data_specs_json['additionalProperty'][6]['value'])\n",
    "# # In ra bộ nhớ trong\n",
    "# pprint.pprint(data_specs_json['additionalProperty'][10]['value'])\n",
    "# # In ra kích thước màn hình\n",
    "# pprint.pprint(data_specs_json['additionalProperty'][11]['value'])\n",
    "# # In ra độ phân giải màn hình\n",
    "# pprint.pprint(data_specs_json['additionalProperty'][12]['value'])\n",
    "# start_cpu_name = cpu_raw_info.index(\"target='_blank'\")+ 16\n",
    "# end_cpu_name = cpu_raw_info.index(\"</a>\")\n",
    "# start_cpu_code = cpu_raw_info.index(\"</a> - <a href='\")\n",
    "# print(cpu_raw_info[start_cpu_name:end_cpu_name])\n",
    "\n",
    "\n",
    "# pprint.pprint(cpu_raw_info[0])\n"
   ]
  },
  {
   "cell_type": "code",
   "execution_count": 62,
   "metadata": {},
   "outputs": [
    {
     "name": "stdout",
     "output_type": "stream",
     "text": [
      "'4'\n",
      "'8'\n",
      "'8'\n",
      "'6'\n",
      "'4'\n",
      "'8'\n",
      "'6'\n",
      "'4'\n",
      "'4'\n",
      "'6'\n",
      "'8'\n",
      "'6'\n",
      "'8'\n",
      "'4'\n",
      "'4'\n",
      "'2'\n",
      "'2'\n",
      "'6'\n",
      "'6'\n",
      "'8'\n",
      "'4'\n",
      "'8'\n",
      "'14'\n",
      "('<a '\n",
      " \"href='https://www.thegioididong.com/hoi-dap/intel-the-he-12-alder-lake-tren-laptop-cau-hinh-va-thoi-1396454' \"\n",
      " \"target='_blank'>Intel Core i7 Alder Lake</a> - 12700H\")\n",
      "'10'\n",
      "(\"<a href='https://www.thegioididong.com/tin-tuc/apple-m1-max-la-gi-1391498' \"\n",
      " \"target='_blank'>Apple M1 Max</a>\")\n",
      "'8'\n",
      "'8'\n",
      "'10'\n",
      "(\"<a href='https://www.thegioididong.com/tin-tuc/apple-m1-pro-la-gi-1391496' \"\n",
      " \"target='_blank'>Apple M1 Pro</a>\")\n",
      "'8'\n",
      "'8'\n",
      "'14'\n",
      "('<a '\n",
      " \"href='https://www.thegioididong.com/hoi-dap/intel-the-he-12-alder-lake-tren-laptop-cau-hinh-va-thoi-1396454' \"\n",
      " \"target='_blank'>Intel Core i7 Alder Lake</a> - 12700H\")\n",
      "'8'\n",
      "'14'\n",
      "('<a '\n",
      " \"href='https://www.thegioididong.com/hoi-dap/intel-the-he-12-alder-lake-tren-laptop-cau-hinh-va-thoi-1396454' \"\n",
      " \"target='_blank'>Intel Core i7 Alder Lake</a> - 12700H\")\n",
      "'8'\n",
      "'8'\n",
      "'8'\n",
      "'4'\n",
      "'4'\n",
      "'4'\n",
      "'4'\n",
      "'4'\n",
      "'4'\n",
      "'4'\n",
      "'4'\n",
      "'8'\n",
      "'4'\n",
      "'4'\n",
      "'4'\n",
      "'4'\n",
      "'4'\n",
      "'14'\n",
      "('<a '\n",
      " \"href='https://www.thegioididong.com/hoi-dap/intel-the-he-12-alder-lake-tren-laptop-cau-hinh-va-thoi-1396454' \"\n",
      " \"target='_blank'>Intel Core i7 Alder Lake</a> - 12700H\")\n",
      "'8'\n",
      "'8'\n",
      "'8'\n",
      "'8'\n",
      "'4'\n",
      "'6'\n",
      "'4'\n",
      "'8'\n",
      "'8'\n",
      "'4'\n",
      "'4'\n",
      "'8'\n",
      "'8'\n",
      "'14'\n",
      "('<a '\n",
      " \"href='https://www.thegioididong.com/hoi-dap/intel-the-he-12-alder-lake-tren-laptop-cau-hinh-va-thoi-1396454' \"\n",
      " \"target='_blank'>Intel Core i7 Alder Lake</a> - 12700H\")\n",
      "'4'\n",
      "'8'\n",
      "'8'\n",
      "'6'\n",
      "'4'\n",
      "'8'\n",
      "'4'\n",
      "'8'\n",
      "'4'\n",
      "'4'\n",
      "'4'\n",
      "'4'\n",
      "'4'\n",
      "'8'\n",
      "'8'\n",
      "'4'\n",
      "'4'\n",
      "'6'\n",
      "'6'\n",
      "'4'\n",
      "'4'\n",
      "'8'\n",
      "'8'\n",
      "'8'\n",
      "'8'\n",
      "'4'\n",
      "'4'\n",
      "'6'\n",
      "'6'\n",
      "'8'\n",
      "'8'\n",
      "'6'\n",
      "'6'\n",
      "'6'\n",
      "'4'\n",
      "'4'\n",
      "'4'\n",
      "'6'\n",
      "'4'\n",
      "'8'\n",
      "'4'\n",
      "'6'\n",
      "'4'\n",
      "'6'\n",
      "'6'\n",
      "'4'\n",
      "'6'\n",
      "'6'\n",
      "'4'\n",
      "'6'\n",
      "'6'\n",
      "'6'\n",
      "'12'\n",
      "('<a '\n",
      " \"href='https://www.thegioididong.com/hoi-dap/intel-the-he-12-alder-lake-tren-laptop-cau-hinh-va-thoi-1396454' \"\n",
      " \"target='_blank'>Intel Core i5 Alder Lake</a> - 12500H\")\n",
      "'4'\n",
      "'4'\n",
      "'4'\n",
      "'4'\n",
      "'6'\n",
      "'4'\n",
      "'4'\n",
      "'8'\n",
      "'4'\n",
      "'6'\n",
      "'4'\n",
      "'8'\n",
      "'4'\n",
      "'4'\n",
      "'8'\n",
      "'4'\n",
      "'8'\n",
      "'4'\n",
      "'6'\n",
      "'4'\n",
      "'4'\n",
      "'4'\n",
      "'4'\n"
     ]
    }
   ],
   "source": [
    "# Danh sách chứa số nhân cpu\n",
    "cpu_core_array = []\n",
    "cpu_name_array = []\n",
    "ram_array = []\n",
    "storage_array = []\n",
    "screen_size_array = []\n",
    "display_resolution_array = []\n",
    "# Tương tụ như trên nhưng trong vòng lặp\n",
    "req = requests_html.HTMLSession()\n",
    "for link in link_list:\n",
    "    res = req.get(link)\n",
    "    soup_laptop = BeautifulSoup(res.content)\n",
    "    data_tag = soup_laptop.find('script',{\"id\":\"productld\"})\n",
    "    data_specs = data_tag.text\n",
    "    data_specs_json = json.loads(data_specs)\n",
    "    pprint.pprint(data_specs_json['additionalProperty'][1]['value'])\n",
    "    # Lưu lại số nhân cpu vào mảng để đếm\n",
    "    cpu_core_array.append(data_specs_json['additionalProperty'][1]['value'])\n",
    "    # Lưu lại số ram vào mảng để đếm\n",
    "    ram_array.append(data_specs_json['additionalProperty'][6]['value'])\n",
    "    # Lưu lại bộ nhớ trong vào mảng để đếm\n",
    "    storage_array.append(data_specs_json['additionalProperty'][10]['value'])\n",
    "    # Lưu lại kích thước màn hình vào mảng để đếm\n",
    "    screen_size_array.append(data_specs_json['additionalProperty'][11]['value'])\n",
    "    # Lưu lại độ phân giải màn hình vào mảng để đếm\n",
    "    display_resolution_array.append(data_specs_json['additionalProperty'][12]['value'])\n",
    "    # Lưu lại tên cpu vào mảng để thống kê\n",
    "    cpu_raw_info = data_specs_json['additionalProperty'][0]['value']\n",
    "    start_cpu_name = cpu_raw_info.index(\"target='_blank'\")+ 16\n",
    "    end_cpu_name = cpu_raw_info.index(\"</a>\")\n",
    "    start_cpu_code = cpu_raw_info.index(\"</a>\")\n",
    "    cpu_name_array.append(cpu_raw_info[start_cpu_name:end_cpu_name])\n",
    "    # Nếu cpu có số nhân lớn hơn 8, in ra tên cpu đó\n",
    "    if int(data_specs_json['additionalProperty'][1]['value'])>8:\n",
    "        pprint.pprint(data_specs_json['additionalProperty'][0]['value'])\n"
   ]
  },
  {
   "cell_type": "code",
   "execution_count": 97,
   "metadata": {},
   "outputs": [
    {
     "name": "stdout",
     "output_type": "stream",
     "text": [
      "Counter({'4': 62, '8': 41, '6': 27, '14': 5, '2': 2, '10': 2, '12': 1})\n"
     ]
    }
   ],
   "source": [
    "# Đếm số lần xuất hiện của từng số nhân cpu trong mảng trên\n",
    "# Thư viện Counter\n",
    "from collections import Counter\n",
    "pprint.pprint(Counter(cpu_core_array))\n"
   ]
  },
  {
   "cell_type": "code",
   "execution_count": 105,
   "metadata": {},
   "outputs": [
    {
     "data": {
      "image/png": "[encoded data removed]",
      "text/plain": [
       "<Figure size 432x288 with 1 Axes>"
      ]
     },
     "metadata": {
      "needs_background": "light"
     },
     "output_type": "display_data"
    }
   ],
   "source": [
    "# Vẽ đồ thị cho số nhân cpu laptop phổ biến\n",
    "import matplotlib.pyplot as plt\n",
    "cpu_core_data = Counter(cpu_core_array)\n",
    "plt.title('Số lượng nhân cpu phổ biến')\n",
    "plt.bar(cpu_core_data.keys(),cpu_core_data.values(),color='green')\n",
    "plt.ylabel('Số lượng laptop')\n",
    "plt.xlabel('Số nhân cpu')\n",
    "plt.show()\n"
   ]
  },
  {
   "cell_type": "code",
   "execution_count": 98,
   "metadata": {},
   "outputs": [
    {
     "name": "stdout",
     "output_type": "stream",
     "text": [
      "Counter({'8 GB': 77, '16 GB': 55, '32 GB': 6, '4 GB': 2})\n"
     ]
    }
   ],
   "source": [
    "# Đếm số lần xuất hiện của từng bộ nhớ ramtrong mảng trên\n",
    "pprint.pprint(Counter(ram_array))"
   ]
  },
  {
   "cell_type": "code",
   "execution_count": 106,
   "metadata": {},
   "outputs": [
    {
     "data": {
      "image/png": "[encoded data removed]",
      "text/plain": [
       "<Figure size 432x288 with 1 Axes>"
      ]
     },
     "metadata": {
      "needs_background": "light"
     },
     "output_type": "display_data"
    }
   ],
   "source": [
    "# Vẽ đồ thị cho dung lượng ram laptop phổ biến\n",
    "import matplotlib.pyplot as plt\n",
    "ram_data = Counter(ram_array)\n",
    "plt.title('Dung lượng ram laptop phổ biến')\n",
    "plt.bar(ram_data.keys(),ram_data.values(),color='green')\n",
    "plt.ylabel('Số lượng laptop')\n",
    "plt.xlabel('Dung lượng ram laptop')\n",
    "plt.show()"
   ]
  },
  {
   "cell_type": "code",
   "execution_count": 99,
   "metadata": {},
   "outputs": [
    {
     "name": "stdout",
     "output_type": "stream",
     "text": [
      "Counter({'512 GB SSD NVMe PCIe (Có thể tháo ra, lắp thanh khác tối đa 1TB)': 36,\n",
      "         '512 GB SSD NVMe PCIe': 31,\n",
      "         '512 GB SSD NVMe PCIe (Có thể tháo ra, lắp thanh khác tối đa 2TB)': 18,\n",
      "         '512 GB SSD NVMe PCIe (Có thể tháo ra, lắp thanh khác tối đa 1TB (2280) / 512GB (2242))': 12,\n",
      "         '256 GB SSD NVMe PCIe': 7,\n",
      "         '1 TB SSD M.2 PCIe (Có thể tháo ra, lắp thanh khác tối đa 2TB)': 5,\n",
      "         '1 TB SSD M.2 PCIe': 5,\n",
      "         '256 GB SSD': 4,\n",
      "         '2 TB SSD NVMe PCIe': 4,\n",
      "         '512 GB SSD NVMe PCIe (Có thể tháo ra, lắp thanh khác tối đa 2TB (2280) / 1TB (2230))': 4,\n",
      "         '512 GB SSD': 3,\n",
      "         'Hỗ trợ thêm 1 khe cắm SSD M.2 PCIe mở rộng (nâng cấp tối đa 1TB)': 3,\n",
      "         '256 GB SSD NVMe PCIe (Có thể tháo ra, lắp thanh khác tối đa 2TB (2280) / 512GB (2230))': 1,\n",
      "         '256 GB SSD M.2 SATA 3 (Có thể tháo ra lắp thanh khác tối đa 1TB)': 1,\n",
      "         '1TB SSD NVMe PCIe (Có thể tháo ra, lắp thanh khác tối đa 2TB M.2 2280 PCIe Gen4 x4 NVMe / 1TB M.2 2280 PCIe Gen3 x4 NVMe': 1,\n",
      "         '1 TB SSD NVMe PCIe Gen4x4': 1,\n",
      "         '512 GB SSD NVMe PCIe (Có thể tháo ra, lắp thanh khác tối đa 2TB M.2 2280 PCIe Gen4 x4 NVMe / 1TB M.2 2280 PCIe Gen3 x4 NVMe)': 1,\n",
      "         '1 TB SSD': 1,\n",
      "         'Hỗ trợ khe cắm HDD SATA (nâng cấp tối đa 2TB)': 1,\n",
      "         '256 GB SSD NVMe PCIe (Có thể tháo ra, lắp thanh khác tối đa 2TB (2280) / 1TB (2230))': 1})\n"
     ]
    }
   ],
   "source": [
    "# Đếm số lần xuất hiện của từng bộ nhớ ramtrong mảng trên\n",
    "pprint.pprint(Counter(storage_array))"
   ]
  },
  {
   "cell_type": "code",
   "execution_count": 113,
   "metadata": {},
   "outputs": [
    {
     "data": {
      "image/png": "[encoded data removed]",
      "text/plain": [
       "<Figure size 936x936 with 1 Axes>"
      ]
     },
     "metadata": {
      "needs_background": "light"
     },
     "output_type": "display_data"
    }
   ],
   "source": [
    "# Vẽ đồ thị cho kích thước màn hình  laptop phổ biến\n",
    "import matplotlib.pyplot as plt\n",
    "screen_size_data = Counter(screen_size_array)\n",
    "plt.figure(figsize=(13,13))\n",
    "plt.title('Kích thước màn hình phổ biến')\n",
    "plt.bar(screen_size_data.keys(),screen_size_data.values(),color='green')\n",
    "plt.ylabel('Số lượng laptop')\n",
    "plt.xlabel('Kích thước màn hình')\n",
    "plt.show()\n",
    "\n"
   ]
  },
  {
   "cell_type": "code",
   "execution_count": 118,
   "metadata": {},
   "outputs": [
    {
     "data": {
      "image/png": "[encoded data removed]",
      "text/plain": [
       "<Figure size 6480x2160 with 1 Axes>"
      ]
     },
     "metadata": {
      "needs_background": "light"
     },
     "output_type": "display_data"
    }
   ],
   "source": [
    "# Vẽ đồ thị cho độ phân giải màn hình laptop phổ biến\n",
    "import matplotlib.pyplot as plt\n",
    "display_resolution_data = Counter(display_resolution_array)\n",
    "plt.figure(figsize=(90,30))\n",
    "plt.title('Độ phân giải màn hình phổ biến')\n",
    "plt.bar(display_resolution_data.keys(),display_resolution_data.values(),color='green')\n",
    "plt.ylabel('Số lượng laptop')\n",
    "plt.xlabel('Độ phân giải')\n",
    "plt.show()"
   ]
  },
  {
   "cell_type": "code",
   "execution_count": 30,
   "metadata": {},
   "outputs": [
    {
     "name": "stdout",
     "output_type": "stream",
     "text": [
      "Intel Core i5 Tiger Lake\n"
     ]
    }
   ],
   "source": [
    "string_manupation = '''('<a '\n",
    " \"href='https://www.thegioididong.com/hoi-dap/tim-hieu-ve-bo-xu-ly-intel-core-the-he-thu-11-1304404' \"\n",
    " \"target='_blank'>Intel Core i5 Tiger Lake</a> - <a \"\n",
    " \"href='https://www.thegioididong.com/hoi-dap/danh-gia-hieu-nang-on-dinh-tren-intel-core-i5-11400h-1389833' \"\n",
    " \"target='_blank'>11400H</a>\")'''\n",
    "\n",
    "start_cpu_name = string_manupation.index(\"target='_blank'\") + 16\n",
    "end_cpu_name = string_manupation.index(\"</a>\")\n",
    "print(string_manupation[start_cpu_name:end_cpu_name])"
   ]
  },
  {
   "cell_type": "code",
   "execution_count": 28,
   "metadata": {},
   "outputs": [
    {
     "name": "stdout",
     "output_type": "stream",
     "text": [
      "16\n"
     ]
    }
   ],
   "source": [
    "aa = \"target='_blank'>\"\n",
    "print(len(aa))"
   ]
  },
  {
   "cell_type": "code",
   "execution_count": 63,
   "metadata": {},
   "outputs": [
    {
     "name": "stdout",
     "output_type": "stream",
     "text": [
      "Counter({'Intel Core i7 Tiger Lake': 58,\n",
      "         'Intel Core i5 Tiger Lake': 39,\n",
      "         'AMD Ryzen 7': 10,\n",
      "         'AMD Ryzen 5': 10,\n",
      "         'Intel Core i7 Alder Lake': 5,\n",
      "         'Apple M1': 4,\n",
      "         'Intel Core i5 Comet Lake': 4,\n",
      "         'Intel Core i5 Alder Lake': 2,\n",
      "         'Apple M1 Pro': 2,\n",
      "         'Intel Core i3 Tiger Lake': 1,\n",
      "         'Intel Core i3 Comet Lake': 1,\n",
      "         'Intel Celeron': 1,\n",
      "         'Apple M1 Max': 1,\n",
      "         'Intel Core i7 Comet Lake': 1,\n",
      "         'Intel Core i5 Ice Lake': 1})\n"
     ]
    }
   ],
   "source": [
    "# Đếm số lần xuất hiện của từng số nhân cpu trong mảng trên\n",
    "# Thư viện Counter\n",
    "from collections import Counter\n",
    "pprint.pprint(Counter(cpu_name_array))"
   ]
  }
 ],
 "metadata": {
  "interpreter": {
   "hash": "c156cbd56f2befb501b04e4bcafbb3ceb498087e79117ebbae5589b514d9d978"
  },
  "kernelspec": {
   "display_name": "Python 3.9.7 64-bit ('miniconda3')",
   "language": "python",
   "name": "python3"
  },
  "language_info": {
   "codemirror_mode": {
    "name": "ipython",
    "version": 3
   },
   "file_extension": ".py",
   "mimetype": "text/x-python",
   "name": "python",
   "nbconvert_exporter": "python",
   "pygments_lexer": "ipython3",
   "version": "3.6.13"
  },
  "orig_nbformat": 4
 },
 "nbformat": 4,
 "nbformat_minor": 2
}
