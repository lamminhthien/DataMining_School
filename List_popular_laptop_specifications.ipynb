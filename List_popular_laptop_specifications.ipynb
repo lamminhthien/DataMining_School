{
 "cells": [
  {
   "cell_type": "code",
   "execution_count": 60,
   "metadata": {},
   "outputs": [],
   "source": [
    "import requests_html\n",
    "from bs4 import BeautifulSoup\n",
    "f = open('all_link_laptop_raw.html','r')\n",
    "f = f.read()"
   ]
  },
  {
   "cell_type": "code",
   "execution_count": 55,
   "metadata": {},
   "outputs": [],
   "source": [
    "soup = BeautifulSoup(f)"
   ]
  },
  {
   "cell_type": "code",
   "execution_count": null,
   "metadata": {},
   "outputs": [],
   "source": [
    "print(soup)"
   ]
  },
  {
   "cell_type": "code",
   "execution_count": null,
   "metadata": {},
   "outputs": [],
   "source": [
    "link_list = []\n",
    "# Xét từng dòng trong soup, tìm thẻ a có class:\"main-contain\"\n",
    "for item in soup.find_all('a',{\"class\":\"main-contain\"}):\n",
    "    # Tìm thuộc tính href và lấy giá trị của nó\n",
    "    print(item['href'])\n",
    "    # Đưa vào danh sách link list\n",
    "    link_list.append('https://www.thegioididong.com'+str(item['href']))\n",
    "    print('----------------')"
   ]
  },
  {
   "cell_type": "code",
   "execution_count": 66,
   "metadata": {},
   "outputs": [
    {
     "name": "stdout",
     "output_type": "stream",
     "text": [
      "https://www.thegioididong.com/laptop/acer-nitro-5-gaming-an515-57-5831-i5-nhqdgsv003?src=osp\n"
     ]
    }
   ],
   "source": [
    "print(link_list[3])"
   ]
  },
  {
   "cell_type": "code",
   "execution_count": 69,
   "metadata": {},
   "outputs": [],
   "source": [
    "# Themem thư việc load json, và thư viện pretty print để in dict tạo từ json có cấu trúc dễ nhìn\n",
    "import json\n",
    "import pprint"
   ]
  },
  {
   "cell_type": "code",
   "execution_count": null,
   "metadata": {},
   "outputs": [],
   "source": [
    "pprint.pprint(link_list)"
   ]
  },
  {
   "cell_type": "code",
   "execution_count": 95,
   "metadata": {},
   "outputs": [
    {
     "name": "stdout",
     "output_type": "stream",
     "text": [
      "'6'\n",
      "('<a '\n",
      " \"href='https://www.thegioididong.com/hoi-dap/tim-hieu-ve-bo-xu-ly-intel-core-the-he-thu-11-1304404' \"\n",
      " \"target='_blank'>Intel Core i5 Tiger Lake</a> - <a \"\n",
      " \"href='https://www.thegioididong.com/hoi-dap/danh-gia-hieu-nang-on-dinh-tren-intel-core-i5-11400h-1389833' \"\n",
      " \"target='_blank'>11400H</a>\")\n",
      "'8 GB'\n",
      "'512 GB SSD NVMe PCIe (Có thể tháo ra, lắp thanh khác tối đa 1TB)'\n"
     ]
    }
   ],
   "source": [
    "# Tạo session HTML có header \n",
    "req = requests_html.HTMLSession()\n",
    "# Test thử link thứ 3\n",
    "res = req.get(link_list[3])\n",
    "# Chuyển từ byte sang soup\n",
    "soup_laptop = BeautifulSoup(res.content)\n",
    "# Từ soup tìm kiếm thẻ script có chứa thuộc tính id=\"productId\"\n",
    "data_tag = soup_laptop.find('script',{\"id\":\"productld\"})\n",
    "# Lấy nội dung thẻ script vừa tìm được\n",
    "data_specs = data_tag.text\n",
    "# Chuyển nôi dung json trong thẻ sang dict\n",
    "data_specs_json = json.loads(data_specs)\n",
    "# In ra số nhân cpu\n",
    "pprint.pprint(data_specs_json['additionalProperty'][1]['value'])\n",
    "# In ra tên cpu\n",
    "pprint.pprint(data_specs_json['additionalProperty'][0]['value'])\n",
    "# In ra bộ nhớ ram\n",
    "pprint.pprint(data_specs_json['additionalProperty'][6]['value'])\n",
    "# In ra bộ nhớ trong\n",
    "pprint.pprint(data_specs_json['additionalProperty'][10]['value'])"
   ]
  },
  {
   "cell_type": "code",
   "execution_count": 96,
   "metadata": {},
   "outputs": [
    {
     "name": "stdout",
     "output_type": "stream",
     "text": [
      "'4'\n",
      "'8'\n",
      "'8'\n",
      "'6'\n",
      "'4'\n",
      "'8'\n",
      "'6'\n",
      "'4'\n",
      "'4'\n",
      "'6'\n",
      "'8'\n",
      "'6'\n",
      "'8'\n",
      "'4'\n",
      "'4'\n",
      "'2'\n",
      "'2'\n",
      "'6'\n",
      "'6'\n",
      "'8'\n",
      "'4'\n",
      "'8'\n",
      "'14'\n",
      "('<a '\n",
      " \"href='https://www.thegioididong.com/hoi-dap/intel-the-he-12-alder-lake-tren-laptop-cau-hinh-va-thoi-1396454' \"\n",
      " \"target='_blank'>Intel Core i7 Alder Lake</a> - 12700H\")\n",
      "'10'\n",
      "(\"<a href='https://www.thegioididong.com/tin-tuc/apple-m1-max-la-gi-1391498' \"\n",
      " \"target='_blank'>Apple M1 Max</a>\")\n",
      "'8'\n",
      "'8'\n",
      "'10'\n",
      "(\"<a href='https://www.thegioididong.com/tin-tuc/apple-m1-pro-la-gi-1391496' \"\n",
      " \"target='_blank'>Apple M1 Pro</a>\")\n",
      "'8'\n",
      "'8'\n",
      "'14'\n",
      "('<a '\n",
      " \"href='https://www.thegioididong.com/hoi-dap/intel-the-he-12-alder-lake-tren-laptop-cau-hinh-va-thoi-1396454' \"\n",
      " \"target='_blank'>Intel Core i7 Alder Lake</a> - 12700H\")\n",
      "'8'\n",
      "'14'\n",
      "('<a '\n",
      " \"href='https://www.thegioididong.com/hoi-dap/intel-the-he-12-alder-lake-tren-laptop-cau-hinh-va-thoi-1396454' \"\n",
      " \"target='_blank'>Intel Core i7 Alder Lake</a> - 12700H\")\n",
      "'8'\n",
      "'8'\n",
      "'8'\n",
      "'4'\n",
      "'4'\n",
      "'4'\n",
      "'4'\n",
      "'4'\n",
      "'4'\n",
      "'4'\n",
      "'4'\n",
      "'8'\n",
      "'4'\n",
      "'4'\n",
      "'4'\n",
      "'4'\n",
      "'4'\n",
      "'14'\n",
      "('<a '\n",
      " \"href='https://www.thegioididong.com/hoi-dap/intel-the-he-12-alder-lake-tren-laptop-cau-hinh-va-thoi-1396454' \"\n",
      " \"target='_blank'>Intel Core i7 Alder Lake</a> - 12700H\")\n",
      "'8'\n",
      "'8'\n",
      "'8'\n",
      "'8'\n",
      "'4'\n",
      "'6'\n",
      "'4'\n",
      "'8'\n",
      "'8'\n",
      "'4'\n",
      "'4'\n",
      "'8'\n",
      "'8'\n",
      "'14'\n",
      "('<a '\n",
      " \"href='https://www.thegioididong.com/hoi-dap/intel-the-he-12-alder-lake-tren-laptop-cau-hinh-va-thoi-1396454' \"\n",
      " \"target='_blank'>Intel Core i7 Alder Lake</a> - 12700H\")\n",
      "'4'\n",
      "'8'\n",
      "'8'\n",
      "'6'\n",
      "'4'\n",
      "'8'\n",
      "'4'\n",
      "'8'\n",
      "'4'\n",
      "'4'\n",
      "'4'\n",
      "'4'\n",
      "'4'\n",
      "'8'\n",
      "'8'\n",
      "'4'\n",
      "'4'\n",
      "'6'\n",
      "'6'\n",
      "'4'\n",
      "'4'\n",
      "'8'\n",
      "'8'\n",
      "'8'\n",
      "'8'\n",
      "'4'\n",
      "'4'\n",
      "'6'\n",
      "'6'\n",
      "'8'\n",
      "'8'\n",
      "'6'\n",
      "'6'\n",
      "'6'\n",
      "'4'\n",
      "'4'\n",
      "'4'\n",
      "'6'\n",
      "'4'\n",
      "'8'\n",
      "'4'\n",
      "'6'\n",
      "'4'\n",
      "'6'\n",
      "'6'\n",
      "'4'\n"
     ]
    }
   ],
   "source": [
    "# Danh sách chứa số nhân cpu\n",
    "cpu_core_array = []\n",
    "ram_array = []\n",
    "storage_array = []\n",
    "# Tương tụ như trên nhưng trong vòng lặp\n",
    "req = requests_html.HTMLSession()\n",
    "for link in link_list:\n",
    "    res = req.get(link)\n",
    "    soup_laptop = BeautifulSoup(res.content)\n",
    "    data_tag = soup_laptop.find('script',{\"id\":\"productld\"})\n",
    "    data_specs = data_tag.text\n",
    "    data_specs_json = json.loads(data_specs)\n",
    "    pprint.pprint(data_specs_json['additionalProperty'][1]['value'])\n",
    "    # Lưu lại số nhân cpu vào mảng để đếm\n",
    "    cpu_core_array.append(data_specs_json['additionalProperty'][1]['value'])\n",
    "    # Lưu lại số ram vào mảng để đếm\n",
    "    ram_array.append(data_specs_json['additionalProperty'][6]['value'])\n",
    "    # Lưu lại bộ nhớ trong vào mảng để đếm\n",
    "    storage_array.append(data_specs_json['additionalProperty'][10]['value'])\n",
    "    # Nếu cpu có số nhân lớn hơn 8, in ra tên cpu đó\n",
    "    if int(data_specs_json['additionalProperty'][1]['value'])>8:\n",
    "        pprint.pprint(data_specs_json['additionalProperty'][0]['value'])\n"
   ]
  },
  {
   "cell_type": "code",
   "execution_count": 82,
   "metadata": {},
   "outputs": [
    {
     "name": "stdout",
     "output_type": "stream",
     "text": [
      "Counter({'4': 62, '8': 41, '6': 27, '14': 5, '2': 2, '10': 2, '12': 1})\n"
     ]
    }
   ],
   "source": [
    "# Đếm số lần xuất hiện của từng số nhân cpu trong mảng trên\n",
    "# Thư viện Counter\n",
    "from collections import Counter\n",
    "pprint.pprint(Counter(cpu_core_array))\n"
   ]
  },
  {
   "cell_type": "code",
   "execution_count": null,
   "metadata": {},
   "outputs": [],
   "source": [
    "# Đếm số lần xuất hiện của từng bộ nhớ ramtrong mảng trên\n",
    "pprint.pprint(Counter(ram_array))"
   ]
  },
  {
   "cell_type": "code",
   "execution_count": null,
   "metadata": {},
   "outputs": [],
   "source": [
    "# Đếm số lần xuất hiện của từng bộ nhớ ramtrong mảng trên\n",
    "pprint.pprint(Counter(storage_array))"
   ]
  }
 ],
 "metadata": {
  "interpreter": {
   "hash": "c156cbd56f2befb501b04e4bcafbb3ceb498087e79117ebbae5589b514d9d978"
  },
  "kernelspec": {
   "display_name": "Python 3.9.7 64-bit ('miniconda3')",
   "language": "python",
   "name": "python3"
  },
  "language_info": {
   "codemirror_mode": {
    "name": "ipython",
    "version": 3
   },
   "file_extension": ".py",
   "mimetype": "text/x-python",
   "name": "python",
   "nbconvert_exporter": "python",
   "pygments_lexer": "ipython3",
   "version": "3.9.7"
  },
  "orig_nbformat": 4
 },
 "nbformat": 4,
 "nbformat_minor": 2
}
