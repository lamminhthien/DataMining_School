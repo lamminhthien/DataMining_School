{
 "cells": [
  {
   "cell_type": "code",
   "execution_count": 1,
   "metadata": {},
   "outputs": [
    {
     "name": "stdout",
     "output_type": "stream",
     "text": [
      "Requirement already satisfied: networkx in /home/hdoop/miniconda3/lib/python3.9/site-packages (2.7.1)\n",
      "\u001b[33mWARNING: Running pip as the 'root' user can result in broken permissions and conflicting behaviour with the system package manager. It is recommended to use a virtual environment instead: https://pip.pypa.io/warnings/venv\u001b[0m\n"
     ]
    }
   ],
   "source": [
    "!pip install networkx"
   ]
  },
  {
   "cell_type": "code",
   "execution_count": 1,
   "metadata": {},
   "outputs": [],
   "source": [
    "\n",
    "import requests_html\n",
    "req = requests_html.HTMLSession()\n",
    "f = open('www.thegioididong.com_16th_Apr_2022.csv','r')\n"
   ]
  },
  {
   "cell_type": "code",
   "execution_count": 2,
   "metadata": {},
   "outputs": [],
   "source": [
    "f = f.readlines()"
   ]
  },
  {
   "cell_type": "code",
   "execution_count": 3,
   "metadata": {},
   "outputs": [
    {
     "name": "stdout",
     "output_type": "stream",
     "text": [
      "There are 109 smartphone in thegioididong:\n",
      "Samsung have 26 model\n",
      "Xiaomi have 13 model\n"
     ]
    }
   ],
   "source": [
    "count = 0\n",
    "count_samsung  = 0\n",
    "count_xiaomi = 0\n",
    "brand_count = []\n",
    "phone_links = []\n",
    "\n",
    "for line in f:\n",
    "    phone_link = line.split(',')[0]\n",
    "    if (phone_link.startswith('\"https://www.thegioididong.com/dtdd/')):\n",
    "        # print(phone_link)\n",
    "        phone_links.append(phone_link)\n",
    "        count += 1\n",
    "        if ('samsung' in phone_link):\n",
    "            count_samsung += 1\n",
    "        if ('xiaomi' in phone_link):\n",
    "            count_xiaomi += 1\n",
    "        phone_name =phone_link.split('/')[4]\n",
    "        brand_name = phone_name.split('-')[0]\n",
    "        brand_count.append(brand_name)\n",
    "print(f'There are {count} smartphone in thegioididong:')\n",
    "print(f'Samsung have {count_samsung} model')\n",
    "print(f'Xiaomi have {count_xiaomi} model')"
   ]
  },
  {
   "cell_type": "code",
   "execution_count": 4,
   "metadata": {},
   "outputs": [],
   "source": [
    "from collections import Counter\n",
    "count_smartphone_per_brand = Counter(brand_count)"
   ]
  },
  {
   "cell_type": "code",
   "execution_count": 41,
   "metadata": {},
   "outputs": [],
   "source": [
    "count_smartphone_per_brand_sorted = sorted(count_smartphone_per_brand.items(),key=lambda item: item[1],reverse=True)"
   ]
  },
  {
   "cell_type": "code",
   "execution_count": 42,
   "metadata": {},
   "outputs": [
    {
     "name": "stdout",
     "output_type": "stream",
     "text": [
      "[('samsung', 26), ('iphone', 15), ('oppo', 14), ('xiaomi', 13), ('realme', 11), ('vivo', 10), ('nokia', 9), ('masstel', 6), ('itel', 4), ('13', 1)]\n"
     ]
    }
   ],
   "source": [
    "print(count_smartphone_per_brand_sorted)"
   ]
  },
  {
   "cell_type": "code",
   "execution_count": 5,
   "metadata": {},
   "outputs": [
    {
     "name": "stdout",
     "output_type": "stream",
     "text": [
      "vivo\n"
     ]
    }
   ],
   "source": [
    "raw = '\"https://www.thegioididong.com/dtdd/vivo-y33s\"'\n",
    "phone_name =raw.split('/')[4]\n",
    "brand = phone_name.split('-')[0]\n",
    "print(brand)"
   ]
  },
  {
   "cell_type": "code",
   "execution_count": 7,
   "metadata": {},
   "outputs": [],
   "source": [
    "from bs4 import BeautifulSoup"
   ]
  },
  {
   "cell_type": "code",
   "execution_count": null,
   "metadata": {},
   "outputs": [],
   "source": [
    "fetch = req.get(\"https://www.thegioididong.com/dtdd/vivo-y33s\"+\"#top-tskt\").content\n",
    "soup = BeautifulSoup(fetch)\n",
    "soup"
   ]
  },
  {
   "cell_type": "code",
   "execution_count": 13,
   "metadata": {},
   "outputs": [
    {
     "name": "stdout",
     "output_type": "stream",
     "text": [
      "6490000.0\n"
     ]
    }
   ],
   "source": [
    "phone_data_raw = soup.find_all(\"div\",{\"class\":\"content-t active\"})\n",
    "start_line_price = str(soup).find('\"price\":')\n",
    "phone_price = str(str(soup)[start_line_price+8:])\n",
    "end_line_price= phone_price.find(',')\n",
    "print(phone_price[:end_line_price])"
   ]
  },
  {
   "cell_type": "code",
   "execution_count": 10,
   "metadata": {},
   "outputs": [
    {
     "name": "stdout",
     "output_type": "stream",
     "text": [
      "8\n"
     ]
    }
   ],
   "source": [
    "aa = '\"price\":'\n",
    "print(len(aa))"
   ]
  },
  {
   "cell_type": "code",
   "execution_count": null,
   "metadata": {},
   "outputs": [],
   "source": [
    "print(str(soup))"
   ]
  },
  {
   "cell_type": "code",
   "execution_count": 160,
   "metadata": {},
   "outputs": [
    {
     "name": "stdout",
     "output_type": "stream",
     "text": [
      "https://www.thegioididong.com/dtdd/realme-c35\n"
     ]
    }
   ],
   "source": [
    "print(phone_links[1][1:-1])"
   ]
  },
  {
   "cell_type": "code",
   "execution_count": null,
   "metadata": {},
   "outputs": [],
   "source": [
    "gpu_array = []\n",
    "ram_array = []\n",
    "# start = 0; end = 5\n",
    "for link in phone_links:\n",
    "    link_trim = link[1:len(link)-1]\n",
    "    get_detail_phone = req.get(link_trim+\"#top-tskt\").content\n",
    "    soup = BeautifulSoup(get_detail_phone)\n",
    "    phone_data_raw = soup.find_all(\"div\",{\"class\":\"content-t active\"})\n",
    "    start_line = str(soup).find('Chip đồ họa (GPU)\"')\n",
    "    phone_spec = str(str(soup)[start_line+28:])\n",
    "    end_line = phone_spec.find('\"')\n",
    "    start_line_ram = str(soup).find('\"RAM\",\"value\":\"')\n",
    "    phone_ram = str(str(soup)[start_line_ram+15:])\n",
    "    end_line_ram= phone_ram.find('\"')\n",
    "    start_line_price = str(soup).find('\"price\":')\n",
    "    phone_price = str(str(soup)[start_line_price+8:])\n",
    "    end_line_price= phone_price.find(',')\n",
    "    gpu_array.append(phone_spec[:end_line])\n",
    "    ram_array.append(phone_ram[:end_line_ram])\n",
    "    if (phone_ram[:end_line_ram]=='8 GB'):\n",
    "        print(link)\n",
    "        print(phone_ram[:end_line_ram])\n",
    "        print(phone_spec[:end_line])\n",
    "        print(phone_price[:end_line_price])"
   ]
  },
  {
   "cell_type": "code",
   "execution_count": null,
   "metadata": {},
   "outputs": [],
   "source": [
    "gpu_array_counter = Counter(gpu_array)\n",
    "gpu_array_counter_sorted = sorted(gpu_array_counter.items(),key=lambda x:x[1],reverse=True)\n",
    "gpu_array_counter_sorted"
   ]
  },
  {
   "cell_type": "code",
   "execution_count": 12,
   "metadata": {},
   "outputs": [
    {
     "data": {
      "text/plain": [
       "[('8 GB', 34),\n",
       " ('4 GB', 25),\n",
       " ('6 GB', 13),\n",
       " ('3 GB', 12),\n",
       " ('2 GB', 5),\n",
       " ('>\\n<html lang=', 4),\n",
       " ('48 MB', 4),\n",
       " ('12 GB', 3),\n",
       " ('>\\n<html>\\n<head>\\n<meta charset=', 2),\n",
       " ('16 MB', 2),\n",
       " ('8 GB + 3 GB (Công nghệ mở rộng RAM)', 1),\n",
       " ('>\\n<html>\\n<head>\\n<title>Lỗi 404 | Thegioididong.com - Mua bán điện thoại, dtdd, smartphone, Laptop, máy tính xách tay, Máy tính bảng chính hãng\\r\\n    </title>\\n<meta content=',\n",
       "  1),\n",
       " ('512 MB', 1),\n",
       " ('64 MB', 1),\n",
       " ('Không có', 1)]"
      ]
     },
     "execution_count": 12,
     "metadata": {},
     "output_type": "execute_result"
    }
   ],
   "source": [
    "ram_array_counter = Counter(ram_array)\n",
    "ram_array_counter_sorted = sorted(ram_array_counter.items(),key=lambda x:x[1],reverse=True)\n",
    "ram_array_counter_sorted"
   ]
  }
 ],
 "metadata": {
  "interpreter": {
   "hash": "c156cbd56f2befb501b04e4bcafbb3ceb498087e79117ebbae5589b514d9d978"
  },
  "kernelspec": {
   "display_name": "Python 3.9.7 64-bit ('miniconda3')",
   "language": "python",
   "name": "python3"
  },
  "language_info": {
   "codemirror_mode": {
    "name": "ipython",
    "version": 3
   },
   "file_extension": ".py",
   "mimetype": "text/x-python",
   "name": "python",
   "nbconvert_exporter": "python",
   "pygments_lexer": "ipython3",
   "version": "3.9.7"
  },
  "orig_nbformat": 4
 },
 "nbformat": 4,
 "nbformat_minor": 2
}
