{
 "cells": [
  {
   "cell_type": "code",
   "execution_count": 2,
   "metadata": {},
   "outputs": [],
   "source": [
    "\n",
    "import requests_html\n",
    "req = requests_html.HTMLSession()\n",
    "f = open('www.thegioididong.com_16th_Apr_2022.csv','r')\n"
   ]
  },
  {
   "cell_type": "code",
   "execution_count": 3,
   "metadata": {},
   "outputs": [],
   "source": [
    "f = f.readlines()"
   ]
  },
  {
   "cell_type": "code",
   "execution_count": 24,
   "metadata": {},
   "outputs": [
    {
     "name": "stdout",
     "output_type": "stream",
     "text": [
      "\"https://www.thegioididong.com/dtdd/vivo-y33s\"\n",
      "\"https://www.thegioididong.com/dtdd/realme-c35\"\n",
      "\"https://www.thegioididong.com/dtdd/samsung-galaxy-s22-ultra\"\n",
      "\"https://www.thegioididong.com/dtdd/samsung-galaxy-m33-5g\"\n",
      "\"https://www.thegioididong.com/dtdd/oppo-reno6-z-5g\"\n",
      "\"https://www.thegioididong.com/dtdd/samsung-galaxy-s22-ultra?src=osp\"\n",
      "\"https://www.thegioididong.com/dtdd/iphone-11?src=osp\"\n",
      "\"https://www.thegioididong.com/dtdd/oppo-reno7-z?src=osp\"\n",
      "\"https://www.thegioididong.com/dtdd/realme-c35?src=osp\"\n",
      "\"https://www.thegioididong.com/dtdd/xiaomi-11t?src=osp\"\n",
      "\"https://www.thegioididong.com/dtdd/samsung-galaxy-a03?src=osp\"\n",
      "\"https://www.thegioididong.com/dtdd/xiaomi-redmi-note-11-pro-4g?src=osp\"\n",
      "\"https://www.thegioididong.com/dtdd/iphone-13-pro-max?src=osp\"\n",
      "\"https://www.thegioididong.com/dtdd/samsung-galaxy-a52s-5g?src=osp\"\n",
      "\"https://www.thegioididong.com/dtdd/vivo-y15s-2021?src=osp\"\n",
      "\"https://www.thegioididong.com/dtdd/samsung-galaxy-z-fold-3?src=osp\"\n",
      "\"https://www.thegioididong.com/dtdd/iphone-13-pro-max-xanh-la?src=osp\"\n",
      "\"https://www.thegioididong.com/dtdd/iphone-12-pro-max-256gb?src=osp\"\n",
      "\"https://www.thegioididong.com/dtdd/iphone-13-pro?src=osp\"\n",
      "\"https://www.thegioididong.com/dtdd/iphone-13-pro-xanh-la?src=osp\"\n",
      "\"https://www.thegioididong.com/dtdd/samsung-galaxy-s22-plus?src=osp\"\n",
      "\"https://www.thegioididong.com/dtdd/samsung-galaxy-s21-ultra?src=osp\"\n",
      "\"https://www.thegioididong.com/dtdd/iphone-12-pro?src=osp\"\n",
      "\"https://www.thegioididong.com/dtdd/iphone-13?src=osp\"\n",
      "\"https://www.thegioididong.com/dtdd/iphone-13-128gb-xanh-la?src=osp\"\n",
      "\"https://www.thegioididong.com/dtdd/samsung-galaxy-s22?src=osp\"\n",
      "\"https://www.thegioididong.com/dtdd/samsung-galaxy-s21-plus?src=osp\"\n",
      "\"https://www.thegioididong.com/dtdd/xiaomi-mi-12?src=osp\"\n",
      "\"https://www.thegioididong.com/dtdd/samsung-galaxy-z-flip-3?src=osp\"\n",
      "\"https://www.thegioididong.com/dtdd/iphone-13-mini?src=osp\"\n",
      "\"https://www.thegioididong.com/dtdd/iphone-12?src=osp\"\n",
      "\"https://www.thegioididong.com/dtdd/13-mini-128gb-xanh-la?src=osp\"\n",
      "\"https://www.thegioididong.com/dtdd/samsung-galaxy-s21?src=osp\"\n",
      "\"https://www.thegioididong.com/dtdd/iphone-12-mini?src=osp\"\n",
      "\"https://www.thegioididong.com/dtdd/samsung-galaxy-note-20?src=osp\"\n",
      "\"https://www.thegioididong.com/dtdd/samsung-galaxy-s20-fan-edition?src=osp\"\n",
      "\"https://www.thegioididong.com/dtdd/iphone-xr-128gb?src=osp\"\n",
      "\"https://www.thegioididong.com/dtdd/oppo-reno6?src=osp\"\n",
      "\"https://www.thegioididong.com/dtdd/xiaomi-11t-pro-5g-8gb?src=osp\"\n",
      "\"https://www.thegioididong.com/dtdd/samsung-galaxy-s21-fe-6gb?src=osp\"\n",
      "\"https://www.thegioididong.com/dtdd/iphone-se-2022?src=osp\"\n",
      "\"https://www.thegioididong.com/dtdd/iphone-se-64gb-2020-hop-moi?src=osp\"\n",
      "\"https://www.thegioididong.com/dtdd/samsung-galaxy-a73?src=osp\"\n",
      "\"https://www.thegioididong.com/dtdd/oppo-reno4-pro?src=osp\"\n",
      "\"https://www.thegioididong.com/dtdd/samsung-galaxy-a53?src=osp\"\n",
      "\"https://www.thegioididong.com/dtdd/vivo-v21-5g?src=osp\"\n",
      "\"https://www.thegioididong.com/dtdd/xiaomi-11-lite-5g-ne?src=osp\"\n",
      "\"https://www.thegioididong.com/dtdd/samsung-galaxy-a52?src=osp\"\n",
      "\"https://www.thegioididong.com/dtdd/oppo-reno5-5g?src=osp\"\n",
      "\"https://www.thegioididong.com/dtdd/samsung-galaxy-a33?src=osp\"\n",
      "\"https://www.thegioididong.com/dtdd/vivo-y72-5g?src=osp\"\n",
      "\"https://www.thegioididong.com/dtdd/oppo-a74-5g?src=osp\"\n",
      "\"https://www.thegioididong.com/dtdd/xiaomi-mi-11-lite-4g?src=osp\"\n",
      "\"https://www.thegioididong.com/dtdd/vivo-v23e?src=osp\"\n",
      "\"https://www.thegioididong.com/dtdd/vivo-v20-2021?src=osp\"\n",
      "\"https://www.thegioididong.com/dtdd/realme-9-pro?src=osp\"\n",
      "\"https://www.thegioididong.com/dtdd/xiaomi-redmi-note-10-pro?src=osp\"\n",
      "\"https://www.thegioididong.com/dtdd/realme-8-5g?src=osp\"\n",
      "\"https://www.thegioididong.com/dtdd/samsung-galaxy-m33-5g?src=osp\"\n",
      "\"https://www.thegioididong.com/dtdd/oppo-a95-4g?src=osp\"\n",
      "\"https://www.thegioididong.com/dtdd/vivo-y53s?src=osp\"\n",
      "\"https://www.thegioididong.com/dtdd/vivo-y33s?src=osp\"\n",
      "\"https://www.thegioididong.com/dtdd/samsung-galaxy-a32-4g?src=osp\"\n",
      "\"https://www.thegioididong.com/dtdd/xiaomi-redmi-note-10s-6gb?src=osp\"\n",
      "\"https://www.thegioididong.com/dtdd/oppo-a76-4g?src=osp\"\n",
      "\"https://www.thegioididong.com/dtdd/samsung-galaxy-a23?src=osp\"\n",
      "\"https://www.thegioididong.com/dtdd/realme-9i-4gb-64gb?src=osp\"\n",
      "\"https://www.thegioididong.com/dtdd/samsung-galaxy-a22-4g?src=osp\"\n",
      "\"https://www.thegioididong.com/dtdd/realme-c25s?src=osp\"\n",
      "\"https://www.thegioididong.com/dtdd/oppo-a55-4g?src=osp\"\n",
      "\"https://www.thegioididong.com/dtdd/samsung-galaxy-a13-4g?src=osp\"\n",
      "\"https://www.thegioididong.com/dtdd/xiaomi-redmi-note-11-4gb-64gb?src=osp\"\n",
      "\"https://www.thegioididong.com/dtdd/realme-c25y-64gb?src=osp\"\n",
      "\"https://www.thegioididong.com/dtdd/xiaomi-redmi-10-4gb-128gb?src=osp\"\n",
      "\"https://www.thegioididong.com/dtdd/oppo-a15s?src=osp\"\n",
      "\"https://www.thegioididong.com/dtdd/vivo-y21?src=osp\"\n",
      "\"https://www.thegioididong.com/dtdd/oppo-a16?src=osp\"\n",
      "\"https://www.thegioididong.com/dtdd/samsung-galaxy-a12-2021?src=osp\"\n",
      "\"https://www.thegioididong.com/dtdd/nokia-g10?src=osp\"\n",
      "\"https://www.thegioididong.com/dtdd/xiaomi-redmi-10c?src=osp\"\n",
      "\"https://www.thegioididong.com/dtdd/realme-c21y-3gb?src=osp\"\n",
      "\"https://www.thegioididong.com/dtdd/realme-c21-y-3gb?src=osp\"\n",
      "\"https://www.thegioididong.com/dtdd/nokia-c30?src=osp\"\n",
      "\"https://www.thegioididong.com/dtdd/samsung-galaxy-a03s?src=osp\"\n",
      "\"https://www.thegioididong.com/dtdd/oppo-a16k?src=osp\"\n",
      "\"https://www.thegioididong.com/dtdd/xiaomi-redmi-9c-3gb?src=osp\"\n",
      "\"https://www.thegioididong.com/dtdd/realme-c11-2021-2gb-32gb?src=osp\"\n",
      "\"https://www.thegioididong.com/dtdd/realme-c11-2021?src=osp\"\n",
      "\"https://www.thegioididong.com/dtdd/xiaomi-redmi-9a?src=osp\"\n",
      "\"https://www.thegioididong.com/dtdd/itel-l6502?src=osp\"\n",
      "\"https://www.thegioididong.com/dtdd/nokia-c20?src=osp\"\n",
      "\"https://www.thegioididong.com/dtdd/itel-l6006?src=osp\"\n",
      "\"https://www.thegioididong.com/dtdd/nokia-215?src=osp\"\n",
      "\"https://www.thegioididong.com/dtdd/nokia-110-4g?src=osp\"\n",
      "\"https://www.thegioididong.com/dtdd/nokia-105-4g?src=osp\"\n",
      "\"https://www.thegioididong.com/dtdd/masstel-fami-60?src=osp\"\n",
      "\"https://www.thegioididong.com/dtdd/masstel-izi-55?src=osp\"\n",
      "\"https://www.thegioididong.com/dtdd/itel-it9200?src=osp\"\n",
      "\"https://www.thegioididong.com/dtdd/itel-it9210?src=osp\"\n",
      "\"https://www.thegioididong.com/dtdd/masstel-fami-12-4g?src=osp\"\n",
      "\"https://www.thegioididong.com/dtdd/masstel-izi-20-4g?src=osp\"\n",
      "\"https://www.thegioididong.com/dtdd/masstel-izi-10-4g?src=osp\"\n",
      "\"https://www.thegioididong.com/dtdd/nokia-105-single-sim-2019?src=osp\"\n",
      "\"https://www.thegioididong.com/dtdd/masstel-izi-300?src=osp\"\n",
      "\"https://www.thegioididong.com/dtdd/oppo-reno7-pro?src=osp\"\n",
      "\"https://www.thegioididong.com/dtdd/vivo-y01?src=osp\"\n",
      "\"https://www.thegioididong.com/dtdd/nokia-g21?src=osp\"\n",
      "\"https://www.thegioididong.com/dtdd/oppo-reno7-4g?src=osp\"\n",
      "\"https://www.thegioididong.com/dtdd/nokia-g11?src=osp\"\n",
      "There are 109 smartphone in thegioididong:\n",
      "Samsung have 26 model\n",
      "Xiaomi have 13 model\n"
     ]
    }
   ],
   "source": [
    "count = 0\n",
    "count_samsung  = 0\n",
    "count_xiaomi = 0\n",
    "brand_count = []\n",
    "\n",
    "for line in f:\n",
    "    phone_link = line.split(',')[0]\n",
    "    if (phone_link.startswith('\"https://www.thegioididong.com/dtdd/')):\n",
    "        print(phone_link)\n",
    "        count += 1\n",
    "        if ('samsung' in phone_link):\n",
    "            count_samsung += 1\n",
    "        if ('xiaomi' in phone_link):\n",
    "            count_xiaomi += 1\n",
    "        phone_name =phone_link.split('/')[4]\n",
    "        brand_name = phone_name.split('-')[0]\n",
    "        brand_count.append(brand_name)\n",
    "print(f'There are {count} smartphone in thegioididong:')\n",
    "print(f'Samsung have {count_samsung} model')\n",
    "print(f'Xiaomi have {count_xiaomi} model')"
   ]
  },
  {
   "cell_type": "code",
   "execution_count": 30,
   "metadata": {},
   "outputs": [],
   "source": [
    "from collections import Counter\n",
    "count_smartphone_per_brand = Counter(brand_count)"
   ]
  },
  {
   "cell_type": "code",
   "execution_count": null,
   "metadata": {},
   "outputs": [],
   "source": [
    "print(count_smartphone_per_brand)"
   ]
  },
  {
   "cell_type": "code",
   "execution_count": 19,
   "metadata": {},
   "outputs": [
    {
     "name": "stdout",
     "output_type": "stream",
     "text": [
      "vivo\n"
     ]
    }
   ],
   "source": [
    "raw = '\"https://www.thegioididong.com/dtdd/vivo-y33s\"'\n",
    "phone_name =raw.split('/')[4]\n",
    "brand = phone_name.split('-')[0]\n",
    "print(brand)"
   ]
  },
  {
   "cell_type": "code",
   "execution_count": null,
   "metadata": {},
   "outputs": [],
   "source": []
  }
 ],
 "metadata": {
  "interpreter": {
   "hash": "c156cbd56f2befb501b04e4bcafbb3ceb498087e79117ebbae5589b514d9d978"
  },
  "kernelspec": {
   "display_name": "Python 3.9.7 64-bit ('miniconda3')",
   "language": "python",
   "name": "python3"
  },
  "language_info": {
   "codemirror_mode": {
    "name": "ipython",
    "version": 3
   },
   "file_extension": ".py",
   "mimetype": "text/x-python",
   "name": "python",
   "nbconvert_exporter": "python",
   "pygments_lexer": "ipython3",
   "version": "3.9.7"
  },
  "orig_nbformat": 4
 },
 "nbformat": 4,
 "nbformat_minor": 2
}
