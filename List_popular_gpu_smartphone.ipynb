{
 "cells": [
  {
   "cell_type": "code",
   "execution_count": 4,
   "metadata": {},
   "outputs": [],
   "source": [
    "\n",
    "import requests_html\n",
    "req = requests_html.HTMLSession()\n",
    "f = open('www.thegioididong.com_16th_Apr_2022.csv','r')\n"
   ]
  },
  {
   "cell_type": "code",
   "execution_count": 5,
   "metadata": {},
   "outputs": [],
   "source": [
    "f = f.readlines()"
   ]
  },
  {
   "cell_type": "code",
   "execution_count": 6,
   "metadata": {},
   "outputs": [
    {
     "name": "stdout",
     "output_type": "stream",
     "text": [
      "There are 109 smartphone in thegioididong:\n",
      "Samsung have 26 model\n",
      "Xiaomi have 13 model\n"
     ]
    }
   ],
   "source": [
    "count = 0\n",
    "count_samsung  = 0\n",
    "count_xiaomi = 0\n",
    "brand_count = []\n",
    "phone_links = []\n",
    "\n",
    "for line in f:\n",
    "    phone_link = line.split(',')[0]\n",
    "    if (phone_link.startswith('\"https://www.thegioididong.com/dtdd/')):\n",
    "        # print(phone_link)\n",
    "        phone_links.append(phone_link)\n",
    "        count += 1\n",
    "        if ('samsung' in phone_link):\n",
    "            count_samsung += 1\n",
    "        if ('xiaomi' in phone_link):\n",
    "            count_xiaomi += 1\n",
    "        phone_name =phone_link.split('/')[4]\n",
    "        brand_name = phone_name.split('-')[0]\n",
    "        brand_count.append(brand_name)\n",
    "print(f'There are {count} smartphone in thegioididong:')\n",
    "print(f'Samsung have {count_samsung} model')\n",
    "print(f'Xiaomi have {count_xiaomi} model')"
   ]
  },
  {
   "cell_type": "code",
   "execution_count": 7,
   "metadata": {},
   "outputs": [],
   "source": [
    "from collections import Counter\n",
    "count_smartphone_per_brand = Counter(brand_count)"
   ]
  },
  {
   "cell_type": "code",
   "execution_count": 41,
   "metadata": {},
   "outputs": [],
   "source": [
    "count_smartphone_per_brand_sorted = sorted(count_smartphone_per_brand.items(),key=lambda item: item[1],reverse=True)"
   ]
  },
  {
   "cell_type": "code",
   "execution_count": 42,
   "metadata": {},
   "outputs": [
    {
     "name": "stdout",
     "output_type": "stream",
     "text": [
      "[('samsung', 26), ('iphone', 15), ('oppo', 14), ('xiaomi', 13), ('realme', 11), ('vivo', 10), ('nokia', 9), ('masstel', 6), ('itel', 4), ('13', 1)]\n"
     ]
    }
   ],
   "source": [
    "print(count_smartphone_per_brand_sorted)"
   ]
  },
  {
   "cell_type": "code",
   "execution_count": 4,
   "metadata": {},
   "outputs": [
    {
     "name": "stdout",
     "output_type": "stream",
     "text": [
      "vivo\n"
     ]
    }
   ],
   "source": [
    "raw = '\"https://www.thegioididong.com/dtdd/vivo-y33s\"'\n",
    "phone_name =raw.split('/')[4]\n",
    "brand = phone_name.split('-')[0]\n",
    "print(brand)"
   ]
  },
  {
   "cell_type": "code",
   "execution_count": 8,
   "metadata": {},
   "outputs": [],
   "source": [
    "from bs4 import BeautifulSoup"
   ]
  },
  {
   "cell_type": "code",
   "execution_count": 6,
   "metadata": {},
   "outputs": [],
   "source": [
    "fetch = req.get(\"https://www.thegioididong.com/dtdd/vivo-y33s\"+\"#top-tskt\").content\n",
    "soup = BeautifulSoup(fetch)"
   ]
  },
  {
   "cell_type": "code",
   "execution_count": 10,
   "metadata": {},
   "outputs": [
    {
     "name": "stdout",
     "output_type": "stream",
     "text": [
      "8 GB\n"
     ]
    }
   ],
   "source": [
    "phone_data_raw = soup.find_all(\"div\",{\"class\":\"content-t active\"})\n",
    "start_line_ram = str(soup).find('\"RAM\",\"value\":\"')\n",
    "phone_ram = str(str(soup)[start_line_ram+15:])\n",
    "end_line_ram= phone_ram.find('\"')\n",
    "print(phone_ram[:end_line_ram])"
   ]
  },
  {
   "cell_type": "code",
   "execution_count": 9,
   "metadata": {},
   "outputs": [
    {
     "name": "stdout",
     "output_type": "stream",
     "text": [
      "15\n"
     ]
    }
   ],
   "source": [
    "aa = '\"RAM\",\"value\":\"'\n",
    "print(len(aa))"
   ]
  },
  {
   "cell_type": "code",
   "execution_count": null,
   "metadata": {},
   "outputs": [],
   "source": [
    "print(str(soup))"
   ]
  },
  {
   "cell_type": "code",
   "execution_count": 160,
   "metadata": {},
   "outputs": [
    {
     "name": "stdout",
     "output_type": "stream",
     "text": [
      "https://www.thegioididong.com/dtdd/realme-c35\n"
     ]
    }
   ],
   "source": [
    "print(phone_links[1][1:-1])"
   ]
  },
  {
   "cell_type": "code",
   "execution_count": 11,
   "metadata": {},
   "outputs": [
    {
     "name": "stdout",
     "output_type": "stream",
     "text": [
      "8 GB\n",
      "Mali-G52 MC2\n",
      "4 GB\n",
      "Mali-G57\n",
      "8 GB\n",
      "Adreno 730\n",
      ">\n",
      "<html>\n",
      "<head>\n",
      "<meta charset=\n",
      "d>\n",
      "<meta charset=\n",
      "8 GB\n",
      "Mali-G57 MC3\n",
      "8 GB\n",
      "Adreno 730\n",
      "4 GB\n",
      "Apple GPU 4 nhân\n",
      "8 GB\n",
      "Adreno 619\n",
      "4 GB\n",
      "Mali-G57\n",
      "8 GB\n",
      "Mali-G77 MC9\n",
      "3 GB\n",
      "Mali-G57\n",
      "8 GB\n",
      "Mali-G57 MC2\n",
      "6 GB\n",
      "Apple GPU 5 nhân\n",
      "8 GB\n",
      "Adreno 642L\n",
      "3 GB\n",
      "IMG PowerVR GE8320\n",
      "12 GB\n",
      "Adreno 660\n",
      "6 GB\n",
      "Apple GPU 5 nhân\n",
      "6 GB\n",
      "Apple GPU 4 nhân\n"
     ]
    },
    {
     "ename": "KeyboardInterrupt",
     "evalue": "",
     "output_type": "error",
     "traceback": [
      "\u001b[0;31m---------------------------------------------------------------------------\u001b[0m",
      "\u001b[0;31mKeyboardInterrupt\u001b[0m                         Traceback (most recent call last)",
      "\u001b[1;32m/mnt/d/Code/DataMining_School/List_popular_gpu_smartphone.ipynb Cell 14'\u001b[0m in \u001b[0;36m<cell line: 4>\u001b[0;34m()\u001b[0m\n\u001b[1;32m      <a href='vscode-notebook-cell://wsl%2Bwsl_ubuntu18/mnt/d/Code/DataMining_School/List_popular_gpu_smartphone.ipynb#ch0000013vscode-remote?line=7'>8</a>\u001b[0m phone_data_raw \u001b[39m=\u001b[39m soup\u001b[39m.\u001b[39mfind_all(\u001b[39m\"\u001b[39m\u001b[39mdiv\u001b[39m\u001b[39m\"\u001b[39m,{\u001b[39m\"\u001b[39m\u001b[39mclass\u001b[39m\u001b[39m\"\u001b[39m:\u001b[39m\"\u001b[39m\u001b[39mcontent-t active\u001b[39m\u001b[39m\"\u001b[39m})\n\u001b[1;32m      <a href='vscode-notebook-cell://wsl%2Bwsl_ubuntu18/mnt/d/Code/DataMining_School/List_popular_gpu_smartphone.ipynb#ch0000013vscode-remote?line=8'>9</a>\u001b[0m start_line \u001b[39m=\u001b[39m \u001b[39mstr\u001b[39m(soup)\u001b[39m.\u001b[39mfind(\u001b[39m'\u001b[39m\u001b[39mChip đồ họa (GPU)\u001b[39m\u001b[39m\"\u001b[39m\u001b[39m'\u001b[39m)\n\u001b[0;32m---> <a href='vscode-notebook-cell://wsl%2Bwsl_ubuntu18/mnt/d/Code/DataMining_School/List_popular_gpu_smartphone.ipynb#ch0000013vscode-remote?line=9'>10</a>\u001b[0m phone_spec \u001b[39m=\u001b[39m \u001b[39mstr\u001b[39m(\u001b[39mstr\u001b[39;49m(soup)[start_line\u001b[39m+\u001b[39m\u001b[39m28\u001b[39m:])\n\u001b[1;32m     <a href='vscode-notebook-cell://wsl%2Bwsl_ubuntu18/mnt/d/Code/DataMining_School/List_popular_gpu_smartphone.ipynb#ch0000013vscode-remote?line=10'>11</a>\u001b[0m end_line \u001b[39m=\u001b[39m phone_spec\u001b[39m.\u001b[39mfind(\u001b[39m'\u001b[39m\u001b[39m\"\u001b[39m\u001b[39m'\u001b[39m)\n\u001b[1;32m     <a href='vscode-notebook-cell://wsl%2Bwsl_ubuntu18/mnt/d/Code/DataMining_School/List_popular_gpu_smartphone.ipynb#ch0000013vscode-remote?line=11'>12</a>\u001b[0m start_line_ram \u001b[39m=\u001b[39m \u001b[39mstr\u001b[39m(soup)\u001b[39m.\u001b[39mfind(\u001b[39m'\u001b[39m\u001b[39m\"\u001b[39m\u001b[39mRAM\u001b[39m\u001b[39m\"\u001b[39m\u001b[39m,\u001b[39m\u001b[39m\"\u001b[39m\u001b[39mvalue\u001b[39m\u001b[39m\"\u001b[39m\u001b[39m:\u001b[39m\u001b[39m\"\u001b[39m\u001b[39m'\u001b[39m)\n",
      "File \u001b[0;32m/home/hdoop/miniconda3/lib/python3.9/site-packages/bs4/element.py:1605\u001b[0m, in \u001b[0;36mTag.__unicode__\u001b[0;34m(self)\u001b[0m\n\u001b[1;32m   <a href='file:///home/hdoop/miniconda3/lib/python3.9/site-packages/bs4/element.py?line=1602'>1603</a>\u001b[0m \u001b[39mdef\u001b[39;00m \u001b[39m__unicode__\u001b[39m(\u001b[39mself\u001b[39m):\n\u001b[1;32m   <a href='file:///home/hdoop/miniconda3/lib/python3.9/site-packages/bs4/element.py?line=1603'>1604</a>\u001b[0m     \u001b[39m\"\"\"Renders this PageElement as a Unicode string.\"\"\"\u001b[39;00m\n\u001b[0;32m-> <a href='file:///home/hdoop/miniconda3/lib/python3.9/site-packages/bs4/element.py?line=1604'>1605</a>\u001b[0m     \u001b[39mreturn\u001b[39;00m \u001b[39mself\u001b[39;49m\u001b[39m.\u001b[39;49mdecode()\n",
      "File \u001b[0;32m/home/hdoop/miniconda3/lib/python3.9/site-packages/bs4/__init__.py:777\u001b[0m, in \u001b[0;36mBeautifulSoup.decode\u001b[0;34m(self, pretty_print, eventual_encoding, formatter)\u001b[0m\n\u001b[1;32m    <a href='file:///home/hdoop/miniconda3/lib/python3.9/site-packages/bs4/__init__.py?line=774'>775</a>\u001b[0m \u001b[39melse\u001b[39;00m:\n\u001b[1;32m    <a href='file:///home/hdoop/miniconda3/lib/python3.9/site-packages/bs4/__init__.py?line=775'>776</a>\u001b[0m     indent_level \u001b[39m=\u001b[39m \u001b[39m0\u001b[39m\n\u001b[0;32m--> <a href='file:///home/hdoop/miniconda3/lib/python3.9/site-packages/bs4/__init__.py?line=776'>777</a>\u001b[0m \u001b[39mreturn\u001b[39;00m prefix \u001b[39m+\u001b[39m \u001b[39msuper\u001b[39;49m(BeautifulSoup, \u001b[39mself\u001b[39;49m)\u001b[39m.\u001b[39;49mdecode(\n\u001b[1;32m    <a href='file:///home/hdoop/miniconda3/lib/python3.9/site-packages/bs4/__init__.py?line=777'>778</a>\u001b[0m     indent_level, eventual_encoding, formatter)\n",
      "File \u001b[0;32m/home/hdoop/miniconda3/lib/python3.9/site-packages/bs4/element.py:1702\u001b[0m, in \u001b[0;36mTag.decode\u001b[0;34m(self, indent_level, eventual_encoding, formatter)\u001b[0m\n\u001b[1;32m   <a href='file:///home/hdoop/miniconda3/lib/python3.9/site-packages/bs4/element.py?line=1699'>1700</a>\u001b[0m \u001b[39melse\u001b[39;00m:\n\u001b[1;32m   <a href='file:///home/hdoop/miniconda3/lib/python3.9/site-packages/bs4/element.py?line=1700'>1701</a>\u001b[0m     indent_contents \u001b[39m=\u001b[39m \u001b[39mNone\u001b[39;00m\n\u001b[0;32m-> <a href='file:///home/hdoop/miniconda3/lib/python3.9/site-packages/bs4/element.py?line=1701'>1702</a>\u001b[0m contents \u001b[39m=\u001b[39m \u001b[39mself\u001b[39;49m\u001b[39m.\u001b[39;49mdecode_contents(\n\u001b[1;32m   <a href='file:///home/hdoop/miniconda3/lib/python3.9/site-packages/bs4/element.py?line=1702'>1703</a>\u001b[0m     indent_contents, eventual_encoding, formatter\n\u001b[1;32m   <a href='file:///home/hdoop/miniconda3/lib/python3.9/site-packages/bs4/element.py?line=1703'>1704</a>\u001b[0m )\n\u001b[1;32m   <a href='file:///home/hdoop/miniconda3/lib/python3.9/site-packages/bs4/element.py?line=1705'>1706</a>\u001b[0m \u001b[39mif\u001b[39;00m \u001b[39mself\u001b[39m\u001b[39m.\u001b[39mhidden:\n\u001b[1;32m   <a href='file:///home/hdoop/miniconda3/lib/python3.9/site-packages/bs4/element.py?line=1706'>1707</a>\u001b[0m     \u001b[39m# This is the 'document root' object.\u001b[39;00m\n\u001b[1;32m   <a href='file:///home/hdoop/miniconda3/lib/python3.9/site-packages/bs4/element.py?line=1707'>1708</a>\u001b[0m     s \u001b[39m=\u001b[39m contents\n",
      "File \u001b[0;32m/home/hdoop/miniconda3/lib/python3.9/site-packages/bs4/element.py:1799\u001b[0m, in \u001b[0;36mTag.decode_contents\u001b[0;34m(self, indent_level, eventual_encoding, formatter)\u001b[0m\n\u001b[1;32m   <a href='file:///home/hdoop/miniconda3/lib/python3.9/site-packages/bs4/element.py?line=1796'>1797</a>\u001b[0m     text \u001b[39m=\u001b[39m c\u001b[39m.\u001b[39moutput_ready(formatter)\n\u001b[1;32m   <a href='file:///home/hdoop/miniconda3/lib/python3.9/site-packages/bs4/element.py?line=1797'>1798</a>\u001b[0m \u001b[39melif\u001b[39;00m \u001b[39misinstance\u001b[39m(c, Tag):\n\u001b[0;32m-> <a href='file:///home/hdoop/miniconda3/lib/python3.9/site-packages/bs4/element.py?line=1798'>1799</a>\u001b[0m     s\u001b[39m.\u001b[39mappend(c\u001b[39m.\u001b[39;49mdecode(indent_level, eventual_encoding,\n\u001b[1;32m   <a href='file:///home/hdoop/miniconda3/lib/python3.9/site-packages/bs4/element.py?line=1799'>1800</a>\u001b[0m                       formatter))\n\u001b[1;32m   <a href='file:///home/hdoop/miniconda3/lib/python3.9/site-packages/bs4/element.py?line=1800'>1801</a>\u001b[0m preserve_whitespace \u001b[39m=\u001b[39m (\n\u001b[1;32m   <a href='file:///home/hdoop/miniconda3/lib/python3.9/site-packages/bs4/element.py?line=1801'>1802</a>\u001b[0m     \u001b[39mself\u001b[39m\u001b[39m.\u001b[39mpreserve_whitespace_tags \u001b[39mand\u001b[39;00m \u001b[39mself\u001b[39m\u001b[39m.\u001b[39mname \u001b[39min\u001b[39;00m \u001b[39mself\u001b[39m\u001b[39m.\u001b[39mpreserve_whitespace_tags\n\u001b[1;32m   <a href='file:///home/hdoop/miniconda3/lib/python3.9/site-packages/bs4/element.py?line=1802'>1803</a>\u001b[0m )\n\u001b[1;32m   <a href='file:///home/hdoop/miniconda3/lib/python3.9/site-packages/bs4/element.py?line=1803'>1804</a>\u001b[0m \u001b[39mif\u001b[39;00m text \u001b[39mand\u001b[39;00m indent_level \u001b[39mand\u001b[39;00m \u001b[39mnot\u001b[39;00m preserve_whitespace:\n",
      "File \u001b[0;32m/home/hdoop/miniconda3/lib/python3.9/site-packages/bs4/element.py:1702\u001b[0m, in \u001b[0;36mTag.decode\u001b[0;34m(self, indent_level, eventual_encoding, formatter)\u001b[0m\n\u001b[1;32m   <a href='file:///home/hdoop/miniconda3/lib/python3.9/site-packages/bs4/element.py?line=1699'>1700</a>\u001b[0m \u001b[39melse\u001b[39;00m:\n\u001b[1;32m   <a href='file:///home/hdoop/miniconda3/lib/python3.9/site-packages/bs4/element.py?line=1700'>1701</a>\u001b[0m     indent_contents \u001b[39m=\u001b[39m \u001b[39mNone\u001b[39;00m\n\u001b[0;32m-> <a href='file:///home/hdoop/miniconda3/lib/python3.9/site-packages/bs4/element.py?line=1701'>1702</a>\u001b[0m contents \u001b[39m=\u001b[39m \u001b[39mself\u001b[39;49m\u001b[39m.\u001b[39;49mdecode_contents(\n\u001b[1;32m   <a href='file:///home/hdoop/miniconda3/lib/python3.9/site-packages/bs4/element.py?line=1702'>1703</a>\u001b[0m     indent_contents, eventual_encoding, formatter\n\u001b[1;32m   <a href='file:///home/hdoop/miniconda3/lib/python3.9/site-packages/bs4/element.py?line=1703'>1704</a>\u001b[0m )\n\u001b[1;32m   <a href='file:///home/hdoop/miniconda3/lib/python3.9/site-packages/bs4/element.py?line=1705'>1706</a>\u001b[0m \u001b[39mif\u001b[39;00m \u001b[39mself\u001b[39m\u001b[39m.\u001b[39mhidden:\n\u001b[1;32m   <a href='file:///home/hdoop/miniconda3/lib/python3.9/site-packages/bs4/element.py?line=1706'>1707</a>\u001b[0m     \u001b[39m# This is the 'document root' object.\u001b[39;00m\n\u001b[1;32m   <a href='file:///home/hdoop/miniconda3/lib/python3.9/site-packages/bs4/element.py?line=1707'>1708</a>\u001b[0m     s \u001b[39m=\u001b[39m contents\n",
      "File \u001b[0;32m/home/hdoop/miniconda3/lib/python3.9/site-packages/bs4/element.py:1797\u001b[0m, in \u001b[0;36mTag.decode_contents\u001b[0;34m(self, indent_level, eventual_encoding, formatter)\u001b[0m\n\u001b[1;32m   <a href='file:///home/hdoop/miniconda3/lib/python3.9/site-packages/bs4/element.py?line=1794'>1795</a>\u001b[0m text \u001b[39m=\u001b[39m \u001b[39mNone\u001b[39;00m\n\u001b[1;32m   <a href='file:///home/hdoop/miniconda3/lib/python3.9/site-packages/bs4/element.py?line=1795'>1796</a>\u001b[0m \u001b[39mif\u001b[39;00m \u001b[39misinstance\u001b[39m(c, NavigableString):\n\u001b[0;32m-> <a href='file:///home/hdoop/miniconda3/lib/python3.9/site-packages/bs4/element.py?line=1796'>1797</a>\u001b[0m     text \u001b[39m=\u001b[39m c\u001b[39m.\u001b[39;49moutput_ready(formatter)\n\u001b[1;32m   <a href='file:///home/hdoop/miniconda3/lib/python3.9/site-packages/bs4/element.py?line=1797'>1798</a>\u001b[0m \u001b[39melif\u001b[39;00m \u001b[39misinstance\u001b[39m(c, Tag):\n\u001b[1;32m   <a href='file:///home/hdoop/miniconda3/lib/python3.9/site-packages/bs4/element.py?line=1798'>1799</a>\u001b[0m     s\u001b[39m.\u001b[39mappend(c\u001b[39m.\u001b[39mdecode(indent_level, eventual_encoding,\n\u001b[1;32m   <a href='file:///home/hdoop/miniconda3/lib/python3.9/site-packages/bs4/element.py?line=1799'>1800</a>\u001b[0m                       formatter))\n",
      "File \u001b[0;32m/home/hdoop/miniconda3/lib/python3.9/site-packages/bs4/element.py:974\u001b[0m, in \u001b[0;36mNavigableString.output_ready\u001b[0;34m(self, formatter)\u001b[0m\n\u001b[1;32m    <a href='file:///home/hdoop/miniconda3/lib/python3.9/site-packages/bs4/element.py?line=968'>969</a>\u001b[0m \u001b[39mdef\u001b[39;00m \u001b[39moutput_ready\u001b[39m(\u001b[39mself\u001b[39m, formatter\u001b[39m=\u001b[39m\u001b[39m\"\u001b[39m\u001b[39mminimal\u001b[39m\u001b[39m\"\u001b[39m):\n\u001b[1;32m    <a href='file:///home/hdoop/miniconda3/lib/python3.9/site-packages/bs4/element.py?line=969'>970</a>\u001b[0m     \u001b[39m\"\"\"Run the string through the provided formatter.\u001b[39;00m\n\u001b[1;32m    <a href='file:///home/hdoop/miniconda3/lib/python3.9/site-packages/bs4/element.py?line=970'>971</a>\u001b[0m \n\u001b[1;32m    <a href='file:///home/hdoop/miniconda3/lib/python3.9/site-packages/bs4/element.py?line=971'>972</a>\u001b[0m \u001b[39m    :param formatter: A Formatter object, or a string naming one of the standard formatters.\u001b[39;00m\n\u001b[1;32m    <a href='file:///home/hdoop/miniconda3/lib/python3.9/site-packages/bs4/element.py?line=972'>973</a>\u001b[0m \u001b[39m    \"\"\"\u001b[39;00m\n\u001b[0;32m--> <a href='file:///home/hdoop/miniconda3/lib/python3.9/site-packages/bs4/element.py?line=973'>974</a>\u001b[0m     output \u001b[39m=\u001b[39m \u001b[39mself\u001b[39;49m\u001b[39m.\u001b[39;49mformat_string(\u001b[39mself\u001b[39;49m, formatter)\n\u001b[1;32m    <a href='file:///home/hdoop/miniconda3/lib/python3.9/site-packages/bs4/element.py?line=974'>975</a>\u001b[0m     \u001b[39mreturn\u001b[39;00m \u001b[39mself\u001b[39m\u001b[39m.\u001b[39mPREFIX \u001b[39m+\u001b[39m output \u001b[39m+\u001b[39m \u001b[39mself\u001b[39m\u001b[39m.\u001b[39mSUFFIX\n",
      "File \u001b[0;32m/home/hdoop/miniconda3/lib/python3.9/site-packages/bs4/element.py:208\u001b[0m, in \u001b[0;36mPageElement.format_string\u001b[0;34m(self, s, formatter)\u001b[0m\n\u001b[1;32m    <a href='file:///home/hdoop/miniconda3/lib/python3.9/site-packages/bs4/element.py?line=205'>206</a>\u001b[0m \u001b[39mif\u001b[39;00m \u001b[39mnot\u001b[39;00m \u001b[39misinstance\u001b[39m(formatter, Formatter):\n\u001b[1;32m    <a href='file:///home/hdoop/miniconda3/lib/python3.9/site-packages/bs4/element.py?line=206'>207</a>\u001b[0m     formatter \u001b[39m=\u001b[39m \u001b[39mself\u001b[39m\u001b[39m.\u001b[39mformatter_for_name(formatter)\n\u001b[0;32m--> <a href='file:///home/hdoop/miniconda3/lib/python3.9/site-packages/bs4/element.py?line=207'>208</a>\u001b[0m output \u001b[39m=\u001b[39m formatter\u001b[39m.\u001b[39;49msubstitute(s)\n\u001b[1;32m    <a href='file:///home/hdoop/miniconda3/lib/python3.9/site-packages/bs4/element.py?line=208'>209</a>\u001b[0m \u001b[39mreturn\u001b[39;00m output\n",
      "File \u001b[0;32m/home/hdoop/miniconda3/lib/python3.9/site-packages/bs4/formatter.py:112\u001b[0m, in \u001b[0;36mFormatter.substitute\u001b[0;34m(self, ns)\u001b[0m\n\u001b[1;32m    <a href='file:///home/hdoop/miniconda3/lib/python3.9/site-packages/bs4/formatter.py?line=109'>110</a>\u001b[0m \u001b[39mif\u001b[39;00m \u001b[39mnot\u001b[39;00m \u001b[39mself\u001b[39m\u001b[39m.\u001b[39mentity_substitution:\n\u001b[1;32m    <a href='file:///home/hdoop/miniconda3/lib/python3.9/site-packages/bs4/formatter.py?line=110'>111</a>\u001b[0m     \u001b[39mreturn\u001b[39;00m ns\n\u001b[0;32m--> <a href='file:///home/hdoop/miniconda3/lib/python3.9/site-packages/bs4/formatter.py?line=111'>112</a>\u001b[0m \u001b[39mfrom\u001b[39;00m \u001b[39m.\u001b[39;00m\u001b[39melement\u001b[39;00m \u001b[39mimport\u001b[39;00m NavigableString\n\u001b[1;32m    <a href='file:///home/hdoop/miniconda3/lib/python3.9/site-packages/bs4/formatter.py?line=112'>113</a>\u001b[0m \u001b[39mif\u001b[39;00m (\u001b[39misinstance\u001b[39m(ns, NavigableString)\n\u001b[1;32m    <a href='file:///home/hdoop/miniconda3/lib/python3.9/site-packages/bs4/formatter.py?line=113'>114</a>\u001b[0m     \u001b[39mand\u001b[39;00m ns\u001b[39m.\u001b[39mparent \u001b[39mis\u001b[39;00m \u001b[39mnot\u001b[39;00m \u001b[39mNone\u001b[39;00m\n\u001b[1;32m    <a href='file:///home/hdoop/miniconda3/lib/python3.9/site-packages/bs4/formatter.py?line=114'>115</a>\u001b[0m     \u001b[39mand\u001b[39;00m ns\u001b[39m.\u001b[39mparent\u001b[39m.\u001b[39mname \u001b[39min\u001b[39;00m \u001b[39mself\u001b[39m\u001b[39m.\u001b[39mcdata_containing_tags):\n\u001b[1;32m    <a href='file:///home/hdoop/miniconda3/lib/python3.9/site-packages/bs4/formatter.py?line=115'>116</a>\u001b[0m     \u001b[39m# Do nothing.\u001b[39;00m\n\u001b[1;32m    <a href='file:///home/hdoop/miniconda3/lib/python3.9/site-packages/bs4/formatter.py?line=116'>117</a>\u001b[0m     \u001b[39mreturn\u001b[39;00m ns\n",
      "\u001b[0;31mKeyboardInterrupt\u001b[0m: "
     ]
    }
   ],
   "source": [
    "gpu_array = []\n",
    "ram_array = []\n",
    "# start = 0; end = 5\n",
    "for link in phone_links:\n",
    "    link_trim = link[1:len(link)-1]\n",
    "    get_detail_phone = req.get(link_trim+\"#top-tskt\").content\n",
    "    soup = BeautifulSoup(get_detail_phone)\n",
    "    phone_data_raw = soup.find_all(\"div\",{\"class\":\"content-t active\"})\n",
    "    start_line = str(soup).find('Chip đồ họa (GPU)\"')\n",
    "    phone_spec = str(str(soup)[start_line+28:])\n",
    "    end_line = phone_spec.find('\"')\n",
    "    start_line_ram = str(soup).find('\"RAM\",\"value\":\"')\n",
    "    phone_ram = str(str(soup)[start_line_ram+15:])\n",
    "    end_line_ram= phone_ram.find('\"')\n",
    "    print(phone_ram[:end_line_ram])\n",
    "    print(phone_spec[:end_line])\n",
    "    gpu_array.append(phone_spec[:end_line])\n",
    "    ram_array.append(phone_ram[:end_line_ram])\n",
    "    if (phone_ram[:end_line_ram]=='8 GB'):\n",
    "        print(link)"
   ]
  },
  {
   "cell_type": "code",
   "execution_count": null,
   "metadata": {},
   "outputs": [],
   "source": [
    "gpu_array_counter = Counter(gpu_array)\n",
    "gpu_array_counter_sorted = sorted(gpu_array_counter.items(),key=lambda x:x[1],reverse=True)\n",
    "gpu_array_counter_sorted"
   ]
  },
  {
   "cell_type": "code",
   "execution_count": 12,
   "metadata": {},
   "outputs": [
    {
     "data": {
      "text/plain": [
       "[('8 GB', 34),\n",
       " ('4 GB', 25),\n",
       " ('6 GB', 13),\n",
       " ('3 GB', 12),\n",
       " ('2 GB', 5),\n",
       " ('>\\n<html lang=', 4),\n",
       " ('48 MB', 4),\n",
       " ('12 GB', 3),\n",
       " ('>\\n<html>\\n<head>\\n<meta charset=', 2),\n",
       " ('16 MB', 2),\n",
       " ('8 GB + 3 GB (Công nghệ mở rộng RAM)', 1),\n",
       " ('>\\n<html>\\n<head>\\n<title>Lỗi 404 | Thegioididong.com - Mua bán điện thoại, dtdd, smartphone, Laptop, máy tính xách tay, Máy tính bảng chính hãng\\r\\n    </title>\\n<meta content=',\n",
       "  1),\n",
       " ('512 MB', 1),\n",
       " ('64 MB', 1),\n",
       " ('Không có', 1)]"
      ]
     },
     "execution_count": 12,
     "metadata": {},
     "output_type": "execute_result"
    }
   ],
   "source": [
    "ram_array_counter = Counter(ram_array)\n",
    "ram_array_counter_sorted = sorted(ram_array_counter.items(),key=lambda x:x[1],reverse=True)\n",
    "ram_array_counter_sorted"
   ]
  }
 ],
 "metadata": {
  "interpreter": {
   "hash": "c156cbd56f2befb501b04e4bcafbb3ceb498087e79117ebbae5589b514d9d978"
  },
  "kernelspec": {
   "display_name": "Python 3.9.7 64-bit ('miniconda3')",
   "language": "python",
   "name": "python3"
  },
  "language_info": {
   "codemirror_mode": {
    "name": "ipython",
    "version": 3
   },
   "file_extension": ".py",
   "mimetype": "text/x-python",
   "name": "python",
   "nbconvert_exporter": "python",
   "pygments_lexer": "ipython3",
   "version": "3.9.7"
  },
  "orig_nbformat": 4
 },
 "nbformat": 4,
 "nbformat_minor": 2
}
